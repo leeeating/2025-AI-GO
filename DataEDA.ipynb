{
 "cells": [
  {
   "cell_type": "code",
   "execution_count": 1,
   "metadata": {},
   "outputs": [],
   "source": [
    "import numpy as np\n",
    "import pandas as pd\n",
    "import seaborn as sns\n",
    "import matplotlib.pyplot as plt\n",
    "import warnings\n",
    "warnings.filterwarnings(\"ignore\")"
   ]
  },
  {
   "cell_type": "code",
   "execution_count": 20,
   "metadata": {},
   "outputs": [],
   "source": [
    "retrain27 = pd.read_csv('./smt/retrain27.csv')\n",
    "guess1_df = pd.read_csv('./testing/137_correct.csv')"
   ]
  },
  {
   "cell_type": "code",
   "execution_count": 21,
   "metadata": {},
   "outputs": [
    {
     "name": "stdout",
     "output_type": "stream",
     "text": [
      "Length of list0: 82, Length of list1: 139\n",
      "Length of all_idx: 221\n"
     ]
    }
   ],
   "source": [
    "wrong_ids_numeric = [780,856,1525,1529,1734,1765,1894,2411,2579,2731,\n",
    "                     2844,3015,3061,3479,3644,4014,4018,4160,4525,4598,\n",
    "                     4662,4716,5338,5375,6722,6833,6898,7555,7577,7613,\n",
    "                     7752,8484,8649,8806,8818,8831,8867,9251,9316,9997,10040,\n",
    "                     10094,10288,10994,11999,12320,12502,12519,12893,13181,14040,\n",
    "                     14120,14467,15676,15749,16575,16995,17790,18104,18305,18526,\n",
    "                     18804,18850,19364,20029,21654,21842,22045,22141,22570,23197,\n",
    "                     23492,23508,23557,23976,24221,24661,20846,23197,22141,24487,2686]\n",
    "\n",
    "list0 = np.array(wrong_ids_numeric) - 1\n",
    "list1 = np.where(guess1_df['飆股'])[0]\n",
    "print(f\"Length of list0: {len(list0)}, Length of list1: {len(list1)}\")\n",
    "all_idx = np.concatenate((list0, list1))\n",
    "print(f\"Length of all_idx: {len(all_idx)}\")"
   ]
  },
  {
   "cell_type": "code",
   "execution_count": 22,
   "metadata": {},
   "outputs": [],
   "source": [
    "for idx in all_idx:\n",
    "    retrain27.iloc[idx, 1] = 0"
   ]
  },
  {
   "cell_type": "code",
   "execution_count": 24,
   "metadata": {},
   "outputs": [],
   "source": [
    "retrain27[:25108].to_csv('./test32.csv', index=False)"
   ]
  }
 ],
 "metadata": {
  "kernelspec": {
   "display_name": "aicup",
   "language": "python",
   "name": "python3"
  },
  "language_info": {
   "codemirror_mode": {
    "name": "ipython",
    "version": 3
   },
   "file_extension": ".py",
   "mimetype": "text/x-python",
   "name": "python",
   "nbconvert_exporter": "python",
   "pygments_lexer": "ipython3",
   "version": "3.10.16"
  }
 },
 "nbformat": 4,
 "nbformat_minor": 2
}
