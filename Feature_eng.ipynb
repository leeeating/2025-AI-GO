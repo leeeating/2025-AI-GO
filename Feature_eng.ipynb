{
 "cells": [
  {
   "cell_type": "code",
   "execution_count": 1,
   "metadata": {},
   "outputs": [],
   "source": [
    "import numpy as np\n",
    "import pandas as pd\n",
    "import matplotlib.pyplot as plt\n",
    "import seaborn as sns\n",
    "import lightgbm as lgb"
   ]
  },
  {
   "cell_type": "code",
   "execution_count": 2,
   "metadata": {},
   "outputs": [],
   "source": [
    "df = pd.read_parquet('Data/training_feature_v1.parquet')\n",
    "label = df.iloc[:, -1].values\n",
    "mask = (label == 1)"
   ]
  },
  {
   "cell_type": "code",
   "execution_count": 4,
   "metadata": {},
   "outputs": [
    {
     "ename": "NameError",
     "evalue": "name 'y' is not defined",
     "output_type": "error",
     "traceback": [
      "\u001b[0;31m---------------------------------------------------------------------------\u001b[0m",
      "\u001b[0;31mNameError\u001b[0m                                 Traceback (most recent call last)",
      "Cell \u001b[0;32mIn[4], line 5\u001b[0m\n\u001b[1;32m      1\u001b[0m \u001b[38;5;28;01mfrom\u001b[39;00m\u001b[38;5;250m \u001b[39m\u001b[38;5;21;01msklearn\u001b[39;00m\u001b[38;5;21;01m.\u001b[39;00m\u001b[38;5;21;01mmodel_selection\u001b[39;00m\u001b[38;5;250m \u001b[39m\u001b[38;5;28;01mimport\u001b[39;00m train_test_split\n\u001b[1;32m      3\u001b[0m idx \u001b[38;5;241m=\u001b[39m np\u001b[38;5;241m.\u001b[39marange(\u001b[38;5;28mlen\u001b[39m(label))\n\u001b[0;32m----> 5\u001b[0m X_train, X_test, y_train, y_test, idx_train, idx_test \u001b[38;5;241m=\u001b[39m train_test_split(idx, \u001b[43my\u001b[49m, test_size\u001b[38;5;241m=\u001b[39m\u001b[38;5;241m0.2\u001b[39m, stratify\u001b[38;5;241m=\u001b[39my, random_state\u001b[38;5;241m=\u001b[39m\u001b[38;5;241m42\u001b[39m)\n\u001b[1;32m      6\u001b[0m \u001b[38;5;28mprint\u001b[39m(X_train)\n",
      "\u001b[0;31mNameError\u001b[0m: name 'y' is not defined"
     ]
    }
   ],
   "source": [
    "from sklearn.model_selection import train_test_split\n",
    "\n",
    "idx = np.arange(len(label))\n",
    "\n",
    "X_train, X_test, y_train, y_test, idx_train, idx_test = train_test_split(idx, y, test_size=0.2, stratify=y, random_state=42)\n",
    "print(X_train)"
   ]
  },
  {
   "cell_type": "markdown",
   "metadata": {},
   "source": [
    "## Lambda"
   ]
  },
  {
   "cell_type": "code",
   "execution_count": 69,
   "metadata": {},
   "outputs": [
    {
     "data": {
      "text/plain": [
       "(3442, 15)"
      ]
     },
     "execution_count": 69,
     "metadata": {},
     "output_type": "execute_result"
    }
   ],
   "source": [
    "gain_la = pd.read_csv('feat_v4/gain.csv', index_col=0)\n",
    "gain_la.shape"
   ]
  },
  {
   "cell_type": "code",
   "execution_count": 77,
   "metadata": {},
   "outputs": [
    {
     "data": {
      "text/plain": [
       "(32, 2)"
      ]
     },
     "execution_count": 77,
     "metadata": {},
     "output_type": "execute_result"
    }
   ],
   "source": [
    "res = {}\n",
    "\n",
    "for i in range(15):\n",
    "    rank = gain_la.iloc[:, i].nlargest(100).index\n",
    "    for item in rank:\n",
    "        if item not in res:\n",
    "            res[item] = 0\n",
    "        res[item] += 1\n",
    "        \n",
    "res = pd.DataFrame(res.items(), columns=['feature', 'rank'])\n",
    "res.query('rank >= 15').shape"
   ]
  },
  {
   "cell_type": "code",
   "execution_count": 60,
   "metadata": {},
   "outputs": [],
   "source": [
    "seeds = [311, 788, 2789, 4248, 8866]"
   ]
  },
  {
   "cell_type": "code",
   "execution_count": 61,
   "metadata": {},
   "outputs": [
    {
     "data": {
      "application/vnd.microsoft.datawrangler.viewer.v0+json": {
       "columns": [
        {
         "name": "index",
         "rawType": "object",
         "type": "string"
        },
        {
         "name": "311",
         "rawType": "float64",
         "type": "float"
        },
        {
         "name": "788",
         "rawType": "float64",
         "type": "float"
        },
        {
         "name": "2789",
         "rawType": "float64",
         "type": "float"
        },
        {
         "name": "4248",
         "rawType": "float64",
         "type": "float"
        },
        {
         "name": "8866",
         "rawType": "float64",
         "type": "float"
        }
       ],
       "conversionMethod": "pd.DataFrame",
       "ref": "4c3f14c9-80b5-4a16-a72e-e3b89ebbc7d5",
       "rows": [
        [
         "技術指標_月RSI(10)",
         "3.6046081094880176",
         "18.036510384375074",
         "7.217466734701894",
         "14.431574573339235",
         "10.82898667369469"
        ],
        [
         "技術指標_乖離率(20日)",
         "0.33273511951227375",
         "1.6282636811543756",
         "0.6575846052960934",
         "1.3025112492348894",
         "0.9734302169701634"
        ],
        [
         "技術指標_W%R(5)",
         "0.022072735317532236",
         "0.10633987478135488",
         "0.043409798820293034",
         "0.08591898982539732",
         "0.06387625300750535"
        ],
        [
         "主力券商_前19天分點進出",
         "0.00037928022061125313",
         "0.0008534454144986316",
         "0.0006603342121517233",
         "0.0006603342121517233",
         "0.0006603342121517233"
        ],
        [
         "個股券商分點區域分析_近1日賣超2分點區域密度",
         "0.004669315766831235",
         "0.018654372498857066",
         "0.008708102119943554",
         "0.015537340861516395",
         "0.011942869383289433"
        ],
        [
         "個股10天乖離率",
         "0.20381119694983632",
         "1.033805904414082",
         "0.409622598238268",
         "0.8224345873986552",
         "0.6103018774959404"
        ],
        [
         "上市加權指數收盤價",
         "0.06022197532058704",
         "0.3218185377109692",
         "0.1345658155829335",
         "0.2672709922172524",
         "0.19748074726324044"
        ],
        [
         "個股券商分點區域分析_近60日成交3分點區域密度",
         "0.004557894851617811",
         "0.021892392597859273",
         "0.009078461152484608",
         "0.017847039306120534",
         "0.01357957146790863"
        ],
        [
         "季IFRS財報_稅前純益佔實收資本比率(%)",
         "0.023209868941174855",
         "0.09071571927652544",
         "0.04129214697506575",
         "0.07205308205586149",
         "0.05785446576198163"
        ],
        [
         "買超第5名分點前4天買均值(千)",
         "0.003154929114996771",
         "0.015401142993730181",
         "0.006819365641632652",
         "0.012982463670498072",
         "0.009122912050027914"
        ],
        [
         "技術指標_季K(9)",
         "0.376597949511719",
         "1.9055377323679774",
         "0.7572179310194436",
         "1.526262241242098",
         "1.1404872102089574"
        ],
        [
         "季IFRS財報_原始每股營業現金流量(元)",
         "0.009737987693432697",
         "0.04073828338905136",
         "0.01754236695092243",
         "0.03299950028443461",
         "0.02446193952329432"
        ],
        [
         "上市加權指數20天波動度",
         "0.18240011209356116",
         "0.9781191120757429",
         "0.38802385553882845",
         "0.7659806701188746",
         "0.5873842161385404"
        ],
        [
         "技術指標_週RSI(10)",
         "0.12241754826946562",
         "0.5970369562568387",
         "0.24728425111714217",
         "0.4831606880908398",
         "0.3589352006752391"
        ],
        [
         "個股主力買賣超統計_近20日主力買賣超",
         "0.011611382744137384",
         "0.05446223316990219",
         "0.020790489340391138",
         "0.04484523001800203",
         "0.031384121278562535"
        ],
        [
         "個股19天乖離率",
         "0.5130343509399911",
         "2.5873977854107952",
         "1.0437165007073979",
         "2.0754833807335342",
         "1.5552231130555711"
        ],
        [
         "技術指標_季-DI(14)",
         "0.023346431281954825",
         "0.12050403633654305",
         "0.045496197125696324",
         "0.09161716881408669",
         "0.06411454076364916"
        ],
        [
         "日自營_自營商買賣超(自行買賣)",
         "0.02886069875052463",
         "0.12908344124619492",
         "0.058752062756600484",
         "0.10442375253902252",
         "0.07752698743271627"
        ],
        [
         "技術指標_月RSI(5)",
         "0.054678385120830245",
         "0.23787564761810692",
         "0.10107373878236453",
         "0.19620111899970838",
         "0.15060788449768298"
        ],
        [
         "外資券商_前20天分點買賣力",
         "0.003656513980498585",
         "0.012471614586315728",
         "0.006926261529818443",
         "0.01041605687895568",
         "0.00813199835321382"
        ],
        [
         "上市加權指數10天乖離率",
         "0.049252654372564535",
         "0.2521321752882712",
         "0.09662504268712405",
         "0.2055620983293345",
         "0.1479291056431065"
        ],
        [
         "主力券商_前6天分點出貨比(%)",
         "0.011929886052376597",
         "0.04097888808170056",
         "0.017841633229522195",
         "0.034946485449154366",
         "0.027016575114559124"
        ],
        [
         "外資券商_前18天分點進出",
         "0.014472427592636325",
         "0.06579323566104049",
         "0.028054215480899737",
         "0.052767790304745224",
         "0.040193106130703454"
        ],
        [
         "技術指標_RSI(10)",
         "0.5570096103168639",
         "2.7630996267376324",
         "1.1089378639787921",
         "2.2125871445957745",
         "1.663179607902251"
        ],
        [
         "技術指標_W%R(10)",
         "0.017433836287424113",
         "0.07970848383813504",
         "0.038790369779300275",
         "0.06493809822483794",
         "0.05114243484740456"
        ],
        [
         "個股前3天成交量",
         "0.005506114991449935",
         "0.021747306901144865",
         "0.009691679815727753",
         "0.018483268024667716",
         "0.015658968311144366"
        ],
        [
         "個股券商分點區域分析_近60日買超5分點區域密度",
         "0.0068348120246824315",
         "0.027230535397893774",
         "0.013139695897988985",
         "0.022943959023875714",
         "0.017615621813811"
        ],
        [
         "上市加權指數前6天收盤價",
         "0.12556884377538816",
         "0.6939043024734886",
         "0.26634063084262605",
         "0.5305505165257544",
         "0.3960600864892932"
        ],
        [
         "技術指標_Beta係數(21D)",
         "0.01566993220905549",
         "0.0730776982361628",
         "0.03260022034282205",
         "0.06005338576532344",
         "0.04693275396552291"
        ],
        [
         "買超第14名分點前3天買均值(千)",
         "0.006645554181275662",
         "0.039278336315563545",
         "0.013921944612481238",
         "0.028516172839961107",
         "0.020049579338766554"
        ],
        [
         "賣超第5名分點前10天買均張",
         "0.0016921661754802394",
         "0.0051838910751459315",
         "0.002066066832111506",
         "0.0037827852793505833",
         "0.00300964964900386"
        ],
        [
         "主力券商_前1天分點進出",
         "0.0008414544963847553",
         "0.002483520417164673",
         "0.002298904056637129",
         "0.002483520417164673",
         "0.0023831796153958406"
        ],
        [
         "個股券商分點籌碼分析_買進分佈係數",
         "0.03549008824232981",
         "0.17293008668399298",
         "0.06628704530706825",
         "0.14527486799121409",
         "0.10617131784735066"
        ],
        [
         "外資券商_前6天分點買賣力",
         "0.005218643628028442",
         "0.017728448643018334",
         "0.008284716857804835",
         "0.014472718251468085",
         "0.01096511730295697"
        ],
        [
         "個股1天報酬率",
         "0.008857715880524085",
         "0.05691033008750654",
         "0.023672128561169344",
         "0.04497410999929631",
         "0.03497341512566439"
        ],
        [
         "官股券商_持股比率(%)",
         "0.037336197706359785",
         "0.17207901295497932",
         "0.07153195831817456",
         "0.13484068260488916",
         "0.10475595006894657"
        ],
        [
         "上市加權指數10天報酬率",
         "0.20078917678657962",
         "0.9639730573178924",
         "0.3861688248139997",
         "0.7730963403424542",
         "0.5873969282975042"
        ],
        [
         "個股券商分點區域分析_近5日賣超3公司區域密度",
         "0.0022775889453979336",
         "0.008604228252529378",
         "0.0034830092798171027",
         "0.006013467585920806",
         "0.004878595591303146"
        ],
        [
         "技術指標_近三月歷史波動率(%)",
         "0.00890045533311077",
         "0.0366588958311002",
         "0.015931604052213087",
         "0.028297493818036135",
         "0.021400449419296502"
        ],
        [
         "主力券商_前3天分點買賣力",
         "0.006925398707624129",
         "0.03535068310421655",
         "0.015050396072442372",
         "0.029846477269425773",
         "0.02262121082696472"
        ],
        [
         "技術指標_相對強弱比(週)",
         "0.2632291683513717",
         "1.2762222507776668",
         "0.5201839026623848",
         "1.0277836729110539",
         "0.7787082236869319"
        ],
        [
         "季IFRS財報_稅前資產報酬率累季(%)",
         "0.008423862892120831",
         "0.04909306654192252",
         "0.01675825319218549",
         "0.034323923941161974",
         "0.024792922617793037"
        ],
        [
         "官股券商_買金額(千)",
         "0.029112004109136717",
         "0.14280245054762855",
         "0.05524759364362756",
         "0.11278610906462172",
         "0.08334516048396691"
        ],
        [
         "買超第2名分點前8天買筆數",
         "0.0004174522770475689",
         "0.00974764090422704",
         "0.002475511034960739",
         "0.007597582855237204",
         "0.004932661851020633"
        ],
        [
         "技術指標_RSI(5)",
         "0.06984208035924816",
         "0.3609988979701205",
         "0.13951052002208242",
         "0.2873359772068751",
         "0.21250063762585733"
        ],
        [
         "外資券商_前1天分點成交力(%)",
         "0.014496127319753777",
         "0.05804720111753961",
         "0.026979633072216697",
         "0.047666260809190834",
         "0.038344572859807885"
        ],
        [
         "外資券商_前18天分點成交力(%)",
         "0.005622119934402625",
         "0.02732083549939382",
         "0.010394248729641497",
         "0.022995981249264864",
         "0.01779632210555647"
        ],
        [
         "買超第1名分點前13天買均值(千)",
         "0.006427580152830323",
         "0.040702806829717976",
         "0.015785072579152886",
         "0.029754584729226118",
         "0.025222957412479135"
        ],
        [
         "賣超第4名分點前4天買均值(千)",
         "0.0012535056115167062",
         "0.0070611142591977104",
         "0.0023966535468524426",
         "0.005011627859398977",
         "0.004391751212776628"
        ],
        [
         "買超第9名分點前11天買均張",
         "0.004957261636780971",
         "0.023983853619078007",
         "0.010793957776512791",
         "0.01889052149261927",
         "0.016428279052843834"
        ]
       ],
       "shape": {
        "columns": 5,
        "rows": 3442
       }
      },
      "text/html": [
       "<div>\n",
       "<style scoped>\n",
       "    .dataframe tbody tr th:only-of-type {\n",
       "        vertical-align: middle;\n",
       "    }\n",
       "\n",
       "    .dataframe tbody tr th {\n",
       "        vertical-align: top;\n",
       "    }\n",
       "\n",
       "    .dataframe thead th {\n",
       "        text-align: right;\n",
       "    }\n",
       "</style>\n",
       "<table border=\"1\" class=\"dataframe\">\n",
       "  <thead>\n",
       "    <tr style=\"text-align: right;\">\n",
       "      <th></th>\n",
       "      <th>311</th>\n",
       "      <th>788</th>\n",
       "      <th>2789</th>\n",
       "      <th>4248</th>\n",
       "      <th>8866</th>\n",
       "    </tr>\n",
       "  </thead>\n",
       "  <tbody>\n",
       "    <tr>\n",
       "      <th>技術指標_月RSI(10)</th>\n",
       "      <td>3.604608</td>\n",
       "      <td>18.036510</td>\n",
       "      <td>7.217467</td>\n",
       "      <td>14.431575</td>\n",
       "      <td>10.828987</td>\n",
       "    </tr>\n",
       "    <tr>\n",
       "      <th>技術指標_乖離率(20日)</th>\n",
       "      <td>0.332735</td>\n",
       "      <td>1.628264</td>\n",
       "      <td>0.657585</td>\n",
       "      <td>1.302511</td>\n",
       "      <td>0.973430</td>\n",
       "    </tr>\n",
       "    <tr>\n",
       "      <th>技術指標_W%R(5)</th>\n",
       "      <td>0.022073</td>\n",
       "      <td>0.106340</td>\n",
       "      <td>0.043410</td>\n",
       "      <td>0.085919</td>\n",
       "      <td>0.063876</td>\n",
       "    </tr>\n",
       "    <tr>\n",
       "      <th>主力券商_前19天分點進出</th>\n",
       "      <td>0.000379</td>\n",
       "      <td>0.000853</td>\n",
       "      <td>0.000660</td>\n",
       "      <td>0.000660</td>\n",
       "      <td>0.000660</td>\n",
       "    </tr>\n",
       "    <tr>\n",
       "      <th>個股券商分點區域分析_近1日賣超2分點區域密度</th>\n",
       "      <td>0.004669</td>\n",
       "      <td>0.018654</td>\n",
       "      <td>0.008708</td>\n",
       "      <td>0.015537</td>\n",
       "      <td>0.011943</td>\n",
       "    </tr>\n",
       "    <tr>\n",
       "      <th>...</th>\n",
       "      <td>...</td>\n",
       "      <td>...</td>\n",
       "      <td>...</td>\n",
       "      <td>...</td>\n",
       "      <td>...</td>\n",
       "    </tr>\n",
       "    <tr>\n",
       "      <th>買超第13名分點前9天賣均張</th>\n",
       "      <td>0.005097</td>\n",
       "      <td>0.022286</td>\n",
       "      <td>0.009507</td>\n",
       "      <td>0.018254</td>\n",
       "      <td>0.013640</td>\n",
       "    </tr>\n",
       "    <tr>\n",
       "      <th>賣超第4名分點前11天買筆數</th>\n",
       "      <td>0.000930</td>\n",
       "      <td>0.002544</td>\n",
       "      <td>0.000930</td>\n",
       "      <td>0.002544</td>\n",
       "      <td>0.002113</td>\n",
       "    </tr>\n",
       "    <tr>\n",
       "      <th>賣超第12名分點前6天賣筆數</th>\n",
       "      <td>0.001799</td>\n",
       "      <td>0.002674</td>\n",
       "      <td>0.001689</td>\n",
       "      <td>0.002241</td>\n",
       "      <td>0.001689</td>\n",
       "    </tr>\n",
       "    <tr>\n",
       "      <th>買超第13名分點前13天金額增減(千)</th>\n",
       "      <td>0.005041</td>\n",
       "      <td>0.008590</td>\n",
       "      <td>0.006720</td>\n",
       "      <td>0.008590</td>\n",
       "      <td>0.007400</td>\n",
       "    </tr>\n",
       "    <tr>\n",
       "      <th>買超第3名分點前5天張增減</th>\n",
       "      <td>0.000567</td>\n",
       "      <td>0.003354</td>\n",
       "      <td>0.001555</td>\n",
       "      <td>0.002948</td>\n",
       "      <td>0.001942</td>\n",
       "    </tr>\n",
       "  </tbody>\n",
       "</table>\n",
       "<p>3442 rows × 5 columns</p>\n",
       "</div>"
      ],
      "text/plain": [
       "                             311        788       2789       4248       8866\n",
       "技術指標_月RSI(10)            3.604608  18.036510  7.217467  14.431575  10.828987\n",
       "技術指標_乖離率(20日)            0.332735   1.628264  0.657585   1.302511   0.973430\n",
       "技術指標_W%R(5)              0.022073   0.106340  0.043410   0.085919   0.063876\n",
       "主力券商_前19天分點進出            0.000379   0.000853  0.000660   0.000660   0.000660\n",
       "個股券商分點區域分析_近1日賣超2分點區域密度  0.004669   0.018654  0.008708   0.015537   0.011943\n",
       "...                           ...        ...       ...        ...        ...\n",
       "買超第13名分點前9天賣均張           0.005097   0.022286  0.009507   0.018254   0.013640\n",
       "賣超第4名分點前11天買筆數           0.000930   0.002544  0.000930   0.002544   0.002113\n",
       "賣超第12名分點前6天賣筆數           0.001799   0.002674  0.001689   0.002241   0.001689\n",
       "買超第13名分點前13天金額增減(千)      0.005041   0.008590  0.006720   0.008590   0.007400\n",
       "買超第3名分點前5天張增減            0.000567   0.003354  0.001555   0.002948   0.001942\n",
       "\n",
       "[3442 rows x 5 columns]"
      ]
     },
     "execution_count": 61,
     "metadata": {},
     "output_type": "execute_result"
    }
   ],
   "source": [
    "pos_shaps = {}\n",
    "\n",
    "for seed in seeds:\n",
    "    shap_df = pd.read_parquet(f'feat_v4/shap/shap{seed}.parquet')\n",
    "    pos_shap_df = shap_df[mask]\n",
    "    pos_shap = pos_shap_df.abs().mean(axis=0)\n",
    "    pos_shaps[seed] = pos_shap\n",
    "pos_shap_df = pd.DataFrame(pos_shaps)\n",
    "pos_shap_df"
   ]
  },
  {
   "cell_type": "code",
   "execution_count": 67,
   "metadata": {},
   "outputs": [],
   "source": [
    "pos_shap_df.to_csv('feat_v4/pos_shap_abs_mean.csv')"
   ]
  },
  {
   "cell_type": "code",
   "execution_count": 65,
   "metadata": {},
   "outputs": [
    {
     "data": {
      "application/vnd.microsoft.datawrangler.viewer.v0+json": {
       "columns": [
        {
         "name": "index",
         "rawType": "int64",
         "type": "integer"
        },
        {
         "name": "num",
         "rawType": "int64",
         "type": "integer"
        },
        {
         "name": "top",
         "rawType": "int64",
         "type": "integer"
        },
        {
         "name": "cum",
         "rawType": "int64",
         "type": "integer"
        }
       ],
       "conversionMethod": "pd.DataFrame",
       "ref": "1e50db9c-19da-45a9-89c1-3db19eb7e147",
       "rows": [
        [
         "15",
         "2331",
         "2000",
         "1"
        ],
        [
         "16",
         "2139",
         "2000",
         "2"
        ],
        [
         "17",
         "1999",
         "2000",
         "3"
        ],
        [
         "18",
         "1860",
         "2000",
         "4"
        ],
        [
         "10",
         "1794",
         "1500",
         "1"
        ],
        [
         "19",
         "1671",
         "2000",
         "5"
        ],
        [
         "11",
         "1606",
         "1500",
         "2"
        ],
        [
         "12",
         "1479",
         "1500",
         "3"
        ],
        [
         "13",
         "1386",
         "1500",
         "4"
        ],
        [
         "14",
         "1235",
         "1500",
         "5"
        ],
        [
         "5",
         "1200",
         "1000",
         "1"
        ],
        [
         "6",
         "1063",
         "1000",
         "2"
        ],
        [
         "7",
         "991",
         "1000",
         "3"
        ],
        [
         "8",
         "917",
         "1000",
         "4"
        ],
        [
         "9",
         "829",
         "1000",
         "5"
        ],
        [
         "0",
         "586",
         "500",
         "1"
        ],
        [
         "1",
         "526",
         "500",
         "2"
        ],
        [
         "2",
         "500",
         "500",
         "3"
        ],
        [
         "3",
         "469",
         "500",
         "4"
        ],
        [
         "4",
         "419",
         "500",
         "5"
        ]
       ],
       "shape": {
        "columns": 3,
        "rows": 20
       }
      },
      "text/html": [
       "<div>\n",
       "<style scoped>\n",
       "    .dataframe tbody tr th:only-of-type {\n",
       "        vertical-align: middle;\n",
       "    }\n",
       "\n",
       "    .dataframe tbody tr th {\n",
       "        vertical-align: top;\n",
       "    }\n",
       "\n",
       "    .dataframe thead th {\n",
       "        text-align: right;\n",
       "    }\n",
       "</style>\n",
       "<table border=\"1\" class=\"dataframe\">\n",
       "  <thead>\n",
       "    <tr style=\"text-align: right;\">\n",
       "      <th></th>\n",
       "      <th>num</th>\n",
       "      <th>top</th>\n",
       "      <th>cum</th>\n",
       "    </tr>\n",
       "  </thead>\n",
       "  <tbody>\n",
       "    <tr>\n",
       "      <th>15</th>\n",
       "      <td>2331</td>\n",
       "      <td>2000</td>\n",
       "      <td>1</td>\n",
       "    </tr>\n",
       "    <tr>\n",
       "      <th>16</th>\n",
       "      <td>2139</td>\n",
       "      <td>2000</td>\n",
       "      <td>2</td>\n",
       "    </tr>\n",
       "    <tr>\n",
       "      <th>17</th>\n",
       "      <td>1999</td>\n",
       "      <td>2000</td>\n",
       "      <td>3</td>\n",
       "    </tr>\n",
       "    <tr>\n",
       "      <th>18</th>\n",
       "      <td>1860</td>\n",
       "      <td>2000</td>\n",
       "      <td>4</td>\n",
       "    </tr>\n",
       "    <tr>\n",
       "      <th>10</th>\n",
       "      <td>1794</td>\n",
       "      <td>1500</td>\n",
       "      <td>1</td>\n",
       "    </tr>\n",
       "    <tr>\n",
       "      <th>19</th>\n",
       "      <td>1671</td>\n",
       "      <td>2000</td>\n",
       "      <td>5</td>\n",
       "    </tr>\n",
       "    <tr>\n",
       "      <th>11</th>\n",
       "      <td>1606</td>\n",
       "      <td>1500</td>\n",
       "      <td>2</td>\n",
       "    </tr>\n",
       "    <tr>\n",
       "      <th>12</th>\n",
       "      <td>1479</td>\n",
       "      <td>1500</td>\n",
       "      <td>3</td>\n",
       "    </tr>\n",
       "    <tr>\n",
       "      <th>13</th>\n",
       "      <td>1386</td>\n",
       "      <td>1500</td>\n",
       "      <td>4</td>\n",
       "    </tr>\n",
       "    <tr>\n",
       "      <th>14</th>\n",
       "      <td>1235</td>\n",
       "      <td>1500</td>\n",
       "      <td>5</td>\n",
       "    </tr>\n",
       "    <tr>\n",
       "      <th>5</th>\n",
       "      <td>1200</td>\n",
       "      <td>1000</td>\n",
       "      <td>1</td>\n",
       "    </tr>\n",
       "    <tr>\n",
       "      <th>6</th>\n",
       "      <td>1063</td>\n",
       "      <td>1000</td>\n",
       "      <td>2</td>\n",
       "    </tr>\n",
       "    <tr>\n",
       "      <th>7</th>\n",
       "      <td>991</td>\n",
       "      <td>1000</td>\n",
       "      <td>3</td>\n",
       "    </tr>\n",
       "    <tr>\n",
       "      <th>8</th>\n",
       "      <td>917</td>\n",
       "      <td>1000</td>\n",
       "      <td>4</td>\n",
       "    </tr>\n",
       "    <tr>\n",
       "      <th>9</th>\n",
       "      <td>829</td>\n",
       "      <td>1000</td>\n",
       "      <td>5</td>\n",
       "    </tr>\n",
       "    <tr>\n",
       "      <th>0</th>\n",
       "      <td>586</td>\n",
       "      <td>500</td>\n",
       "      <td>1</td>\n",
       "    </tr>\n",
       "    <tr>\n",
       "      <th>1</th>\n",
       "      <td>526</td>\n",
       "      <td>500</td>\n",
       "      <td>2</td>\n",
       "    </tr>\n",
       "    <tr>\n",
       "      <th>2</th>\n",
       "      <td>500</td>\n",
       "      <td>500</td>\n",
       "      <td>3</td>\n",
       "    </tr>\n",
       "    <tr>\n",
       "      <th>3</th>\n",
       "      <td>469</td>\n",
       "      <td>500</td>\n",
       "      <td>4</td>\n",
       "    </tr>\n",
       "    <tr>\n",
       "      <th>4</th>\n",
       "      <td>419</td>\n",
       "      <td>500</td>\n",
       "      <td>5</td>\n",
       "    </tr>\n",
       "  </tbody>\n",
       "</table>\n",
       "</div>"
      ],
      "text/plain": [
       "     num   top  cum\n",
       "15  2331  2000    1\n",
       "16  2139  2000    2\n",
       "17  1999  2000    3\n",
       "18  1860  2000    4\n",
       "10  1794  1500    1\n",
       "19  1671  2000    5\n",
       "11  1606  1500    2\n",
       "12  1479  1500    3\n",
       "13  1386  1500    4\n",
       "14  1235  1500    5\n",
       "5   1200  1000    1\n",
       "6   1063  1000    2\n",
       "7    991  1000    3\n",
       "8    917  1000    4\n",
       "9    829  1000    5\n",
       "0    586   500    1\n",
       "1    526   500    2\n",
       "2    500   500    3\n",
       "3    469   500    4\n",
       "4    419   500    5"
      ]
     },
     "execution_count": 65,
     "metadata": {},
     "output_type": "execute_result"
    }
   ],
   "source": [
    "table = {\n",
    "    'num': [],\n",
    "    'top': [],\n",
    "    'cum': [],\n",
    "}\n",
    "\n",
    "for top in range(500, 2001, 500):\n",
    "    res = {}\n",
    "    for i in range(5):\n",
    "        rank = pos_shap_df.iloc[:, i].nlargest(top).index\n",
    "        for item in rank:\n",
    "            if item not in res:\n",
    "                res[item] = 0\n",
    "            res[item] += 1\n",
    "    res = pd.DataFrame(res.items(), columns=['feature', 'rank'])\n",
    "    for t in range(1, 6):\n",
    "        num = len(res.query(f'rank >= {t}'))\n",
    "        table['num'].append(num)\n",
    "        table['top'].append(top)\n",
    "        table['cum'].append(t)\n",
    "\n",
    "table = pd.DataFrame(table)\n",
    "table.sort_values('num', ascending=False)"
   ]
  },
  {
   "cell_type": "code",
   "execution_count": 66,
   "metadata": {},
   "outputs": [],
   "source": [
    "table.sort_values('num', ascending=False).to_csv('feat_v4/pos_shap_top_cum.csv', index=False)"
   ]
  },
  {
   "cell_type": "markdown",
   "metadata": {},
   "source": [
    "## Feature Select"
   ]
  },
  {
   "cell_type": "code",
   "execution_count": null,
   "metadata": {},
   "outputs": [],
   "source": [
    "gain = pd.read_csv('full_feat/fi_gain.csv', index_col=0)\n",
    "gain"
   ]
  },
  {
   "cell_type": "code",
   "execution_count": null,
   "metadata": {},
   "outputs": [],
   "source": [
    "res = {}\n",
    "\n",
    "for i in range(15):\n",
    "    rank = gain.iloc[:, i].nlargest(1500).index\n",
    "    for item in rank:\n",
    "        if item not in res:\n",
    "            res[item] = 0\n",
    "        res[item] += 1\n",
    "        \n",
    "res = pd.DataFrame(res.items(), columns=['feature', 'rank'])\n",
    "res.query('rank >= 11').shape"
   ]
  },
  {
   "cell_type": "code",
   "execution_count": null,
   "metadata": {},
   "outputs": [],
   "source": [
    "table = {\n",
    "    'num': [],\n",
    "    'top': [],\n",
    "    'cum': [],\n",
    "}\n",
    "\n",
    "for top in range(500, 3001, 500):\n",
    "    res = {}\n",
    "    for i in range(15):\n",
    "        rank = gain.iloc[:, i].nlargest(top).index\n",
    "        for item in rank:\n",
    "            if item not in res:\n",
    "                res[item] = 0\n",
    "            res[item] += 1\n",
    "    res = pd.DataFrame(res.items(), columns=['feature', 'rank'])\n",
    "    for t in range(7, 16):\n",
    "        num = len(res.query(f'rank >= {t}'))\n",
    "        table['num'].append(num)\n",
    "        table['top'].append(top)\n",
    "        table['cum'].append(t)\n",
    "\n",
    "table = pd.DataFrame(table)\n",
    "table.sort_values('num', ascending=False).to_csv('full_feat/fi_rank.csv', index=False)"
   ]
  },
  {
   "cell_type": "code",
   "execution_count": null,
   "metadata": {},
   "outputs": [],
   "source": [
    "shap_df = pd.read_parquet('feature_select/shap_values.parquet')\n",
    "new_shap_df = shap_df / 5\n",
    "new_shap_df"
   ]
  },
  {
   "cell_type": "code",
   "execution_count": null,
   "metadata": {},
   "outputs": [],
   "source": [
    "feature_si = pd.DataFrame({\n",
    "    'feature': new_shap_df.columns,\n",
    "    'sum': new_shap_df.sum().values,\n",
    "    'abs_sum': new_shap_df.abs().sum().values,\n",
    "    'mean': new_shap_df.mean().values,\n",
    "    'abs_mean': new_shap_df.abs().mean().values,\n",
    "    'std': new_shap_df.std().values,\n",
    "    'abs_std': new_shap_df.abs().std().values,\n",
    "    'medain': new_shap_df.median().values,\n",
    "    'abs_medain': new_shap_df.abs().median().values,\n",
    "})\n",
    "feature_si"
   ]
  },
  {
   "cell_type": "code",
   "execution_count": null,
   "metadata": {},
   "outputs": [],
   "source": [
    "y = df.iloc[:, -1]\n",
    "pos_mask = (y == 1)\n",
    "pos_shap_df = new_shap_df[pos_mask]\n",
    "pos_shap_df"
   ]
  },
  {
   "cell_type": "code",
   "execution_count": null,
   "metadata": {},
   "outputs": [],
   "source": [
    "pos_feature_si = pd.DataFrame({\n",
    "    'feature': pos_shap_df.columns,\n",
    "    'sum': pos_shap_df.sum().values,\n",
    "    'abs_sum': pos_shap_df.abs().sum().values,\n",
    "    'mean': pos_shap_df.mean().values,\n",
    "    'abs_mean': pos_shap_df.abs().mean().values,\n",
    "    'std': pos_shap_df.std().values,\n",
    "    'abs_std': pos_shap_df.abs().std().values,\n",
    "    'medain': pos_shap_df.median().values,\n",
    "    'abs_medain': pos_shap_df.abs().median().values,\n",
    "})\n",
    "\n",
    "# fi_shap_pos\n",
    "pos_feature_si"
   ]
  },
  {
   "cell_type": "markdown",
   "metadata": {},
   "source": [
    "## top 3000\n",
    "------"
   ]
  },
  {
   "cell_type": "markdown",
   "metadata": {},
   "source": [
    "### Gain"
   ]
  },
  {
   "cell_type": "code",
   "execution_count": null,
   "metadata": {},
   "outputs": [],
   "source": [
    "gain = pd.read_csv(filepath_or_buffer='top_3000/fi_gain.csv', index_col=0)\n",
    "gain.shape"
   ]
  },
  {
   "cell_type": "code",
   "execution_count": null,
   "metadata": {},
   "outputs": [],
   "source": [
    "res = {}\n",
    "\n",
    "for i in range(15):\n",
    "    rank = gain.iloc[:, i].nlargest(500).index\n",
    "    for item in rank:\n",
    "        if item not in res:\n",
    "            res[item] = 0\n",
    "        res[item] += 1\n",
    "        \n",
    "res = pd.DataFrame(res.items(), columns=['feature', 'rank'])\n",
    "res.query('rank >= 6').shape"
   ]
  },
  {
   "cell_type": "markdown",
   "metadata": {},
   "source": [
    "### Shap"
   ]
  },
  {
   "cell_type": "code",
   "execution_count": null,
   "metadata": {},
   "outputs": [],
   "source": [
    "shap_df = pd.read_parquet('top_3000/fi_shap.parquet')\n",
    "new_shap_df = shap_df / 5\n",
    "new_shap_df"
   ]
  },
  {
   "cell_type": "code",
   "execution_count": null,
   "metadata": {},
   "outputs": [],
   "source": [
    "feature_si = pd.DataFrame({\n",
    "    'feature': new_shap_df.columns,\n",
    "    'mean': new_shap_df.mean().values,\n",
    "    'abs_mean': new_shap_df.abs().mean().values,\n",
    "    'sum': new_shap_df.sum().values,\n",
    "    'abs_sum': new_shap_df.abs().sum().values,\n",
    "    'std': new_shap_df.std().values,\n",
    "    'abs_std': new_shap_df.abs().std().values,\n",
    "    'medain': new_shap_df.median().values,\n",
    "    'abs_medain': new_shap_df.abs().median().values,\n",
    "})\n",
    "feature_si"
   ]
  },
  {
   "cell_type": "code",
   "execution_count": null,
   "metadata": {},
   "outputs": [],
   "source": [
    "feature_si.sort_values(by='abs_mean', ascending=False)"
   ]
  },
  {
   "cell_type": "code",
   "execution_count": null,
   "metadata": {},
   "outputs": [],
   "source": [
    "label = df.iloc[:, -1]\n",
    "pos_mask = (label == 1)\n",
    "neg_mask = (label == 0)\n"
   ]
  },
  {
   "cell_type": "code",
   "execution_count": null,
   "metadata": {},
   "outputs": [],
   "source": [
    "neg_shap_df = new_shap_df[neg_mask]\n",
    "neg_shap_df"
   ]
  },
  {
   "cell_type": "code",
   "execution_count": null,
   "metadata": {},
   "outputs": [],
   "source": [
    "neg_shap_df.abs().mean(axis=1).sort_values(ascending=False)"
   ]
  }
 ],
 "metadata": {
  "kernelspec": {
   "display_name": "aicup",
   "language": "python",
   "name": "python3"
  },
  "language_info": {
   "codemirror_mode": {
    "name": "ipython",
    "version": 3
   },
   "file_extension": ".py",
   "mimetype": "text/x-python",
   "name": "python",
   "nbconvert_exporter": "python",
   "pygments_lexer": "ipython3",
   "version": "3.10.16"
  }
 },
 "nbformat": 4,
 "nbformat_minor": 2
}
