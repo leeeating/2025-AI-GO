{
 "cells": [
  {
   "cell_type": "code",
   "execution_count": 1,
   "id": "d2841dff",
   "metadata": {},
   "outputs": [],
   "source": [
    "import lightgbm as lgb\n",
    "import numpy as np\n",
    "import pandas as pd\n",
    "from tqdm import tqdm\n",
    "from sklearn.preprocessing import PowerTransformer, StandardScaler\n",
    "from sklearn.metrics import precision_recall_curve, precision_score, recall_score, f1_score, confusion_matrix\n",
    "from sklearn.model_selection import train_test_split\n",
    "\n",
    "def eval_all(preds, dtrain):\n",
    "    y_true = dtrain.get_label()\n",
    "    prec, recall, thresholds = precision_recall_curve(y_true, preds)\n",
    "    f1s = 2 * (prec * recall) / (prec + recall + 1e-10)\n",
    "    f1s[np.isnan(f1s)] = 0\n",
    "    best_idx = np.argmax(f1s)\n",
    "    return [\n",
    "            ('f1', f1s[best_idx], True),\n",
    "            ('precision', prec[best_idx], True),\n",
    "            ('recall', recall[best_idx], True),\n",
    "            ]"
   ]
  },
  {
   "cell_type": "code",
   "execution_count": 2,
   "id": "483504b1",
   "metadata": {},
   "outputs": [],
   "source": [
    "train_df = pd.read_parquet(\"../Data/training_feature_v1.parquet\")\n",
    "test_df = pd.read_parquet(\"../testing/X_all.parquet\")\n",
    "# sudo0_df = pd.read_csv(\"../smt/prc9/sudo_0.csv\") #180\n",
    "# sudo1_df = pd.read_csv(\"../smt/prc9/prc9_smt_127.csv\")\n",
    "\n",
    "# sudo1_df = pd.read_csv(\"../testing/true127.csv\")\n",
    "# sudo1_df= pd.read_csv('../testing/guess136.csv')\n",
    "tmpl = pd.read_csv('../testing/submission_template_public_and_private.csv')"
   ]
  },
  {
   "cell_type": "code",
   "execution_count": 3,
   "id": "c6421efe",
   "metadata": {},
   "outputs": [],
   "source": [
    "guess_df = pd.read_csv('../testing/guess142-2.csv')\n",
    "guess0_df = pd.read_csv('../testing/guess0_61.csv')"
   ]
  },
  {
   "cell_type": "code",
   "execution_count": 28,
   "id": "317a9961",
   "metadata": {},
   "outputs": [
    {
     "name": "stdout",
     "output_type": "stream",
     "text": [
      "Selected 677 features\n"
     ]
    }
   ],
   "source": [
    "NUM = 1000\n",
    "CUM = 8\n",
    "# ========== 讀取特徵重要性 ==========\n",
    "# gain = pd.read_csv(filepath_or_buffer=f'./pos_shap_abs_mean.csv', index_col=0)\n",
    "\n",
    "# method 1\n",
    "gain = pd.read_csv(filepath_or_buffer=f'./gain.csv', index_col=0)\n",
    "num_trails = gain.shape[1]\n",
    "\n",
    "res = {}\n",
    "for i in range(num_trails):\n",
    "    rank = gain.iloc[:, i].nlargest(n=NUM).index\n",
    "    for item in rank:\n",
    "        if item not in res:\n",
    "            res[item] = 0\n",
    "        res[item] += 1\n",
    "        \n",
    "rank_cnt = pd.DataFrame(res.items(), columns=['feature', 'rank'])\n",
    "selected_features = rank_cnt.query(f'rank >= {CUM}')['feature']\n",
    "print(f\"Selected {len(selected_features)} features\")\n",
    "del gain"
   ]
  },
  {
   "cell_type": "code",
   "execution_count": 37,
   "id": "c7113c19",
   "metadata": {},
   "outputs": [],
   "source": [
    "selected_features = pd.read_csv('../Data/common_features4.csv', header=0)['feature'].tolist()"
   ]
  },
  {
   "cell_type": "code",
   "execution_count": 39,
   "id": "cec0bce7",
   "metadata": {},
   "outputs": [],
   "source": [
    "X_train_all = train_df[selected_features]\n",
    "X_test = test_df[selected_features]\n",
    "y_train_all = train_df['飆股']\n",
    "scaler = PowerTransformer(method='yeo-johnson', standardize=True)\n",
    "# scaler = StandardScaler()\n",
    "\n",
    "X_train_test = scaler.fit_transform(np.concatenate([X_train_all, X_test], axis=0)) \n",
    "X_train_pt = X_train_test[:len(X_train_all)]\n",
    "X_test_pt = X_train_test[len(X_train_all):]"
   ]
  },
  {
   "cell_type": "code",
   "execution_count": 40,
   "id": "0ba06433",
   "metadata": {},
   "outputs": [
    {
     "name": "stdout",
     "output_type": "stream",
     "text": [
      "Length of zero index: 67\n",
      "Length of one index: 143\n",
      "Length of test index: 67\n"
     ]
    }
   ],
   "source": [
    "guess_df['飆股'] = guess_df['飆股'].astype(float)\n",
    "f_guess = guess_df.copy()\n",
    "zero_list = np.where(guess0_df[:25108]['飆股']==1)[0] + 1\n",
    "one_list = np.where(f_guess[:25108]['飆股']==1)[0] + 1\n",
    "guess_mer_df = pd.merge(guess_df, guess0_df, how='left', on='ID', suffixes=('_1', '_0'))\n",
    "\n",
    "zero_list_imp = [\n",
    "    20029, 14120, 13181, 7555, 780, \n",
    "    6722, 14467, 6833, 22570, 12519, \n",
    "    8806, 4160, 7613\n",
    "]\n",
    "one_list_imp = [15012, 12155, 23668, 19506]\n",
    "\n",
    "\n",
    "\n",
    "zero_np = np.array(zero_list) - 1\n",
    "one_np = np.array(one_list) - 1\n",
    "# known_idx = np.concatenate((zero_np, one_np))\n",
    "known_idx = zero_np\n",
    "# known_idx = one_np\n",
    "print(f\"Length of zero index: {len(zero_np)}\")\n",
    "print(f\"Length of one index: {len(one_np)}\")\n",
    "print(f\"Length of test index: {len(known_idx)}\")"
   ]
  },
  {
   "cell_type": "code",
   "execution_count": 41,
   "id": "61f18932",
   "metadata": {},
   "outputs": [],
   "source": [
    "X_train, X_val, y_train, y_val = train_test_split(X_train_pt, y_train_all, test_size=0.12,\n",
    "                                                   random_state=42, stratify=y_train_all)\n",
    "\n",
    "X_test_known = X_test_pt[known_idx]\n",
    "y_test_known = np.concatenate([np.zeros(len(zero_np)), np.ones(len(one_np))], axis=0)\n",
    "y_test_known = np.zeros(len(zero_np))\n",
    "# y_test_known = np.ones(len(one_np))\n",
    "\n",
    "X_train_aug = np.concatenate([X_train, X_test_known], axis=0)\n",
    "y_train_aug = np.concatenate([y_train, y_test_known], axis=0)\n",
    "\n",
    "rate = (y_train_all == 0).sum() / (y_train_all == 1).sum() \n",
    "sample_weight = np.where(y_train == 1, rate, 1)\n",
    "known_test_weight = np.where(y_test_known == 1, rate*0.5, rate)\n",
    "# known_test_weight = np.array([1] * len(y_test_known))\n",
    "sample_weight = np.concatenate([sample_weight, known_test_weight], axis=0)"
   ]
  },
  {
   "cell_type": "code",
   "execution_count": 45,
   "id": "042b888a",
   "metadata": {},
   "outputs": [
    {
     "name": "stderr",
     "output_type": "stream",
     "text": [
      "  3%|▋                           | 523/20000 [00:03<02:17, 141.90it/s]"
     ]
    },
    {
     "name": "stdout",
     "output_type": "stream",
     "text": [
      "[500]\tvalid's f1: 0.584906\tvalid's precision: 0.65493\tvalid's recall: 0.528409\n"
     ]
    },
    {
     "name": "stderr",
     "output_type": "stream",
     "text": [
      "  5%|█▎                         | 1018/20000 [00:07<02:13, 142.14it/s]"
     ]
    },
    {
     "name": "stdout",
     "output_type": "stream",
     "text": [
      "[1000]\tvalid's f1: 0.651899\tvalid's precision: 0.735714\tvalid's recall: 0.585227\n"
     ]
    },
    {
     "name": "stderr",
     "output_type": "stream",
     "text": [
      "  8%|██                         | 1528/20000 [00:10<02:10, 141.25it/s]"
     ]
    },
    {
     "name": "stdout",
     "output_type": "stream",
     "text": [
      "[1500]\tvalid's f1: 0.658824\tvalid's precision: 0.682927\tvalid's recall: 0.636364\n"
     ]
    },
    {
     "name": "stderr",
     "output_type": "stream",
     "text": [
      " 10%|██▋                        | 2027/20000 [00:14<02:07, 140.58it/s]"
     ]
    },
    {
     "name": "stdout",
     "output_type": "stream",
     "text": [
      "[2000]\tvalid's f1: 0.697819\tvalid's precision: 0.772414\tvalid's recall: 0.636364\n"
     ]
    },
    {
     "name": "stderr",
     "output_type": "stream",
     "text": [
      " 13%|███▍                       | 2528/20000 [00:17<02:03, 141.90it/s]"
     ]
    },
    {
     "name": "stdout",
     "output_type": "stream",
     "text": [
      "[2500]\tvalid's f1: 0.722581\tvalid's precision: 0.835821\tvalid's recall: 0.636364\n"
     ]
    },
    {
     "name": "stderr",
     "output_type": "stream",
     "text": [
      " 15%|████                       | 3025/20000 [00:21<02:02, 139.12it/s]"
     ]
    },
    {
     "name": "stdout",
     "output_type": "stream",
     "text": [
      "[3000]\tvalid's f1: 0.726073\tvalid's precision: 0.866142\tvalid's recall: 0.625\n"
     ]
    },
    {
     "name": "stderr",
     "output_type": "stream",
     "text": [
      " 18%|████▊                      | 3528/20000 [00:25<01:57, 140.34it/s]"
     ]
    },
    {
     "name": "stdout",
     "output_type": "stream",
     "text": [
      "[3500]\tvalid's f1: 0.729642\tvalid's precision: 0.854962\tvalid's recall: 0.636364\n"
     ]
    },
    {
     "name": "stderr",
     "output_type": "stream",
     "text": [
      " 20%|█████▍                     | 4016/20000 [00:28<01:55, 138.24it/s]"
     ]
    },
    {
     "name": "stdout",
     "output_type": "stream",
     "text": [
      "[4000]\tvalid's f1: 0.738854\tvalid's precision: 0.84058\tvalid's recall: 0.659091\n"
     ]
    },
    {
     "name": "stderr",
     "output_type": "stream",
     "text": [
      " 23%|██████                     | 4527/20000 [00:32<01:54, 134.97it/s]"
     ]
    },
    {
     "name": "stdout",
     "output_type": "stream",
     "text": [
      "[4500]\tvalid's f1: 0.745875\tvalid's precision: 0.889764\tvalid's recall: 0.642045\n"
     ]
    },
    {
     "name": "stderr",
     "output_type": "stream",
     "text": [
      " 25%|██████▊                    | 5019/20000 [00:36<01:49, 136.62it/s]"
     ]
    },
    {
     "name": "stdout",
     "output_type": "stream",
     "text": [
      "[5000]\tvalid's f1: 0.755556\tvalid's precision: 0.856115\tvalid's recall: 0.676136\n"
     ]
    },
    {
     "name": "stderr",
     "output_type": "stream",
     "text": [
      " 28%|███████▍                   | 5524/20000 [00:39<01:45, 136.86it/s]"
     ]
    },
    {
     "name": "stdout",
     "output_type": "stream",
     "text": [
      "[5500]\tvalid's f1: 0.753894\tvalid's precision: 0.834483\tvalid's recall: 0.6875\n"
     ]
    },
    {
     "name": "stderr",
     "output_type": "stream",
     "text": [
      " 30%|████████                   | 6014/20000 [00:43<01:43, 135.57it/s]"
     ]
    },
    {
     "name": "stdout",
     "output_type": "stream",
     "text": [
      "[6000]\tvalid's f1: 0.756757\tvalid's precision: 0.933333\tvalid's recall: 0.636364\n"
     ]
    },
    {
     "name": "stderr",
     "output_type": "stream",
     "text": [
      " 33%|████████▊                  | 6518/20000 [00:47<01:39, 136.06it/s]"
     ]
    },
    {
     "name": "stdout",
     "output_type": "stream",
     "text": [
      "[6500]\tvalid's f1: 0.767213\tvalid's precision: 0.906977\tvalid's recall: 0.664773\n"
     ]
    },
    {
     "name": "stderr",
     "output_type": "stream",
     "text": [
      " 35%|█████████▍                 | 7022/20000 [00:50<01:36, 134.73it/s]"
     ]
    },
    {
     "name": "stdout",
     "output_type": "stream",
     "text": [
      "[7000]\tvalid's f1: 0.771704\tvalid's precision: 0.888889\tvalid's recall: 0.681818\n"
     ]
    },
    {
     "name": "stderr",
     "output_type": "stream",
     "text": [
      " 38%|██████████▏                | 7526/20000 [00:54<01:33, 133.97it/s]"
     ]
    },
    {
     "name": "stdout",
     "output_type": "stream",
     "text": [
      "[7500]\tvalid's f1: 0.770227\tvalid's precision: 0.894737\tvalid's recall: 0.676136\n"
     ]
    },
    {
     "name": "stderr",
     "output_type": "stream",
     "text": [
      " 40%|██████████▊                | 8016/20000 [00:58<01:28, 135.35it/s]"
     ]
    },
    {
     "name": "stdout",
     "output_type": "stream",
     "text": [
      "[8000]\tvalid's f1: 0.782895\tvalid's precision: 0.929688\tvalid's recall: 0.676136\n"
     ]
    },
    {
     "name": "stderr",
     "output_type": "stream",
     "text": [
      " 43%|███████████▌               | 8520/20000 [01:01<01:25, 134.55it/s]"
     ]
    },
    {
     "name": "stdout",
     "output_type": "stream",
     "text": [
      "[8500]\tvalid's f1: 0.778878\tvalid's precision: 0.929134\tvalid's recall: 0.670455\n"
     ]
    },
    {
     "name": "stderr",
     "output_type": "stream",
     "text": [
      " 45%|████████████▏              | 9024/20000 [01:05<01:21, 134.07it/s]"
     ]
    },
    {
     "name": "stdout",
     "output_type": "stream",
     "text": [
      "[9000]\tvalid's f1: 0.771704\tvalid's precision: 0.888889\tvalid's recall: 0.681818\n"
     ]
    },
    {
     "name": "stderr",
     "output_type": "stream",
     "text": [
      " 48%|████████████▊              | 9523/20000 [01:09<01:15, 139.44it/s]"
     ]
    },
    {
     "name": "stdout",
     "output_type": "stream",
     "text": [
      "[9500]\tvalid's f1: 0.776316\tvalid's precision: 0.921875\tvalid's recall: 0.670455\n"
     ]
    },
    {
     "name": "stderr",
     "output_type": "stream",
     "text": [
      " 50%|█████████████             | 10023/20000 [01:12<01:06, 150.73it/s]"
     ]
    },
    {
     "name": "stdout",
     "output_type": "stream",
     "text": [
      "[10000]\tvalid's f1: 0.774603\tvalid's precision: 0.877698\tvalid's recall: 0.693182\n"
     ]
    },
    {
     "name": "stderr",
     "output_type": "stream",
     "text": [
      " 53%|█████████████▋            | 10519/20000 [01:15<01:01, 153.11it/s]"
     ]
    },
    {
     "name": "stdout",
     "output_type": "stream",
     "text": [
      "[10500]\tvalid's f1: 0.772152\tvalid's precision: 0.871429\tvalid's recall: 0.693182\n"
     ]
    },
    {
     "name": "stderr",
     "output_type": "stream",
     "text": [
      " 55%|██████████████▎           | 11018/20000 [01:19<00:55, 161.80it/s]"
     ]
    },
    {
     "name": "stdout",
     "output_type": "stream",
     "text": [
      "[11000]\tvalid's f1: 0.77116\tvalid's precision: 0.86014\tvalid's recall: 0.698864\n"
     ]
    },
    {
     "name": "stderr",
     "output_type": "stream",
     "text": [
      " 58%|██████████████▉           | 11528/20000 [01:22<00:50, 167.97it/s]"
     ]
    },
    {
     "name": "stdout",
     "output_type": "stream",
     "text": [
      "[11500]\tvalid's f1: 0.775244\tvalid's precision: 0.908397\tvalid's recall: 0.676136\n"
     ]
    },
    {
     "name": "stderr",
     "output_type": "stream",
     "text": [
      " 60%|███████████████▋          | 12027/20000 [01:25<00:47, 167.86it/s]"
     ]
    },
    {
     "name": "stdout",
     "output_type": "stream",
     "text": [
      "[12000]\tvalid's f1: 0.779221\tvalid's precision: 0.909091\tvalid's recall: 0.681818\n"
     ]
    },
    {
     "name": "stderr",
     "output_type": "stream",
     "text": [
      " 63%|████████████████▎         | 12530/20000 [01:28<00:43, 173.51it/s]"
     ]
    },
    {
     "name": "stdout",
     "output_type": "stream",
     "text": [
      "[12500]\tvalid's f1: 0.778135\tvalid's precision: 0.896296\tvalid's recall: 0.6875\n"
     ]
    },
    {
     "name": "stderr",
     "output_type": "stream",
     "text": [
      " 65%|████████████████▉         | 13033/20000 [01:31<00:40, 171.96it/s]"
     ]
    },
    {
     "name": "stdout",
     "output_type": "stream",
     "text": [
      "[13000]\tvalid's f1: 0.771704\tvalid's precision: 0.888889\tvalid's recall: 0.681818\n"
     ]
    },
    {
     "name": "stderr",
     "output_type": "stream",
     "text": [
      " 68%|█████████████████▌        | 13524/20000 [01:33<00:35, 179.89it/s]"
     ]
    },
    {
     "name": "stdout",
     "output_type": "stream",
     "text": [
      "[13500]\tvalid's f1: 0.772152\tvalid's precision: 0.871429\tvalid's recall: 0.693182\n"
     ]
    },
    {
     "name": "stderr",
     "output_type": "stream",
     "text": [
      " 70%|██████████████████▏       | 14018/20000 [01:36<00:33, 178.94it/s]"
     ]
    },
    {
     "name": "stdout",
     "output_type": "stream",
     "text": [
      "[14000]\tvalid's f1: 0.772277\tvalid's precision: 0.92126\tvalid's recall: 0.664773\n"
     ]
    },
    {
     "name": "stderr",
     "output_type": "stream",
     "text": [
      " 73%|██████████████████▉       | 14532/20000 [01:39<00:30, 179.69it/s]"
     ]
    },
    {
     "name": "stdout",
     "output_type": "stream",
     "text": [
      "[14500]\tvalid's f1: 0.77707\tvalid's precision: 0.884058\tvalid's recall: 0.693182\n"
     ]
    },
    {
     "name": "stderr",
     "output_type": "stream",
     "text": [
      " 75%|███████████████████▌      | 15029/20000 [01:42<00:27, 180.06it/s]"
     ]
    },
    {
     "name": "stdout",
     "output_type": "stream",
     "text": [
      "[15000]\tvalid's f1: 0.781759\tvalid's precision: 0.916031\tvalid's recall: 0.681818\n"
     ]
    },
    {
     "name": "stderr",
     "output_type": "stream",
     "text": [
      " 78%|████████████████████▏     | 15521/20000 [01:44<00:24, 183.88it/s]"
     ]
    },
    {
     "name": "stdout",
     "output_type": "stream",
     "text": [
      "[15500]\tvalid's f1: 0.780328\tvalid's precision: 0.922481\tvalid's recall: 0.676136\n"
     ]
    },
    {
     "name": "stderr",
     "output_type": "stream",
     "text": [
      " 80%|████████████████████▊     | 16034/20000 [01:47<00:21, 184.03it/s]"
     ]
    },
    {
     "name": "stdout",
     "output_type": "stream",
     "text": [
      "[16000]\tvalid's f1: 0.776316\tvalid's precision: 0.921875\tvalid's recall: 0.670455\n"
     ]
    },
    {
     "name": "stderr",
     "output_type": "stream",
     "text": [
      " 83%|█████████████████████▍    | 16528/20000 [01:50<00:18, 183.90it/s]"
     ]
    },
    {
     "name": "stdout",
     "output_type": "stream",
     "text": [
      "[16500]\tvalid's f1: 0.774194\tvalid's precision: 0.895522\tvalid's recall: 0.681818\n"
     ]
    },
    {
     "name": "stderr",
     "output_type": "stream",
     "text": [
      " 85%|██████████████████████▏   | 17022/20000 [01:53<00:16, 179.87it/s]"
     ]
    },
    {
     "name": "stdout",
     "output_type": "stream",
     "text": [
      "[17000]\tvalid's f1: 0.775244\tvalid's precision: 0.908397\tvalid's recall: 0.676136\n"
     ]
    },
    {
     "name": "stderr",
     "output_type": "stream",
     "text": [
      " 88%|██████████████████████▊   | 17536/20000 [01:55<00:13, 187.41it/s]"
     ]
    },
    {
     "name": "stdout",
     "output_type": "stream",
     "text": [
      "[17500]\tvalid's f1: 0.776699\tvalid's precision: 0.902256\tvalid's recall: 0.681818\n"
     ]
    },
    {
     "name": "stderr",
     "output_type": "stream",
     "text": [
      " 90%|███████████████████████▍  | 18033/20000 [01:58<00:10, 185.14it/s]"
     ]
    },
    {
     "name": "stdout",
     "output_type": "stream",
     "text": [
      "[18000]\tvalid's f1: 0.772727\tvalid's precision: 0.901515\tvalid's recall: 0.676136\n"
     ]
    },
    {
     "name": "stderr",
     "output_type": "stream",
     "text": [
      " 93%|████████████████████████  | 18528/20000 [02:01<00:07, 185.85it/s]"
     ]
    },
    {
     "name": "stdout",
     "output_type": "stream",
     "text": [
      "[18500]\tvalid's f1: 0.772727\tvalid's precision: 0.901515\tvalid's recall: 0.676136\n"
     ]
    },
    {
     "name": "stderr",
     "output_type": "stream",
     "text": [
      " 95%|████████████████████████▋ | 19028/20000 [02:03<00:05, 187.52it/s]"
     ]
    },
    {
     "name": "stdout",
     "output_type": "stream",
     "text": [
      "[19000]\tvalid's f1: 0.771704\tvalid's precision: 0.888889\tvalid's recall: 0.681818\n"
     ]
    },
    {
     "name": "stderr",
     "output_type": "stream",
     "text": [
      " 98%|█████████████████████████▍| 19522/20000 [02:06<00:02, 187.55it/s]"
     ]
    },
    {
     "name": "stdout",
     "output_type": "stream",
     "text": [
      "[19500]\tvalid's f1: 0.770227\tvalid's precision: 0.894737\tvalid's recall: 0.676136\n"
     ]
    },
    {
     "name": "stderr",
     "output_type": "stream",
     "text": [
      "                                                                      \r"
     ]
    },
    {
     "name": "stdout",
     "output_type": "stream",
     "text": [
      "[20000]\tvalid's f1: 0.769231\tvalid's precision: 0.882353\tvalid's recall: 0.681818\n",
      "Best iteration: 20000\n",
      "{'objective': 'binary', 'boosting_type': 'gbdt', 'metric': ['recall', 'f1', 'precision'], 'is_unbalance': True, 'verbosity': -1, 'learning_rate': 0.03, 'num_leaves': 16, 'max_depth': -1, 'min_data_in_leaf': 5, 'feature_fraction': 0.5, 'pos_bagging_fraction': 1, 'neg_bagging_fraction': 0.1, 'bagging_freq': 100, 'n_jobs': 30, 'num_iterations': 20000}\n"
     ]
    }
   ],
   "source": [
    "# lgb_train_set = lgb.Dataset(X_train, y_train)\n",
    "lgb_train_set = lgb.Dataset(X_train_aug, y_train_aug)\n",
    "# lgb_train_set = lgb.Dataset(X_train_aug, y_train_aug, weight=sample_weight)\n",
    "# lgb_train_set = lgb.Dataset(X_train_aug, y_train_aug)\n",
    "lgb_valid_set = lgb.Dataset(X_val, y_val, reference=lgb_train_set)\n",
    "\n",
    "\n",
    "params = {\n",
    "    'objective': 'binary',\n",
    "    'boosting_type': 'gbdt',\n",
    "    # 'data_sample_strategy': 'goss',\n",
    "    'metric': ['recall', 'f1', 'precision', ],\n",
    "    # 'metric': 'binary_logloss',\n",
    "    'is_unbalance': True,\n",
    "    # 'scale_pos_weight': 20,\n",
    "    'verbosity': -1,\n",
    "\n",
    "    'learning_rate': 0.03,\n",
    "    'num_leaves': 16,\n",
    "    'max_depth': -1,\n",
    "    'min_data_in_leaf': 5,\n",
    "    # 'feature_pre_filter': False,\n",
    "\n",
    "    'feature_fraction': 0.5,\n",
    "    # 'bagging_fraction': 0.75,\n",
    "    # 'top_rate': 0.25,\n",
    "    # 'other_rate': 0.5,\n",
    "    'pos_bagging_fraction': 1,\n",
    "    'neg_bagging_fraction': 0.1,\n",
    "    'bagging_freq': 100,\n",
    "\n",
    "    # 'lambda_l2': 0.05, \n",
    "\n",
    "    'n_jobs': 30,\n",
    "}\n",
    "\n",
    "model = lgb.train(\n",
    "    params,\n",
    "    train_set=lgb_train_set,\n",
    "    valid_sets=[lgb_valid_set],\n",
    "    valid_names=['valid'],\n",
    "    num_boost_round=20000,\n",
    "    feval=[eval_all,],\n",
    "    callbacks=[\n",
    "        # lgb.early_stopping(stopping_rounds=3000, first_metric_only=True, verbose=True),\n",
    "        lgb.log_evaluation(period=500),\n",
    "        ],\n",
    ")\n",
    "\n",
    "best_iter = model.current_iteration()\n",
    "print(f\"Best iteration: {best_iter}\")\n",
    "print(model.params)"
   ]
  },
  {
   "cell_type": "code",
   "execution_count": 43,
   "id": "0f8ea979",
   "metadata": {},
   "outputs": [
    {
     "name": "stdout",
     "output_type": "stream",
     "text": [
      "Best threshold: 0.0920, F1: 0.7862, Precision: 0.8803, Recall: 0.7102\n",
      "Validation num pos: 142\n",
      "Before retain,  Public test num pos: 124, Private test num pos: 140\n"
     ]
    }
   ],
   "source": [
    "val_prob = model.predict(data=X_val, n_jobs=30)\n",
    "\n",
    "prec, recall, thresholds = precision_recall_curve(y_val, val_prob)\n",
    "prec_lst = prec[:-1]\n",
    "rec_lst = recall[:-1]\n",
    "f1s = 2 * prec_lst * rec_lst / (prec_lst + rec_lst + 1e-10)\n",
    "best_idx = np.argmax(f1s)\n",
    "best_threshold_be = thresholds[best_idx]\n",
    "print(f\"Best threshold: {best_threshold_be:.4f}, F1: {f1s[best_idx]:.4f}, Precision: {prec[best_idx]:.4f}, Recall: {recall[best_idx]:.4f}\")\n",
    "val_pred_label = (val_prob >= best_threshold_be).astype(int)\n",
    "val_num_pos = np.unique(val_pred_label, return_counts=True)[1][1]\n",
    "print(f\"Validation num pos: {val_num_pos}\")\n",
    "\n",
    "\n",
    "test_prob = model.predict(data=X_test_pt)\n",
    "y_pred_label = (test_prob >= best_threshold_be).astype(int)\n",
    "public_test_num_pos = np.unique(y_pred_label[:25108], return_counts=True)[1][1]\n",
    "private_test_num_pos = np.unique(y_pred_label[25108:], return_counts=True)[1][1]\n",
    "print(f\"Before retain,  Public test num pos: {public_test_num_pos}, Private test num pos: {private_test_num_pos}\")"
   ]
  },
  {
   "cell_type": "code",
   "execution_count": null,
   "id": "d34c740e",
   "metadata": {},
   "outputs": [],
   "source": [
    "kk = pd.DataFrame({\n",
    "    'ID': tmpl['ID'],\n",
    "    'pred': y_pred_label,\n",
    "    'prob': test_prob,\n",
    "})[:25108]\n",
    "kk.merge(guess_mer_df, how='left', on='ID').sort_values(by=['prob','飆股_1', '飆股_0'], ascending=False).reset_index(drop=True)"
   ]
  },
  {
   "cell_type": "code",
   "execution_count": 44,
   "id": "2b01f273",
   "metadata": {},
   "outputs": [
    {
     "name": "stdout",
     "output_type": "stream",
     "text": [
      "True pos: 119, False pos: 0, False neg: 24, New pred: 5\n"
     ]
    }
   ],
   "source": [
    "true_pos = sum((y_pred_label[:25108] == 1) & (guess_mer_df[:25108]['飆股_1'] == 1))\n",
    "false_pos = sum((y_pred_label[:25108] == 1) & (guess_mer_df[:25108]['飆股_0'] == 1))\n",
    "false_neg = sum((y_pred_label[:25108] == 0) & (guess_mer_df[:25108]['飆股_1'] == 1))\n",
    "new_pred = sum((y_pred_label[:25108] == 1) & (guess_mer_df[:25108]['飆股_1'] == 0) & (guess_mer_df[:25108]['飆股_0'] == 0))\n",
    "print(f\"True pos: {true_pos}, False pos: {false_pos}, False neg: {false_neg}, New pred: {new_pred}\")"
   ]
  },
  {
   "cell_type": "code",
   "execution_count": null,
   "id": "060f8738",
   "metadata": {},
   "outputs": [],
   "source": [
    "pd.DataFrame({\n",
    "    'ID': kk['ID'],\n",
    "    '飆股': ((kk[:25108]['pred']==1) & ((guess_mer_df[:25108]['飆股_1']==0) & (guess_mer_df[:25108]['飆股_0']==0))).astype(int),\n",
    "}).sort_values(by=['飆股'], ascending=False)"
   ]
  },
  {
   "cell_type": "markdown",
   "id": "95f5c499",
   "metadata": {},
   "source": [
    "## Retrain"
   ]
  },
  {
   "cell_type": "code",
   "execution_count": null,
   "id": "7f5cd366",
   "metadata": {},
   "outputs": [],
   "source": [
    "re_weight = np.where(y_val == 1, rate, 1)\n",
    "re_sample_weight = np.concatenate([sample_weight, re_weight], axis=0)\n",
    "\n",
    "retrain_set = np.concat([X_train_aug, X_val], axis=0)\n",
    "retrain_label = np.concat([y_train_aug, y_val], axis=0)\n",
    "\n",
    "retrain_set = lgb.Dataset(retrain_set, label=retrain_label, weight=re_sample_weight)\n",
    "# retrain_set = lgb.Dataset(retrain_set, label=retrain_label, weight=retrain_sample_weight)\n",
    "\n",
    "\n",
    "final_model = lgb.train(\n",
    "    params,\n",
    "    train_set=retrain_set,\n",
    "    num_boost_round=best_iter,\n",
    ")"
   ]
  },
  {
   "cell_type": "code",
   "execution_count": null,
   "id": "c81754c0",
   "metadata": {},
   "outputs": [],
   "source": [
    "test_prob = final_model.predict(data=X_test_pt)\n",
    "y_pred_label = (test_prob >= best_threshold_be).astype(int)\n",
    "public_test_num_pos = np.unique(y_pred_label[:25108], return_counts=True)[1][1]\n",
    "private_test_num_pos = np.unique(y_pred_label[25108:], return_counts=True)[1][1]\n",
    "print(f\"After retain,  Public test num pos: {public_test_num_pos}, Private test num pos: {private_test_num_pos}\")"
   ]
  },
  {
   "cell_type": "code",
   "execution_count": null,
   "id": "d0a72784",
   "metadata": {},
   "outputs": [],
   "source": [
    "pd.DataFrame({\n",
    "    'ID': tmpl['ID'],\n",
    "    'pred': y_pred_label,\n",
    "    'prob': test_prob\n",
    "})[:25108].merge(f_guess, how='left', on='ID').sort_values(by=['pred','prob'], ascending=False).reset_index(drop=True)\n",
    "#.sort_values(by=['飆股','pred'], ascending=False).reset_index(drop=True)"
   ]
  },
  {
   "cell_type": "code",
   "execution_count": null,
   "id": "cf969c92",
   "metadata": {},
   "outputs": [],
   "source": [
    "pd.DataFrame({\n",
    "    'ID': tmpl['ID'],\n",
    "    '飆股': ((y_pred_label==1) & (f_guess['飆股']!=1)).astype(int),\n",
    "})[:25108].to_csv('guess_146.csv', index=False)"
   ]
  },
  {
   "cell_type": "code",
   "execution_count": null,
   "id": "54bf1f3b",
   "metadata": {},
   "outputs": [],
   "source": [
    "def f1(prec, recall):\n",
    "    if prec == 0 and recall == 0:\n",
    "        return 0\n",
    "    else:\n",
    "        return (2 * prec * recall) / (prec + recall)\n",
    "f1(0.93377, 0.80113)"
   ]
  }
 ],
 "metadata": {
  "kernelspec": {
   "display_name": "aicup",
   "language": "python",
   "name": "python3"
  },
  "language_info": {
   "codemirror_mode": {
    "name": "ipython",
    "version": 3
   },
   "file_extension": ".py",
   "mimetype": "text/x-python",
   "name": "python",
   "nbconvert_exporter": "python",
   "pygments_lexer": "ipython3",
   "version": "3.10.16"
  }
 },
 "nbformat": 4,
 "nbformat_minor": 5
}
