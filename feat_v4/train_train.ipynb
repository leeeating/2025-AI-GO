{
 "cells": [
  {
   "cell_type": "code",
   "execution_count": 1,
   "id": "d2841dff",
   "metadata": {},
   "outputs": [],
   "source": [
    "import lightgbm as lgb\n",
    "import numpy as np\n",
    "import pandas as pd\n",
    "import matplotlib.pyplot as plt\n",
    "from sklearn.preprocessing import PowerTransformer, StandardScaler\n",
    "from sklearn.metrics import precision_recall_curve, precision_score, recall_score, f1_score, confusion_matrix\n",
    "\n",
    "def eval_all(preds, dtrain):\n",
    "    y_true = dtrain.get_label()\n",
    "    prec, recall, thresholds = precision_recall_curve(y_true, preds)\n",
    "    f1s = 2 * (prec * recall) / (prec + recall + 1e-10)\n",
    "    f1s[np.isnan(f1s)] = 0\n",
    "    best_idx = np.argmax(f1s)\n",
    "    return [\n",
    "            ('f1', f1s[best_idx], True),\n",
    "            ('precision', prec[best_idx], True),\n",
    "            ('recall', recall[best_idx], True),\n",
    "            ]"
   ]
  },
  {
   "cell_type": "code",
   "execution_count": null,
   "id": "cb713bd9",
   "metadata": {},
   "outputs": [],
   "source": [
    "import lightgbm as lgb\n",
    "import numpy as np\n",
    "import pandas as pd\n",
    "import matplotlib.pyplot as plt\n",
    "from sklearn.preprocessing import PowerTransformer, StandardScaler\n",
    "from sklearn.metrics import precision_recall_curve, precision_score, recall_score, f1_score, confusion_matrix\n",
    "\n",
    "def eval_all(preds, dtrain):\n",
    "    y_true = dtrain.get_label()\n",
    "    prec, recall, thresholds = precision_recall_curve(y_true, preds)\n",
    "    f1s = 2 * (prec * recall) / (prec + recall + 1e-10)\n",
    "    f1s[np.isnan(f1s)] = 0\n",
    "    best_idx = np.argmax(f1s)\n",
    "    return [\n",
    "            ('f1', f1s[best_idx], True),\n",
    "            ('precision', prec[best_idx], True),\n",
    "            ('recall', recall[best_idx], True),\n",
    "            ]"
   ]
  },
  {
   "cell_type": "code",
   "execution_count": 2,
   "id": "483504b1",
   "metadata": {},
   "outputs": [],
   "source": [
    "train_df = pd.read_parquet(\"../Data/training_feature_v1.parquet\")\n",
    "test_df = pd.read_parquet(\"../testing/X_all.parquet\")\n",
    "# sudo0_df = pd.read_csv(\"../smt/prc9/sudo_0.csv\") #180\n",
    "# sudo1_df = pd.read_csv(\"../smt/prc9/prc9_smt_127.csv\")\n",
    "\n",
    "# sudo1_df = pd.read_csv(\"../testing/true127.csv\")\n",
    "sudo1_df= pd.read_csv('../testing/guess136.csv')\n",
    "\n",
    "tmpl = pd.read_csv('../testing/submission_template_public_and_private.csv')"
   ]
  },
  {
   "cell_type": "code",
   "execution_count": 3,
   "id": "317a9961",
   "metadata": {},
   "outputs": [
    {
     "name": "stdout",
     "output_type": "stream",
     "text": [
      "Selected 153 features\n"
     ]
    }
   ],
   "source": [
    "NUM = 1000\n",
    "CUM = 15\n",
    "# ========== 讀取特徵重要性 ==========\n",
    "# gain = pd.read_csv(filepath_or_buffer=f'./pos_shap_abs_mean.csv', index_col=0)\n",
    "\n",
    "# method 1\n",
    "gain = pd.read_csv(filepath_or_buffer=f'./gain.csv', index_col=0)\n",
    "num_trails = gain.shape[1]\n",
    "\n",
    "res = {}\n",
    "for i in range(num_trails):\n",
    "    rank = gain.iloc[:, i].nlargest(n=NUM).index\n",
    "    for item in rank:\n",
    "        if item not in res:\n",
    "            res[item] = 0\n",
    "        res[item] += 1\n",
    "        \n",
    "rank_cnt = pd.DataFrame(res.items(), columns=['feature', 'rank'])\n",
    "selected_features = rank_cnt.query(f'rank >= {CUM}')['feature']\n",
    "print(f\"Selected {len(selected_features)} features\")\n",
    "del gain"
   ]
  },
  {
   "cell_type": "code",
   "execution_count": 4,
   "id": "0ba06433",
   "metadata": {},
   "outputs": [
    {
     "name": "stdout",
     "output_type": "stream",
     "text": [
      "Length of test index: 153\n"
     ]
    }
   ],
   "source": [
    "zero_list = [13181, 8806, 6833, 780, 20029, \n",
    "             7555, 22570, 6898, 14120, 11999, \n",
    "             8831, 6722, 8484, 12519, 14467,\n",
    "             23668, 4160]\n",
    "\n",
    "imp_zero = np.array(zero_list) - 1\n",
    "imp_one = np.where(sudo1_df['飆股']==1)[0]\n",
    "concat_test_idx = np.concatenate([imp_zero, imp_one])\n",
    "print(f\"Length of test index: {len(concat_test_idx)}\")"
   ]
  },
  {
   "cell_type": "code",
   "execution_count": 5,
   "id": "0ac468dd",
   "metadata": {},
   "outputs": [
    {
     "name": "stdout",
     "output_type": "stream",
     "text": [
      "Training set proportion:\n",
      "0    0.992682\n",
      "1    0.007318\n",
      "Name: proportion, dtype: float64\n",
      "\n",
      "Validation set proportion:\n",
      "0    0.992682\n",
      "1    0.007318\n",
      "Name: proportion, dtype: float64\n",
      "\n",
      "Augmented validation set proportion:\n",
      " 0.0    0.989337\n",
      "1.0    0.010663\n",
      "Name: proportion, dtype: float64 \n"
     ]
    }
   ],
   "source": [
    "X_train_all = train_df[selected_features].values\n",
    "X_test = test_df[selected_features].values\n",
    "\n",
    "train_proportion = 0.8\n",
    "y_train_all = train_df['飆股'].values\n",
    "df_pos_idx = np.where(y_train_all == 1)[0]\n",
    "df_neg_idx = np.where(y_train_all == 0)[0]\n",
    "np.random.seed(1111)\n",
    "np.random.shuffle(df_neg_idx)\n",
    "np.random.shuffle(df_pos_idx)\n",
    "\n",
    "num_train_pos = int(train_proportion * len(df_pos_idx))\n",
    "num_train_neg = int(train_proportion * len(df_neg_idx))\n",
    "train_idx = np.concatenate([df_pos_idx[ :num_train_pos],\n",
    "                            df_neg_idx[ :num_train_neg]])\n",
    "\n",
    "valid_idx = np.concatenate([df_pos_idx[num_train_pos: ],\n",
    "                            df_neg_idx[num_train_neg: ]])\n",
    "\n",
    "X_train = X_train_all[train_idx]\n",
    "y_train = y_train_all[train_idx]\n",
    "X_valid = X_train_all[valid_idx]\n",
    "y_valid = y_train_all[valid_idx]\n",
    "\n",
    "print(f\"Training set proportion:\\n{pd.Series(y_train).value_counts(normalize=True)}\\n\")\n",
    "print(f\"Validation set proportion:\\n{pd.Series(y_valid).value_counts(normalize=True)}\\n\")\n",
    "\n",
    "X_test_known = X_test[concat_test_idx]\n",
    "y_test_known = np.concatenate([np.ones(len(imp_one)), np.zeros(len(imp_zero))])\n",
    "\n",
    "\n",
    "X_val_aug = np.concatenate([X_valid, X_test_known], axis=0)\n",
    "y_val_aug = np.concatenate([y_valid, y_test_known], axis=0)\n",
    "print(f\"Augmented validation set proportion:\\n {pd.Series(y_val_aug).value_counts(normalize=True)} \")"
   ]
  },
  {
   "cell_type": "code",
   "execution_count": 6,
   "id": "a1cc7b17",
   "metadata": {},
   "outputs": [],
   "source": [
    "# scaler = PowerTransformer(method='yeo-johnson', standardize=True)\n",
    "scaler = StandardScaler()\n",
    "X_train_pt = scaler.fit_transform(X_train) \n",
    "X_valid_pt = scaler.transform(X_valid)\n",
    "X_test_known_pt = scaler.transform(X_test_known)\n",
    "X_val_aug_pt = scaler.transform(X_val_aug)\n",
    "X_test_pt = scaler.transform(X_test)"
   ]
  },
  {
   "cell_type": "code",
   "execution_count": 7,
   "id": "cc4624af",
   "metadata": {},
   "outputs": [],
   "source": [
    "lgb_train_set = lgb.Dataset(X_train_pt, y_train)\n",
    "lgb_valid_aug_set = lgb.Dataset(X_val_aug_pt, y_val_aug, reference=lgb_train_set)"
   ]
  },
  {
   "cell_type": "code",
   "execution_count": 8,
   "id": "042b888a",
   "metadata": {},
   "outputs": [
    {
     "name": "stderr",
     "output_type": "stream",
     "text": [
      " 14%|████▏                        | 1007/7000 [00:26<01:38, 60.82it/s]"
     ]
    },
    {
     "name": "stdout",
     "output_type": "stream",
     "text": [
      "[1000]\tvalid's binary_logloss: 0.0329984\tvalid's f1: 0.816568\tvalid's precision: 0.831325\tvalid's recall: 0.802326\n"
     ]
    },
    {
     "name": "stderr",
     "output_type": "stream",
     "text": [
      " 29%|████████▎                    | 2010/7000 [00:39<00:59, 84.04it/s]"
     ]
    },
    {
     "name": "stdout",
     "output_type": "stream",
     "text": [
      "[2000]\tvalid's binary_logloss: 0.0357342\tvalid's f1: 0.820571\tvalid's precision: 0.806742\tvalid's recall: 0.834884\n"
     ]
    },
    {
     "name": "stderr",
     "output_type": "stream",
     "text": [
      " 43%|████████████▍                | 3015/7000 [00:50<00:45, 88.25it/s]"
     ]
    },
    {
     "name": "stdout",
     "output_type": "stream",
     "text": [
      "[3000]\tvalid's binary_logloss: 0.0365687\tvalid's f1: 0.822521\tvalid's precision: 0.868217\tvalid's recall: 0.781395\n"
     ]
    },
    {
     "name": "stderr",
     "output_type": "stream",
     "text": [
      " 57%|████████████████▋            | 4018/7000 [01:01<00:32, 92.99it/s]"
     ]
    },
    {
     "name": "stdout",
     "output_type": "stream",
     "text": [
      "[4000]\tvalid's binary_logloss: 0.0370503\tvalid's f1: 0.826406\tvalid's precision: 0.871134\tvalid's recall: 0.786047\n"
     ]
    },
    {
     "name": "stderr",
     "output_type": "stream",
     "text": [
      " 72%|████████████████████▊        | 5017/7000 [01:12<00:20, 94.71it/s]"
     ]
    },
    {
     "name": "stdout",
     "output_type": "stream",
     "text": [
      "[5000]\tvalid's binary_logloss: 0.0373505\tvalid's f1: 0.827586\tvalid's precision: 0.879581\tvalid's recall: 0.781395\n"
     ]
    },
    {
     "name": "stderr",
     "output_type": "stream",
     "text": [
      " 86%|████████████████████████▉    | 6010/7000 [01:22<00:10, 98.38it/s]"
     ]
    },
    {
     "name": "stdout",
     "output_type": "stream",
     "text": [
      "[6000]\tvalid's binary_logloss: 0.0376073\tvalid's f1: 0.827417\tvalid's precision: 0.873385\tvalid's recall: 0.786047\n"
     ]
    },
    {
     "name": "stderr",
     "output_type": "stream",
     "text": [
      "                                                                      \r"
     ]
    },
    {
     "name": "stdout",
     "output_type": "stream",
     "text": [
      "[7000]\tvalid's binary_logloss: 0.0378151\tvalid's f1: 0.827417\tvalid's precision: 0.873385\tvalid's recall: 0.786047\n",
      "Best iteration: 7000\n",
      "{'objective': 'binary', 'boosting_type': 'gbdt', 'metric': 'binary_logloss', 'is_unbalance': True, 'verbosity': -1, 'learning_rate': 0.03, 'num_leaves': 128, 'max_depth': -1, 'feature_fraction': 0.7, 'bagging_fraction': 0.75, 'n_jobs': 30, 'num_iterations': 7000}\n"
     ]
    }
   ],
   "source": [
    "params = {\n",
    "    'objective': 'binary',\n",
    "    'boosting_type': 'gbdt',\n",
    "    # 'data_sample_strategy': 'goss',\n",
    "    # 'metric': ['recall', 'f1', 'precision', ],\n",
    "    'metric': 'binary_logloss',\n",
    "    'is_unbalance': True,\n",
    "    'verbosity': -1,\n",
    "\n",
    "    'learning_rate': 0.03,\n",
    "    'num_leaves': 128,\n",
    "    'max_depth': -1,\n",
    "    # 'min_data_in_leaf': 500,\n",
    "\n",
    "    'feature_fraction': 0.7,\n",
    "    'bagging_fraction': 0.75,\n",
    "    # 'top_rate': 0.25,\n",
    "    # 'other_rate': 0.5,\n",
    "\n",
    "    'n_jobs': 30,\n",
    "}\n",
    "\n",
    "def dynamic_lr(iteration):\n",
    "    if iteration < 5000:\n",
    "        return 0.03\n",
    "    elif iteration < 7000:\n",
    "        return 0.015\n",
    "    else:\n",
    "        return 0.015\n",
    "\n",
    "model = lgb.train(\n",
    "    params,\n",
    "    train_set=lgb_train_set,\n",
    "    valid_sets=[lgb_valid_aug_set],\n",
    "    valid_names=['valid'],\n",
    "    num_boost_round=7000,\n",
    "    feval=[eval_all,],\n",
    "    callbacks=[\n",
    "        # lgb.early_stopping(stopping_rounds=3000, first_metric_only=True, verbose=True),\n",
    "        lgb.log_evaluation(period=1000),\n",
    "        # lgb.reset_parameter(learning_rate=dynamic_lr),\n",
    "        ],\n",
    ")\n",
    "\n",
    "best_iter = model.current_iteration()\n",
    "print(f\"Best iteration: {best_iter}\")\n",
    "print(model.params)"
   ]
  },
  {
   "cell_type": "code",
   "execution_count": 9,
   "id": "0f8ea979",
   "metadata": {},
   "outputs": [
    {
     "name": "stdout",
     "output_type": "stream",
     "text": [
      "Best threshold: 0.0038, F1: 0.7963, Precision: 0.8740, Recall: 0.7313\n",
      "Validation num pos: 246\n",
      "\n",
      "False positive: 16, False negative: 18, Wrong: 34\n"
     ]
    }
   ],
   "source": [
    "val_prob = model.predict(data=X_valid_pt)\n",
    "\n",
    "prec, recall, thresholds = precision_recall_curve(y_valid, val_prob)\n",
    "prec_lst = prec[:-1]\n",
    "rec_lst = recall[:-1]\n",
    "f1s = 2 * prec_lst * rec_lst / (prec_lst + rec_lst + 1e-10)\n",
    "best_idx = np.argmax(f1s)\n",
    "best_threshold_be = thresholds[best_idx]\n",
    "print(f\"Best threshold: {best_threshold_be:.4f}, F1: {f1s[best_idx]:.4f}, Precision: {prec[best_idx]:.4f}, Recall: {recall[best_idx]:.4f}\")\n",
    "val_num_pos = np.unique((val_prob >= best_threshold_be).astype(int), return_counts=True)[1][1]\n",
    "print(f\"Validation num pos: {val_num_pos}\\n\")\n",
    "\n",
    "known_test_prob = model.predict(data=X_test_known_pt)\n",
    "known_test_pred = (known_test_prob >= best_threshold_be).astype(int)\n",
    "\n",
    "cm = confusion_matrix(y_test_known, known_test_pred)\n",
    "print(f\"False positive: {cm[0][1]}, False negative: {cm[1][0]}, Wrong: {cm[0][1] + cm[1][0]}\")"
   ]
  },
  {
   "cell_type": "code",
   "execution_count": 10,
   "id": "6d16221a",
   "metadata": {},
   "outputs": [
    {
     "name": "stdout",
     "output_type": "stream",
     "text": [
      "Before retain,  Public test num pos: 144, Private test num pos: 139\n"
     ]
    }
   ],
   "source": [
    "# test_df = np.clip(test_df, -10, 10)\n",
    "test_prob = model.predict(data=X_test_pt)\n",
    "y_pred_label = (test_prob >= best_threshold_be).astype(int)\n",
    "public_test_num_pos = np.unique(y_pred_label[:25108], return_counts=True)[1][1]\n",
    "private_test_num_pos = np.unique(y_pred_label[25108:], return_counts=True)[1][1]\n",
    "print(f\"Before retain,  Public test num pos: {public_test_num_pos}, Private test num pos: {private_test_num_pos}\")"
   ]
  },
  {
   "cell_type": "code",
   "execution_count": 12,
   "id": "b3995105",
   "metadata": {},
   "outputs": [
    {
     "data": {
      "image/png": "[encoded data removed]",
      "text/plain": [
       "<Figure size 500x300 with 1 Axes>"
      ]
     },
     "metadata": {},
     "output_type": "display_data"
    }
   ],
   "source": [
    "plt.figure(figsize=(5,3))\n",
    "plt.plot(thresholds, prec_lst, label='Precision')\n",
    "plt.plot(thresholds, rec_lst, label='Recall')\n",
    "plt.plot(thresholds, f1s, label='F1 Score', linestyle='--')\n",
    "plt.axvline(best_threshold_be, color='red', linestyle=':', label=f'Best Threshold = {best_threshold_be:.4f}')\n",
    "plt.scatter(best_threshold_be, f1s[best_idx], color='red', zorder=5)\n",
    "\n",
    "plt.xlabel('Threshold')\n",
    "plt.ylabel('Score')\n",
    "plt.title('Precision, Recall, F1 vs Threshold')\n",
    "plt.legend()\n",
    "plt.grid(True)\n",
    "# plt.show()  # 若有 GUI 可開啟\n"
   ]
  },
  {
   "cell_type": "code",
   "execution_count": 26,
   "id": "0e8d50f5",
   "metadata": {},
   "outputs": [
    {
     "data": {
      "application/vnd.microsoft.datawrangler.viewer.v0+json": {
       "columns": [
        {
         "name": "index",
         "rawType": "int64",
         "type": "integer"
        },
        {
         "name": "ID",
         "rawType": "object",
         "type": "string"
        },
        {
         "name": "飆股",
         "rawType": "int64",
         "type": "integer"
        },
        {
         "name": "prob",
         "rawType": "float64",
         "type": "float"
        },
        {
         "name": "pred",
         "rawType": "int64",
         "type": "integer"
        }
       ],
       "conversionMethod": "pd.DataFrame",
       "ref": "f5f56c3c-c085-4c24-8393-c586c6eb96d2",
       "rows": [
        [
         "0",
         "PU-10413",
         "1",
         "0.9999999999964178",
         "1"
        ],
        [
         "1",
         "PU-6548",
         "1",
         "0.9999999999005624",
         "1"
        ],
        [
         "2",
         "PU-14894",
         "1",
         "0.9999999998925309",
         "1"
        ],
        [
         "3",
         "PU-6741",
         "1",
         "0.9999999998827214",
         "1"
        ],
        [
         "4",
         "PU-10860",
         "1",
         "0.9999999997157498",
         "1"
        ],
        [
         "5",
         "PU-9297",
         "1",
         "0.9999999996822577",
         "1"
        ],
        [
         "6",
         "PU-24717",
         "1",
         "0.9999999995796449",
         "1"
        ],
        [
         "7",
         "PU-12497",
         "1",
         "0.9999999995689199",
         "1"
        ],
        [
         "8",
         "PU-16049",
         "1",
         "0.9999999990480475",
         "1"
        ],
        [
         "9",
         "PU-18724",
         "1",
         "0.9999999988083874",
         "1"
        ],
        [
         "10",
         "PU-787",
         "1",
         "0.999999998733343",
         "1"
        ],
        [
         "11",
         "PU-7661",
         "1",
         "0.9999999955098677",
         "1"
        ],
        [
         "12",
         "PU-11496",
         "1",
         "0.9999999935534567",
         "1"
        ],
        [
         "13",
         "PU-11492",
         "1",
         "0.9999999903036038",
         "1"
        ],
        [
         "14",
         "PU-17238",
         "1",
         "0.9999999821026603",
         "1"
        ],
        [
         "15",
         "PU-18996",
         "1",
         "0.9999999724174663",
         "1"
        ],
        [
         "16",
         "PU-15755",
         "1",
         "0.9999999604654735",
         "1"
        ],
        [
         "17",
         "PU-21510",
         "1",
         "0.9999999573972234",
         "1"
        ],
        [
         "18",
         "PU-16195",
         "1",
         "0.9999999560215848",
         "1"
        ],
        [
         "19",
         "PU-11528",
         "1",
         "0.9999999534886629",
         "1"
        ],
        [
         "20",
         "PU-23126",
         "1",
         "0.9999999461205737",
         "1"
        ],
        [
         "21",
         "PU-6527",
         "1",
         "0.9999998885321619",
         "1"
        ],
        [
         "22",
         "PU-2323",
         "1",
         "0.9999998447870683",
         "1"
        ],
        [
         "23",
         "PU-10090",
         "1",
         "0.9999998344734639",
         "1"
        ],
        [
         "24",
         "PU-8926",
         "1",
         "0.999999803333806",
         "1"
        ],
        [
         "25",
         "PU-20231",
         "1",
         "0.9999997591721899",
         "1"
        ],
        [
         "26",
         "PU-23257",
         "1",
         "0.9999993991005092",
         "1"
        ],
        [
         "27",
         "PU-18729",
         "1",
         "0.9999990938798887",
         "1"
        ],
        [
         "28",
         "PU-15388",
         "1",
         "0.9999989010922742",
         "1"
        ],
        [
         "29",
         "PU-20094",
         "1",
         "0.9999988209143675",
         "1"
        ],
        [
         "30",
         "PU-123",
         "1",
         "0.9999987007543983",
         "1"
        ],
        [
         "31",
         "PU-16578",
         "1",
         "0.9999983704606741",
         "1"
        ],
        [
         "32",
         "PU-8151",
         "1",
         "0.9999982787955859",
         "1"
        ],
        [
         "33",
         "PU-2991",
         "1",
         "0.9999982098505039",
         "1"
        ],
        [
         "34",
         "PU-15144",
         "1",
         "0.9999975972811691",
         "1"
        ],
        [
         "35",
         "PU-5769",
         "1",
         "0.9999971456558812",
         "1"
        ],
        [
         "36",
         "PU-10812",
         "1",
         "0.9999967638959594",
         "1"
        ],
        [
         "37",
         "PU-11637",
         "1",
         "0.9999963095908778",
         "1"
        ],
        [
         "38",
         "PU-8535",
         "1",
         "0.9999962790050736",
         "1"
        ],
        [
         "39",
         "PU-24305",
         "1",
         "0.9999960972235166",
         "1"
        ],
        [
         "40",
         "PU-32",
         "1",
         "0.9999939841749075",
         "1"
        ],
        [
         "41",
         "PU-25097",
         "1",
         "0.9999924152205513",
         "1"
        ],
        [
         "42",
         "PU-21449",
         "1",
         "0.999989606365071",
         "1"
        ],
        [
         "43",
         "PU-19714",
         "1",
         "0.999986000950251",
         "1"
        ],
        [
         "44",
         "PU-20716",
         "1",
         "0.999984868941316",
         "1"
        ],
        [
         "45",
         "PU-11459",
         "1",
         "0.9999817566354388",
         "1"
        ],
        [
         "46",
         "PU-12921",
         "1",
         "0.9999772207403594",
         "1"
        ],
        [
         "47",
         "PU-609",
         "1",
         "0.9999704700988187",
         "1"
        ],
        [
         "48",
         "PU-22608",
         "1",
         "0.9999663864670619",
         "1"
        ],
        [
         "49",
         "PU-17765",
         "1",
         "0.999966032572491",
         "1"
        ]
       ],
       "shape": {
        "columns": 4,
        "rows": 25108
       }
      },
      "text/html": [
       "<div>\n",
       "<style scoped>\n",
       "    .dataframe tbody tr th:only-of-type {\n",
       "        vertical-align: middle;\n",
       "    }\n",
       "\n",
       "    .dataframe tbody tr th {\n",
       "        vertical-align: top;\n",
       "    }\n",
       "\n",
       "    .dataframe thead th {\n",
       "        text-align: right;\n",
       "    }\n",
       "</style>\n",
       "<table border=\"1\" class=\"dataframe\">\n",
       "  <thead>\n",
       "    <tr style=\"text-align: right;\">\n",
       "      <th></th>\n",
       "      <th>ID</th>\n",
       "      <th>飆股</th>\n",
       "      <th>prob</th>\n",
       "      <th>pred</th>\n",
       "    </tr>\n",
       "  </thead>\n",
       "  <tbody>\n",
       "    <tr>\n",
       "      <th>0</th>\n",
       "      <td>PU-10413</td>\n",
       "      <td>1</td>\n",
       "      <td>1.000000e+00</td>\n",
       "      <td>1</td>\n",
       "    </tr>\n",
       "    <tr>\n",
       "      <th>1</th>\n",
       "      <td>PU-6548</td>\n",
       "      <td>1</td>\n",
       "      <td>1.000000e+00</td>\n",
       "      <td>1</td>\n",
       "    </tr>\n",
       "    <tr>\n",
       "      <th>2</th>\n",
       "      <td>PU-14894</td>\n",
       "      <td>1</td>\n",
       "      <td>1.000000e+00</td>\n",
       "      <td>1</td>\n",
       "    </tr>\n",
       "    <tr>\n",
       "      <th>3</th>\n",
       "      <td>PU-6741</td>\n",
       "      <td>1</td>\n",
       "      <td>1.000000e+00</td>\n",
       "      <td>1</td>\n",
       "    </tr>\n",
       "    <tr>\n",
       "      <th>4</th>\n",
       "      <td>PU-10860</td>\n",
       "      <td>1</td>\n",
       "      <td>1.000000e+00</td>\n",
       "      <td>1</td>\n",
       "    </tr>\n",
       "    <tr>\n",
       "      <th>...</th>\n",
       "      <td>...</td>\n",
       "      <td>...</td>\n",
       "      <td>...</td>\n",
       "      <td>...</td>\n",
       "    </tr>\n",
       "    <tr>\n",
       "      <th>25103</th>\n",
       "      <td>PU-15391</td>\n",
       "      <td>0</td>\n",
       "      <td>2.507497e-19</td>\n",
       "      <td>0</td>\n",
       "    </tr>\n",
       "    <tr>\n",
       "      <th>25104</th>\n",
       "      <td>PU-18984</td>\n",
       "      <td>0</td>\n",
       "      <td>1.702559e-19</td>\n",
       "      <td>0</td>\n",
       "    </tr>\n",
       "    <tr>\n",
       "      <th>25105</th>\n",
       "      <td>PU-13132</td>\n",
       "      <td>0</td>\n",
       "      <td>1.498584e-19</td>\n",
       "      <td>0</td>\n",
       "    </tr>\n",
       "    <tr>\n",
       "      <th>25106</th>\n",
       "      <td>PU-8029</td>\n",
       "      <td>0</td>\n",
       "      <td>1.080557e-19</td>\n",
       "      <td>0</td>\n",
       "    </tr>\n",
       "    <tr>\n",
       "      <th>25107</th>\n",
       "      <td>PU-16686</td>\n",
       "      <td>0</td>\n",
       "      <td>2.036053e-20</td>\n",
       "      <td>0</td>\n",
       "    </tr>\n",
       "  </tbody>\n",
       "</table>\n",
       "<p>25108 rows × 4 columns</p>\n",
       "</div>"
      ],
      "text/plain": [
       "             ID  飆股          prob  pred\n",
       "0      PU-10413   1  1.000000e+00     1\n",
       "1       PU-6548   1  1.000000e+00     1\n",
       "2      PU-14894   1  1.000000e+00     1\n",
       "3       PU-6741   1  1.000000e+00     1\n",
       "4      PU-10860   1  1.000000e+00     1\n",
       "...         ...  ..           ...   ...\n",
       "25103  PU-15391   0  2.507497e-19     0\n",
       "25104  PU-18984   0  1.702559e-19     0\n",
       "25105  PU-13132   0  1.498584e-19     0\n",
       "25106   PU-8029   0  1.080557e-19     0\n",
       "25107  PU-16686   0  2.036053e-20     0\n",
       "\n",
       "[25108 rows x 4 columns]"
      ]
     },
     "execution_count": 26,
     "metadata": {},
     "output_type": "execute_result"
    }
   ],
   "source": [
    "test_prob_df_be = pd.DataFrame({\n",
    "    'ID': tmpl['ID'],\n",
    "    'prob': test_prob,\n",
    "    'pred': y_pred_label\n",
    "})\n",
    "pub_pred_be = sudo1_df.merge(test_prob_df_be, on='ID', how='left')\n",
    "pub_pred_be.sort_values(by=['飆股', 'prob'], ascending=False).reset_index(drop=True)"
   ]
  },
  {
   "cell_type": "markdown",
   "id": "95f5c499",
   "metadata": {},
   "source": []
  },
  {
   "cell_type": "code",
   "execution_count": 29,
   "id": "7f5cd366",
   "metadata": {},
   "outputs": [
    {
     "name": "stderr",
     "output_type": "stream",
     "text": [
      "                                                                      \r"
     ]
    }
   ],
   "source": [
    "retrain_set = np.concat([X_train, X_valid], axis=0)\n",
    "retrain_label = np.concat([y_train, y_valid], axis=0)\n",
    "retrain_set = lgb.Dataset(retrain_set, label=retrain_label)\n",
    "\n",
    "\n",
    "final_model = lgb.train(\n",
    "    params,\n",
    "    train_set=retrain_set,\n",
    "    num_boost_round=best_iter,\n",
    ")\n",
    "\n",
    "# train_all = lgb.Dataset(X_train_all, label=y_train_all)\n",
    "# final_model = lgb.train(\n",
    "#     params,\n",
    "#     train_set=train_all,\n",
    "#     num_boost_round=10000,\n",
    "# )"
   ]
  },
  {
   "cell_type": "code",
   "execution_count": null,
   "id": "4bdf6d22",
   "metadata": {},
   "outputs": [
    {
     "data": {
      "application/vnd.microsoft.datawrangler.viewer.v0+json": {
       "columns": [
        {
         "name": "index",
         "rawType": "int64",
         "type": "integer"
        },
        {
         "name": "ID",
         "rawType": "object",
         "type": "string"
        },
        {
         "name": "飆股",
         "rawType": "int64",
         "type": "integer"
        },
        {
         "name": "prob",
         "rawType": "float64",
         "type": "float"
        },
        {
         "name": "pred",
         "rawType": "int64",
         "type": "integer"
        }
       ],
       "conversionMethod": "pd.DataFrame",
       "ref": "7bc816d1-4660-4e99-91fa-a8fdbe294bb1",
       "rows": [
        [
         "0",
         "PU-32",
         "1",
         "0.9997485458821188",
         "1"
        ],
        [
         "1",
         "PU-123",
         "1",
         "0.9997384111153769",
         "1"
        ],
        [
         "2",
         "PU-167",
         "1",
         "0.9998115605428147",
         "1"
        ],
        [
         "3",
         "PU-485",
         "1",
         "0.4504653509168657",
         "1"
        ],
        [
         "4",
         "PU-609",
         "1",
         "0.9735317131320568",
         "1"
        ],
        [
         "5",
         "PU-787",
         "1",
         "0.9999999937555968",
         "1"
        ],
        [
         "6",
         "PU-1024",
         "1",
         "0.17193925721684658",
         "1"
        ],
        [
         "7",
         "PU-1037",
         "1",
         "0.9753199796474712",
         "1"
        ],
        [
         "8",
         "PU-1137",
         "1",
         "0.8380974607594794",
         "1"
        ],
        [
         "9",
         "PU-1268",
         "1",
         "0.9928528552771945",
         "1"
        ],
        [
         "10",
         "PU-1508",
         "1",
         "0.02713925553940296",
         "1"
        ],
        [
         "11",
         "PU-2049",
         "1",
         "0.9827231882105889",
         "1"
        ],
        [
         "12",
         "PU-2195",
         "1",
         "0.08077178024887105",
         "1"
        ],
        [
         "13",
         "PU-2264",
         "1",
         "0.5706836228941269",
         "1"
        ],
        [
         "14",
         "PU-2323",
         "1",
         "0.9999935473747652",
         "1"
        ],
        [
         "15",
         "PU-2629",
         "1",
         "0.9064327203588975",
         "1"
        ],
        [
         "16",
         "PU-2991",
         "1",
         "0.9996959593562603",
         "1"
        ],
        [
         "17",
         "PU-3053",
         "1",
         "0.26416345254632606",
         "1"
        ],
        [
         "18",
         "PU-3232",
         "1",
         "0.3879794771037792",
         "1"
        ],
        [
         "19",
         "PU-3419",
         "1",
         "0.0169727278671508",
         "1"
        ],
        [
         "20",
         "PU-3539",
         "1",
         "0.025553765793022615",
         "1"
        ],
        [
         "21",
         "PU-4740",
         "1",
         "0.17436950501698556",
         "1"
        ],
        [
         "22",
         "PU-4965",
         "1",
         "0.5323909552055726",
         "1"
        ],
        [
         "23",
         "PU-5087",
         "1",
         "0.0304823747129877",
         "1"
        ],
        [
         "24",
         "PU-5769",
         "1",
         "0.9999910292854352",
         "1"
        ],
        [
         "25",
         "PU-5898",
         "1",
         "0.9932938092317444",
         "1"
        ],
        [
         "26",
         "PU-5994",
         "1",
         "0.9875513007126414",
         "1"
        ],
        [
         "27",
         "PU-6179",
         "1",
         "0.9619078394809728",
         "1"
        ],
        [
         "28",
         "PU-6527",
         "1",
         "0.9999984017494914",
         "1"
        ],
        [
         "29",
         "PU-6548",
         "1",
         "0.9999999024572719",
         "1"
        ],
        [
         "30",
         "PU-6741",
         "1",
         "0.9999999911304941",
         "1"
        ],
        [
         "31",
         "PU-6925",
         "1",
         "0.4445987704343874",
         "1"
        ],
        [
         "32",
         "PU-6956",
         "1",
         "0.9821088604369151",
         "1"
        ],
        [
         "33",
         "PU-7165",
         "1",
         "0.8214626597892639",
         "1"
        ],
        [
         "34",
         "PU-7490",
         "1",
         "0.9808501514928272",
         "1"
        ],
        [
         "35",
         "PU-7661",
         "1",
         "0.9999999487382063",
         "1"
        ],
        [
         "36",
         "PU-7779",
         "1",
         "0.9927124835408325",
         "1"
        ],
        [
         "37",
         "PU-7828",
         "1",
         "0.1968229248385078",
         "1"
        ],
        [
         "38",
         "PU-7903",
         "1",
         "0.12667029064046195",
         "1"
        ],
        [
         "39",
         "PU-8151",
         "1",
         "0.9999984294118581",
         "1"
        ],
        [
         "40",
         "PU-8535",
         "1",
         "0.9999990962231117",
         "1"
        ],
        [
         "41",
         "PU-8926",
         "1",
         "0.999996904806035",
         "1"
        ],
        [
         "42",
         "PU-9297",
         "1",
         "0.999999998632453",
         "1"
        ],
        [
         "43",
         "PU-9478",
         "1",
         "0.7838088461150688",
         "1"
        ],
        [
         "44",
         "PU-9489",
         "1",
         "0.9996403839850788",
         "1"
        ],
        [
         "45",
         "PU-10090",
         "1",
         "0.9989737906105458",
         "1"
        ],
        [
         "46",
         "PU-10091",
         "1",
         "0.9998608580945351",
         "1"
        ],
        [
         "47",
         "PU-10251",
         "1",
         "0.7888314509515681",
         "1"
        ],
        [
         "48",
         "PU-10413",
         "1",
         "0.9999840892052273",
         "1"
        ],
        [
         "49",
         "PU-10751",
         "1",
         "0.788707100006912",
         "1"
        ]
       ],
       "shape": {
        "columns": 4,
        "rows": 25108
       }
      },
      "text/html": [
       "<div>\n",
       "<style scoped>\n",
       "    .dataframe tbody tr th:only-of-type {\n",
       "        vertical-align: middle;\n",
       "    }\n",
       "\n",
       "    .dataframe tbody tr th {\n",
       "        vertical-align: top;\n",
       "    }\n",
       "\n",
       "    .dataframe thead th {\n",
       "        text-align: right;\n",
       "    }\n",
       "</style>\n",
       "<table border=\"1\" class=\"dataframe\">\n",
       "  <thead>\n",
       "    <tr style=\"text-align: right;\">\n",
       "      <th></th>\n",
       "      <th>ID</th>\n",
       "      <th>飆股</th>\n",
       "      <th>prob</th>\n",
       "      <th>pred</th>\n",
       "    </tr>\n",
       "  </thead>\n",
       "  <tbody>\n",
       "    <tr>\n",
       "      <th>0</th>\n",
       "      <td>PU-32</td>\n",
       "      <td>1</td>\n",
       "      <td>9.997485e-01</td>\n",
       "      <td>1</td>\n",
       "    </tr>\n",
       "    <tr>\n",
       "      <th>1</th>\n",
       "      <td>PU-123</td>\n",
       "      <td>1</td>\n",
       "      <td>9.997384e-01</td>\n",
       "      <td>1</td>\n",
       "    </tr>\n",
       "    <tr>\n",
       "      <th>2</th>\n",
       "      <td>PU-167</td>\n",
       "      <td>1</td>\n",
       "      <td>9.998116e-01</td>\n",
       "      <td>1</td>\n",
       "    </tr>\n",
       "    <tr>\n",
       "      <th>3</th>\n",
       "      <td>PU-485</td>\n",
       "      <td>1</td>\n",
       "      <td>4.504654e-01</td>\n",
       "      <td>1</td>\n",
       "    </tr>\n",
       "    <tr>\n",
       "      <th>4</th>\n",
       "      <td>PU-609</td>\n",
       "      <td>1</td>\n",
       "      <td>9.735317e-01</td>\n",
       "      <td>1</td>\n",
       "    </tr>\n",
       "    <tr>\n",
       "      <th>...</th>\n",
       "      <td>...</td>\n",
       "      <td>...</td>\n",
       "      <td>...</td>\n",
       "      <td>...</td>\n",
       "    </tr>\n",
       "    <tr>\n",
       "      <th>25103</th>\n",
       "      <td>PU-25104</td>\n",
       "      <td>0</td>\n",
       "      <td>1.513180e-10</td>\n",
       "      <td>0</td>\n",
       "    </tr>\n",
       "    <tr>\n",
       "      <th>25104</th>\n",
       "      <td>PU-25105</td>\n",
       "      <td>0</td>\n",
       "      <td>1.661277e-09</td>\n",
       "      <td>0</td>\n",
       "    </tr>\n",
       "    <tr>\n",
       "      <th>25105</th>\n",
       "      <td>PU-25106</td>\n",
       "      <td>0</td>\n",
       "      <td>1.882962e-12</td>\n",
       "      <td>0</td>\n",
       "    </tr>\n",
       "    <tr>\n",
       "      <th>25106</th>\n",
       "      <td>PU-25107</td>\n",
       "      <td>0</td>\n",
       "      <td>8.370063e-10</td>\n",
       "      <td>0</td>\n",
       "    </tr>\n",
       "    <tr>\n",
       "      <th>25107</th>\n",
       "      <td>PU-25108</td>\n",
       "      <td>0</td>\n",
       "      <td>2.062929e-09</td>\n",
       "      <td>0</td>\n",
       "    </tr>\n",
       "  </tbody>\n",
       "</table>\n",
       "<p>25108 rows × 4 columns</p>\n",
       "</div>"
      ],
      "text/plain": [
       "             ID  飆股          prob  pred\n",
       "0         PU-32   1  9.997485e-01     1\n",
       "1        PU-123   1  9.997384e-01     1\n",
       "2        PU-167   1  9.998116e-01     1\n",
       "3        PU-485   1  4.504654e-01     1\n",
       "4        PU-609   1  9.735317e-01     1\n",
       "...         ...  ..           ...   ...\n",
       "25103  PU-25104   0  1.513180e-10     0\n",
       "25104  PU-25105   0  1.661277e-09     0\n",
       "25105  PU-25106   0  1.882962e-12     0\n",
       "25106  PU-25107   0  8.370063e-10     0\n",
       "25107  PU-25108   0  2.062929e-09     0\n",
       "\n",
       "[25108 rows x 4 columns]"
      ]
     },
     "execution_count": 31,
     "metadata": {},
     "output_type": "execute_result"
    }
   ],
   "source": [
    "test_prob_af = pd.DataFrame({\n",
    "    'ID': tmpl['ID'],\n",
    "    'prob': retain_test_prob,\n",
    "    'pred': re_y_pred_label\n",
    "})\n",
    "pub_pred = sudo1_df.merge(test_prob_af, on='ID', how='left')\n",
    "pub_pred.sort_values(by=['prob', 'pred'], ascending=False).reset_index(drop=True)"
   ]
  },
  {
   "cell_type": "code",
   "execution_count": null,
   "id": "70a208b6",
   "metadata": {},
   "outputs": [],
   "source": [
    "pd.DataFrame({\n",
    "    'ID':pub_pred['ID'],\n",
    "    '飆股': (pub_pred['pred']>best_threshold_be).astype(int),\n",
    "}).to_csv('./198f_9245_7656_139.csv', index=False)"
   ]
  },
  {
   "cell_type": "code",
   "execution_count": null,
   "id": "27222901",
   "metadata": {},
   "outputs": [],
   "source": [
    "# pub_pos_idx = np.where(sudo1_df['飆股']==1)[0]\n",
    "# concat_idx = pub_pos_idx\n",
    "\n",
    "# pub_neg_idx = np.where(sudo1_df['飆股']==0)[0]\n",
    "# num_pub_neg = int(len(pub_pos_idx)*rate)\n",
    "# np.random.seed(85)\n",
    "# pub_neg_idx = np.random.choice(pub_neg_idx, size=num_pub_neg, replace=False)\n",
    "# concat_idx = np.concatenate([pub_pos_idx, pub_neg_idx])"
   ]
  },
  {
   "cell_type": "code",
   "execution_count": 3,
   "id": "54bf1f3b",
   "metadata": {},
   "outputs": [
    {
     "data": {
      "text/plain": [
       "0.8279914316315601"
      ]
     },
     "execution_count": 3,
     "metadata": {},
     "output_type": "execute_result"
    }
   ],
   "source": [
    "def f1(prec, recall):\n",
    "    if prec == 0 and recall == 0:\n",
    "        return 0\n",
    "    else:\n",
    "        return (2 * prec * recall) / (prec + recall)\n",
    "f1(0.942, 0.7386)"
   ]
  },
  {
   "cell_type": "code",
   "execution_count": null,
   "id": "384922d0",
   "metadata": {},
   "outputs": [],
   "source": [
    "# # original training data\n",
    "# train_proportion = 0.8\n",
    "# df_pos_idx = np.where(train_df['飆股'] == 1)[0]\n",
    "# df_neg_idx = np.where(train_df['飆股'] == 0)[0]\n",
    "# np.random.seed(1111)\n",
    "# np.random.shuffle(df_neg_idx)\n",
    "# np.random.shuffle(df_pos_idx)\n",
    "\n",
    "# num_train_pos = int(train_proportion * len(df_pos_idx))\n",
    "# num_train_neg = int(train_proportion * len(df_neg_idx))\n",
    "# train_idx = np.concatenate([df_pos_idx[ :num_train_pos],\n",
    "#                             df_neg_idx[ :num_train_neg]])\n",
    "\n",
    "# valid_idx = np.concatenate([df_pos_idx[num_train_pos: ],\n",
    "#                             df_neg_idx[num_train_neg: ]])\n",
    "\n",
    "# X_train = train_df.loc[train_idx, selected_features]\n",
    "# X_valid = train_df.loc[valid_idx, selected_features]\n",
    "# y_train = train_df.loc[train_idx, '飆股']\n",
    "# y_valid = train_df.loc[valid_idx, '飆股']\n",
    "# print(f\"Training set proportion: {y_train.value_counts(normalize=True)} \\n\")\n",
    "# print(f\"Validation set proportion: {y_valid.value_counts(normalize=True)} \\n\")\n",
    "\n",
    "\n",
    "# # known testing data\n",
    "# zero_idx = np.array(zero_list) - 1\n",
    "# one_idx = np.where(sudo1_df['飆股'] == 1)[0]\n",
    "# concat_idx = np.concatenate((zero_idx, one_idx))\n",
    " \n",
    "# X_test_all = test_df.loc[:, selected_features]\n",
    "# X_test_known = X_test_all.loc[concat_idx]\n",
    "# y_test_known = sudo1_df.loc[concat_idx, '飆股']\n",
    "# print(f\"Length of known testing set: {len(X_test_known)}\")\n",
    "# print(f\"Known testing set proportion: {y_test_known.value_counts(normalize=True)} \\n\")"
   ]
  }
 ],
 "metadata": {
  "kernelspec": {
   "display_name": "aicup",
   "language": "python",
   "name": "python3"
  },
  "language_info": {
   "codemirror_mode": {
    "name": "ipython",
    "version": 3
   },
   "file_extension": ".py",
   "mimetype": "text/x-python",
   "name": "python",
   "nbconvert_exporter": "python",
   "pygments_lexer": "ipython3",
   "version": "3.10.16"
  }
 },
 "nbformat": 4,
 "nbformat_minor": 5
}
