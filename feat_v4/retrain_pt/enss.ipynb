{
 "cells": [
  {
   "cell_type": "code",
   "execution_count": 2,
   "id": "71a13022",
   "metadata": {},
   "outputs": [],
   "source": [
    "import os\n",
    "import joblib\n",
    "\n",
    "import pandas as pd\n",
    "import numpy as np"
   ]
  },
  {
   "cell_type": "code",
   "execution_count": 20,
   "id": "03f0b84e",
   "metadata": {},
   "outputs": [],
   "source": [
    "foldder = './smt'\n",
    "df_list = []\n",
    "\n",
    "eval_dict = {\n",
    "    'f1': [],\n",
    "    'precision': [],\n",
    "    'recall': [],\n",
    "}\n",
    "\n",
    "for file in os.listdir(foldder):\n",
    "    element = file.replace('.csv', '').split('_')\n",
    "    f1 = float(element[0]) / 10000\n",
    "    prec = float(element[1]) / 10000\n",
    "    rec = float(element[2]) / 10000\n",
    "    eval_dict['f1'].append(f1)\n",
    "    eval_dict['precision'].append(prec)\n",
    "    eval_dict['recall'].append(rec)\n",
    "    file_path = os.path.join(foldder, file)\n",
    "    df_list.append(file_path)"
   ]
  },
  {
   "cell_type": "code",
   "execution_count": 4,
   "id": "46b46d7d",
   "metadata": {},
   "outputs": [],
   "source": [
    "def create_df(path_list):\n",
    "    prob_df = pd.DataFrame()\n",
    "    pred_df = pd.DataFrame()\n",
    "    for path in path_list:\n",
    "        sub_df = pd.read_csv(path)\n",
    "        prob_df = pd.concat([prob_df, sub_df.iloc[:, 2]], axis=1)\n",
    "        pred_df = pd.concat([pred_df, sub_df.iloc[:, 1]], axis=1)\n",
    "    prob_df = prob_df.reset_index(drop=True)\n",
    "    pred_df = pred_df.reset_index(drop=True)\n",
    "    \n",
    "    # prob_df['ID'] = sub_df['id']\n",
    "    # pred_df['ID'] = sub_df['id']\n",
    "    return prob_df, pred_df"
   ]
  },
  {
   "cell_type": "code",
   "execution_count": 5,
   "id": "7b02a762",
   "metadata": {},
   "outputs": [],
   "source": [
    "prob_df, pred_df = create_df(df_list)"
   ]
  },
  {
   "cell_type": "code",
   "execution_count": 26,
   "id": "2f06d765",
   "metadata": {},
   "outputs": [],
   "source": [
    "f1_np = np.array(eval_dict['f1'])\n",
    "precision_np = np.array(eval_dict['precision'])\n",
    "recall_np = np.array(eval_dict['recall'])\n",
    "\n",
    "weight_pred = pred_df.values * precision_np"
   ]
  },
  {
   "cell_type": "code",
   "execution_count": 14,
   "id": "c9baf93d",
   "metadata": {},
   "outputs": [
    {
     "name": "stderr",
     "output_type": "stream",
     "text": [
      "/tmp/ipykernel_2289621/2722370535.py:12: FutureWarning: Setting an item of incompatible dtype is deprecated and will raise an error in a future version of pandas. Value '0.5' has dtype incompatible with int64, please explicitly cast to a compatible dtype first.\n",
      "  f_guess.iloc[i, 1] = 0.5\n"
     ]
    }
   ],
   "source": [
    "guess = pd.read_csv('../../testing/guess136.csv')\n",
    "f_guess = guess.copy()\n",
    "\n",
    "zero_list = [\n",
    "    6722, 8831, 11999, 7555, 22570, 6898, 20029, 14120,\n",
    "    14467, 4160, 12519, 8484, 9251, 18104, 18850, 15676, 16995,\n",
    "    23508, 15749, 24661, 19364, 13181, 5418, 7613, 23976, 780,\n",
    "    23557, 10288, 5375, 17790, 3479,2731,7752,6833,22045,23492,18305,14120,4328\n",
    "]\n",
    "zero_np = np.array(zero_list) - 1\n",
    "for i in zero_np:\n",
    "    f_guess.iloc[i, 1] = 0.5"
   ]
  },
  {
   "cell_type": "code",
   "execution_count": 29,
   "id": "6206fe3c",
   "metadata": {},
   "outputs": [],
   "source": [
    "en_prob_df = pd.DataFrame({\n",
    "    'ID': guess['ID'],\n",
    "    'prob': prob_df.mean(axis=1)[:25108].values,\n",
    "    'pred': pred_df.mean(axis=1)[:25108].values,\n",
    "    'weight_pred': weight_pred.mean(axis=1)[:25108]\n",
    "})"
   ]
  },
  {
   "cell_type": "code",
   "execution_count": 42,
   "id": "0dca3a8f",
   "metadata": {},
   "outputs": [
    {
     "data": {
      "application/vnd.microsoft.datawrangler.viewer.v0+json": {
       "columns": [
        {
         "name": "index",
         "rawType": "int64",
         "type": "integer"
        },
        {
         "name": "ID",
         "rawType": "object",
         "type": "string"
        },
        {
         "name": "prob",
         "rawType": "float64",
         "type": "float"
        },
        {
         "name": "pred",
         "rawType": "float64",
         "type": "float"
        },
        {
         "name": "weight_pred",
         "rawType": "float64",
         "type": "float"
        },
        {
         "name": "飆股",
         "rawType": "float64",
         "type": "float"
        }
       ],
       "conversionMethod": "pd.DataFrame",
       "ref": "abb4e510-e9f6-4529-8fd8-e42d7b3c189a",
       "rows": [
        [
         "0",
         "PU-10090",
         "0.9751419731998572",
         "1.0",
         "0.9255954545454547",
         "1.0"
        ],
        [
         "1",
         "PU-10091",
         "0.9897870450680357",
         "1.0",
         "0.9255954545454547",
         "1.0"
        ],
        [
         "2",
         "PU-1024",
         "0.99989553750269",
         "1.0",
         "0.9255954545454547",
         "1.0"
        ],
        [
         "3",
         "PU-10251",
         "0.9637167005295001",
         "1.0",
         "0.9255954545454547",
         "1.0"
        ],
        [
         "4",
         "PU-10413",
         "0.9999999732594952",
         "1.0",
         "0.9255954545454547",
         "1.0"
        ],
        [
         "5",
         "PU-10812",
         "0.9999927799623097",
         "1.0",
         "0.9255954545454547",
         "1.0"
        ],
        [
         "6",
         "PU-10860",
         "0.9999995168169641",
         "1.0",
         "0.9255954545454547",
         "1.0"
        ],
        [
         "7",
         "PU-1137",
         "0.9800148600453827",
         "1.0",
         "0.9255954545454547",
         "1.0"
        ],
        [
         "8",
         "PU-11459",
         "0.9999497298889122",
         "1.0",
         "0.9255954545454547",
         "1.0"
        ],
        [
         "9",
         "PU-11492",
         "0.9999996180282177",
         "1.0",
         "0.9255954545454547",
         "1.0"
        ],
        [
         "10",
         "PU-11496",
         "0.9999999214093191",
         "1.0",
         "0.9255954545454547",
         "1.0"
        ],
        [
         "11",
         "PU-11528",
         "0.9999664504975669",
         "1.0",
         "0.9255954545454547",
         "1.0"
        ],
        [
         "12",
         "PU-11637",
         "0.9999535572405207",
         "1.0",
         "0.9255954545454547",
         "1.0"
        ],
        [
         "13",
         "PU-11755",
         "0.9882526040549334",
         "1.0",
         "0.9255954545454547",
         "1.0"
        ],
        [
         "14",
         "PU-11761",
         "0.9731172705506247",
         "1.0",
         "0.9255954545454547",
         "1.0"
        ],
        [
         "15",
         "PU-12209",
         "0.9476373498834062",
         "1.0",
         "0.9255954545454547",
         "1.0"
        ],
        [
         "16",
         "PU-123",
         "0.9999348291686806",
         "1.0",
         "0.9255954545454547",
         "1.0"
        ],
        [
         "17",
         "PU-12497",
         "0.9999998771494742",
         "1.0",
         "0.9255954545454547",
         "1.0"
        ],
        [
         "18",
         "PU-1268",
         "0.936325720975666",
         "1.0",
         "0.9255954545454547",
         "1.0"
        ],
        [
         "19",
         "PU-12921",
         "0.9982933464877406",
         "1.0",
         "0.9255954545454547",
         "1.0"
        ],
        [
         "20",
         "PU-14038",
         "0.9999933810612773",
         "1.0",
         "0.9255954545454547",
         "1.0"
        ],
        [
         "21",
         "PU-14221",
         "0.9986036029247176",
         "1.0",
         "0.9255954545454547",
         "1.0"
        ],
        [
         "22",
         "PU-14321",
         "0.828873816640032",
         "1.0",
         "0.9255954545454547",
         "1.0"
        ],
        [
         "23",
         "PU-14329",
         "0.8847245174176405",
         "1.0",
         "0.9255954545454547",
         "1.0"
        ],
        [
         "24",
         "PU-14894",
         "0.999999976070035",
         "1.0",
         "0.9255954545454547",
         "1.0"
        ],
        [
         "25",
         "PU-14943",
         "0.5702061340683426",
         "1.0",
         "0.9255954545454547",
         "1.0"
        ],
        [
         "26",
         "PU-15144",
         "0.999795951432441",
         "1.0",
         "0.9255954545454547",
         "1.0"
        ],
        [
         "27",
         "PU-15388",
         "0.9999691202544823",
         "1.0",
         "0.9255954545454547",
         "1.0"
        ],
        [
         "28",
         "PU-15546",
         "0.9999298404562431",
         "1.0",
         "0.9255954545454547",
         "1.0"
        ],
        [
         "29",
         "PU-15550",
         "0.996760942047026",
         "1.0",
         "0.9255954545454547",
         "1.0"
        ],
        [
         "30",
         "PU-15755",
         "0.9999970706075487",
         "1.0",
         "0.9255954545454547",
         "1.0"
        ],
        [
         "31",
         "PU-15835",
         "0.9999224496000642",
         "1.0",
         "0.9255954545454547",
         "1.0"
        ],
        [
         "32",
         "PU-16049",
         "0.9999998280509576",
         "1.0",
         "0.9255954545454547",
         "1.0"
        ],
        [
         "33",
         "PU-16195",
         "0.9999976094586881",
         "1.0",
         "0.9255954545454547",
         "1.0"
        ],
        [
         "34",
         "PU-16205",
         "0.9599460459128354",
         "1.0",
         "0.9255954545454547",
         "1.0"
        ],
        [
         "35",
         "PU-16325",
         "0.9997303263334321",
         "1.0",
         "0.9255954545454547",
         "1.0"
        ],
        [
         "36",
         "PU-16578",
         "0.9998113995235023",
         "1.0",
         "0.9255954545454547",
         "1.0"
        ],
        [
         "37",
         "PU-167",
         "0.9994656556448054",
         "1.0",
         "0.9255954545454547",
         "1.0"
        ],
        [
         "38",
         "PU-16795",
         "0.8901034930697056",
         "1.0",
         "0.9255954545454547",
         "1.0"
        ],
        [
         "39",
         "PU-17238",
         "0.9999865001386264",
         "1.0",
         "0.9255954545454547",
         "1.0"
        ],
        [
         "40",
         "PU-17319",
         "0.9981917100976412",
         "1.0",
         "0.9255954545454547",
         "1.0"
        ],
        [
         "41",
         "PU-17506",
         "0.7250422502846879",
         "1.0",
         "0.9255954545454547",
         "1.0"
        ],
        [
         "42",
         "PU-17765",
         "0.997919845071534",
         "1.0",
         "0.9255954545454547",
         "1.0"
        ],
        [
         "43",
         "PU-18037",
         "0.9940168754959088",
         "1.0",
         "0.9255954545454547",
         "1.0"
        ],
        [
         "44",
         "PU-18476",
         "0.9867913929972537",
         "1.0",
         "0.9255954545454547",
         "1.0"
        ],
        [
         "45",
         "PU-18724",
         "0.9999998582043762",
         "1.0",
         "0.9255954545454547",
         "1.0"
        ],
        [
         "46",
         "PU-18729",
         "0.9999548160217605",
         "1.0",
         "0.9255954545454547",
         "1.0"
        ],
        [
         "47",
         "PU-18826",
         "0.993347013661782",
         "1.0",
         "0.9255954545454547",
         "1.0"
        ],
        [
         "48",
         "PU-18996",
         "0.9999891278238904",
         "1.0",
         "0.9255954545454547",
         "1.0"
        ],
        [
         "49",
         "PU-19681",
         "0.9911601866502947",
         "1.0",
         "0.9255954545454547",
         "1.0"
        ]
       ],
       "shape": {
        "columns": 5,
        "rows": 25108
       }
      },
      "text/html": [
       "<div>\n",
       "<style scoped>\n",
       "    .dataframe tbody tr th:only-of-type {\n",
       "        vertical-align: middle;\n",
       "    }\n",
       "\n",
       "    .dataframe tbody tr th {\n",
       "        vertical-align: top;\n",
       "    }\n",
       "\n",
       "    .dataframe thead th {\n",
       "        text-align: right;\n",
       "    }\n",
       "</style>\n",
       "<table border=\"1\" class=\"dataframe\">\n",
       "  <thead>\n",
       "    <tr style=\"text-align: right;\">\n",
       "      <th></th>\n",
       "      <th>ID</th>\n",
       "      <th>prob</th>\n",
       "      <th>pred</th>\n",
       "      <th>weight_pred</th>\n",
       "      <th>飆股</th>\n",
       "    </tr>\n",
       "  </thead>\n",
       "  <tbody>\n",
       "    <tr>\n",
       "      <th>0</th>\n",
       "      <td>PU-10090</td>\n",
       "      <td>9.751420e-01</td>\n",
       "      <td>1.0</td>\n",
       "      <td>0.925595</td>\n",
       "      <td>1.0</td>\n",
       "    </tr>\n",
       "    <tr>\n",
       "      <th>1</th>\n",
       "      <td>PU-10091</td>\n",
       "      <td>9.897870e-01</td>\n",
       "      <td>1.0</td>\n",
       "      <td>0.925595</td>\n",
       "      <td>1.0</td>\n",
       "    </tr>\n",
       "    <tr>\n",
       "      <th>2</th>\n",
       "      <td>PU-1024</td>\n",
       "      <td>9.998955e-01</td>\n",
       "      <td>1.0</td>\n",
       "      <td>0.925595</td>\n",
       "      <td>1.0</td>\n",
       "    </tr>\n",
       "    <tr>\n",
       "      <th>3</th>\n",
       "      <td>PU-10251</td>\n",
       "      <td>9.637167e-01</td>\n",
       "      <td>1.0</td>\n",
       "      <td>0.925595</td>\n",
       "      <td>1.0</td>\n",
       "    </tr>\n",
       "    <tr>\n",
       "      <th>4</th>\n",
       "      <td>PU-10413</td>\n",
       "      <td>1.000000e+00</td>\n",
       "      <td>1.0</td>\n",
       "      <td>0.925595</td>\n",
       "      <td>1.0</td>\n",
       "    </tr>\n",
       "    <tr>\n",
       "      <th>...</th>\n",
       "      <td>...</td>\n",
       "      <td>...</td>\n",
       "      <td>...</td>\n",
       "      <td>...</td>\n",
       "      <td>...</td>\n",
       "    </tr>\n",
       "    <tr>\n",
       "      <th>25103</th>\n",
       "      <td>PU-9994</td>\n",
       "      <td>5.378237e-10</td>\n",
       "      <td>0.0</td>\n",
       "      <td>0.000000</td>\n",
       "      <td>0.0</td>\n",
       "    </tr>\n",
       "    <tr>\n",
       "      <th>25104</th>\n",
       "      <td>PU-9995</td>\n",
       "      <td>1.137533e-09</td>\n",
       "      <td>0.0</td>\n",
       "      <td>0.000000</td>\n",
       "      <td>0.0</td>\n",
       "    </tr>\n",
       "    <tr>\n",
       "      <th>25105</th>\n",
       "      <td>PU-9996</td>\n",
       "      <td>6.871566e-10</td>\n",
       "      <td>0.0</td>\n",
       "      <td>0.000000</td>\n",
       "      <td>0.0</td>\n",
       "    </tr>\n",
       "    <tr>\n",
       "      <th>25106</th>\n",
       "      <td>PU-9998</td>\n",
       "      <td>3.529868e-09</td>\n",
       "      <td>0.0</td>\n",
       "      <td>0.000000</td>\n",
       "      <td>0.0</td>\n",
       "    </tr>\n",
       "    <tr>\n",
       "      <th>25107</th>\n",
       "      <td>PU-9999</td>\n",
       "      <td>4.370536e-09</td>\n",
       "      <td>0.0</td>\n",
       "      <td>0.000000</td>\n",
       "      <td>0.0</td>\n",
       "    </tr>\n",
       "  </tbody>\n",
       "</table>\n",
       "<p>25108 rows × 5 columns</p>\n",
       "</div>"
      ],
      "text/plain": [
       "             ID          prob  pred  weight_pred   飆股\n",
       "0      PU-10090  9.751420e-01   1.0     0.925595  1.0\n",
       "1      PU-10091  9.897870e-01   1.0     0.925595  1.0\n",
       "2       PU-1024  9.998955e-01   1.0     0.925595  1.0\n",
       "3      PU-10251  9.637167e-01   1.0     0.925595  1.0\n",
       "4      PU-10413  1.000000e+00   1.0     0.925595  1.0\n",
       "...         ...           ...   ...          ...  ...\n",
       "25103   PU-9994  5.378237e-10   0.0     0.000000  0.0\n",
       "25104   PU-9995  1.137533e-09   0.0     0.000000  0.0\n",
       "25105   PU-9996  6.871566e-10   0.0     0.000000  0.0\n",
       "25106   PU-9998  3.529868e-09   0.0     0.000000  0.0\n",
       "25107   PU-9999  4.370536e-09   0.0     0.000000  0.0\n",
       "\n",
       "[25108 rows x 5 columns]"
      ]
     },
     "execution_count": 42,
     "metadata": {},
     "output_type": "execute_result"
    }
   ],
   "source": [
    "en_prob_df.merge(f_guess, on='ID', how='outer').sort_values(by=['pred', '飆股'], ascending=False).reset_index(drop=True)"
   ]
  },
  {
   "cell_type": "code",
   "execution_count": 50,
   "id": "007323d5",
   "metadata": {},
   "outputs": [
    {
     "data": {
      "text/plain": [
       "0.8311004784688996"
      ]
     },
     "execution_count": 50,
     "metadata": {},
     "output_type": "execute_result"
    }
   ],
   "source": [
    "def f1(prec, rec):\n",
    "    return 2 * (prec * rec) / (prec + rec)\n",
    "f1(0.772, 0.9)"
   ]
  }
 ],
 "metadata": {
  "kernelspec": {
   "display_name": "aicup",
   "language": "python",
   "name": "python3"
  },
  "language_info": {
   "codemirror_mode": {
    "name": "ipython",
    "version": 3
   },
   "file_extension": ".py",
   "mimetype": "text/x-python",
   "name": "python",
   "nbconvert_exporter": "python",
   "pygments_lexer": "ipython3",
   "version": "3.10.16"
  }
 },
 "nbformat": 4,
 "nbformat_minor": 5
}
