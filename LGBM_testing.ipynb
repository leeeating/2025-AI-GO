{
 "cells": [
  {
   "cell_type": "code",
   "execution_count": 1,
   "metadata": {},
   "outputs": [],
   "source": [
    "import lightgbm as lgb\n",
    "import numpy as np\n",
    "import pandas as pd\n",
    "import matplotlib.pyplot as plt\n",
    "\n",
    "from sklearn.model_selection import train_test_split\n",
    "from sklearn.metrics import f1_score, precision_recall_curve, precision_score, recall_score\n"
   ]
  },
  {
   "cell_type": "code",
   "execution_count": 2,
   "metadata": {},
   "outputs": [
    {
     "name": "stdout",
     "output_type": "stream",
     "text": [
      "Loading data...\n"
     ]
    }
   ],
   "source": [
    "print(\"Loading data...\")\n",
    "df = pd.read_parquet(\"./Data/training_feature_v1.parquet\")\n",
    "test_df = pd.read_parquet(\"testing/public_x.parquet\")"
   ]
  },
  {
   "cell_type": "code",
   "execution_count": null,
   "metadata": {},
   "outputs": [],
   "source": [
    "model_name = 'feat_v4/retrain_pt/model/pt_0.905_0.806_143157.txt'\n",
    "model =lgb.Booster(model_file=model_name)\n",
    "file_name = model_name.split(\"/\")[-1].split(\".txt\")[0]\n",
    "print(\"file_name:\", file_name)\n",
    "\n",
    "\n",
    "selected_features = model.feature_name()\n",
    "X = df[selected_features]\n",
    "y = df.iloc[:, -1]\n",
    "print(\"X shape:\", X.shape)\n",
    "\n",
    "X_train, X_valid, y_train, y_valid = train_test_split(X, y, test_size=0.2, stratify=y, random_state=42)"
   ]
  },
  {
   "cell_type": "code",
   "execution_count": null,
   "metadata": {},
   "outputs": [],
   "source": [
    "y_pred_prob = model.predict(X_valid, num_iteration=model.best_iteration)"
   ]
  },
  {
   "cell_type": "code",
   "execution_count": null,
   "metadata": {},
   "outputs": [],
   "source": [
    "# y_valid: 真實標籤\n",
    "# y_pred_prob: 模型預測的機率（對 class=1）\n",
    "\n",
    "# 1. 計算 PR 曲線\n",
    "prec_lst, rec_lst, thresholds = precision_recall_curve(y_valid, y_pred_prob)\n",
    "\n",
    "# 2. 對齊長度（thresholds 比較短一個）\n",
    "prec_lst = prec_lst[:-1]\n",
    "rec_lst = rec_lst[:-1]\n",
    "thresholds = thresholds\n",
    "\n",
    "# 3. 計算每個 threshold 對應的 F1\n",
    "f1s = 2 * prec_lst * rec_lst / (prec_lst + rec_lst + 1e-10)\n",
    "\n",
    "# 4. 找出 F1 最大的位置\n",
    "best_idx = np.argmax(f1s)\n",
    "best_f1 = f1s[best_idx]\n",
    "best_prec = prec_lst[best_idx]\n",
    "best_rec = rec_lst[best_idx]\n",
    "\n",
    "best_threshold = thresholds[best_idx]\n",
    "print(f\"Best threshold: {best_threshold}\")\n",
    "print(f\"F1 Score: {best_f1:.4f}, Precision: {best_prec:.4f}, Recall: {best_rec:.4f}\")"
   ]
  },
  {
   "cell_type": "code",
   "execution_count": null,
   "metadata": {},
   "outputs": [],
   "source": [
    "plt.figure(figsize=(7,5))\n",
    "plt.plot(thresholds, prec_lst, label='Precision')\n",
    "plt.plot(thresholds, rec_lst, label='Recall')\n",
    "plt.plot(thresholds, f1s, label='F1 Score', linestyle='--')\n",
    "plt.axvline(best_threshold, color='red', linestyle=':', label=f'Best Threshold = {best_threshold:.4f}')\n",
    "plt.scatter(best_threshold, best_f1, color='red', zorder=5)\n",
    "\n",
    "plt.xlabel('Threshold')\n",
    "plt.ylabel('Score')\n",
    "plt.title('Precision, Recall, F1 vs Threshold')\n",
    "plt.legend()\n",
    "plt.grid(True)\n",
    "# plt.show()  # 若有 GUI 可開啟\n"
   ]
  },
  {
   "cell_type": "code",
   "execution_count": null,
   "metadata": {},
   "outputs": [],
   "source": [
    "test_df = test_df[selected_features]\n",
    "y_test_prob = model.predict(data=test_df, num_iteration=model.best_iteration)\n",
    "y_pred_label = (y_test_prob >= best_threshold).astype(int)\n",
    "np.unique(y_pred_label, return_counts=True)"
   ]
  },
  {
   "cell_type": "code",
   "execution_count": null,
   "metadata": {},
   "outputs": [],
   "source": [
    "smt_name = f'smt/csv_file/{file_name}.csv'\n",
    "tmplate = pd.read_csv(\"testing/submission_template_public.csv\")\n",
    "tmplate['飆股'] = y_pred_label\n",
    "tmplate.to_csv(smt_name, index=False)\n",
    "tmp = pd.read_csv(smt_name)\n",
    "print(tmp['飆股'].value_counts())\n",
    "print(smt_name)"
   ]
  },
  {
   "cell_type": "code",
   "execution_count": 1,
   "metadata": {},
   "outputs": [
    {
     "name": "stdout",
     "output_type": "stream",
     "text": [
      "飆股\n",
      "0    25104\n",
      "1        4\n",
      "Name: count, dtype: int64\n",
      "Series([], Name: count, dtype: int64)\n"
     ]
    }
   ],
   "source": [
    "import pandas as pd\n",
    "tmp = pd.read_csv('testing/g4.csv')\n",
    "print(tmp['飆股'][:25108].value_counts())\n",
    "print(tmp['飆股'][25108:].value_counts())\n"
   ]
  }
 ],
 "metadata": {
  "kernelspec": {
   "display_name": "aicup",
   "language": "python",
   "name": "python3"
  },
  "language_info": {
   "codemirror_mode": {
    "name": "ipython",
    "version": 3
   },
   "file_extension": ".py",
   "mimetype": "text/x-python",
   "name": "python",
   "nbconvert_exporter": "python",
   "pygments_lexer": "ipython3",
   "version": "3.10.16"
  }
 },
 "nbformat": 4,
 "nbformat_minor": 2
}
