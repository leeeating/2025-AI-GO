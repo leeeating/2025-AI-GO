{
 "cells": [
  {
   "cell_type": "code",
   "execution_count": null,
   "id": "d2841dff",
   "metadata": {},
   "outputs": [],
   "source": [
    "import lightgbm as lgb\n",
    "import numpy as np\n",
    "import pandas as pd\n",
    "import matplotlib.pyplot as plt\n",
    "from sklearn.preprocessing import PowerTransformer, StandardScaler\n",
    "from sklearn.metrics import precision_recall_curve, precision_score, recall_score, f1_score, confusion_matrix, \n",
    "from sklearn.model_selection import train_test_split, StratifiedKFold\n",
    "\n",
    "def eval_all(preds, dtrain):\n",
    "    y_true = dtrain.get_label()\n",
    "    prec, recall, thresholds = precision_recall_curve(y_true, preds)\n",
    "    f1s = 2 * (prec * recall) / (prec + recall + 1e-10)\n",
    "    f1s[np.isnan(f1s)] = 0\n",
    "    best_idx = np.argmax(f1s)\n",
    "    return [\n",
    "            ('f1', f1s[best_idx], True),\n",
    "            ('precision', prec[best_idx], True),\n",
    "            ('recall', recall[best_idx], True),\n",
    "            ]"
   ]
  },
  {
   "cell_type": "code",
   "execution_count": 12,
   "id": "483504b1",
   "metadata": {},
   "outputs": [],
   "source": [
    "train_df = pd.read_parquet(\"../Data/training_feature_v1.parquet\")\n",
    "test_df = pd.read_parquet(\"../testing/X_all.parquet\")\n",
    "# sudo0_df = pd.read_csv(\"../smt/prc9/sudo_0.csv\") #180\n",
    "# sudo1_df = pd.read_csv(\"../smt/prc9/prc9_smt_127.csv\")\n",
    "\n",
    "# sudo1_df = pd.read_csv(\"../testing/true127.csv\")\n",
    "# sudo1_df= pd.read_csv('../testing/guess.csv')\n",
    "\n",
    "# tmpl = pd.read_csv('../testing/submission_template_public_and_private.csv')"
   ]
  },
  {
   "cell_type": "code",
   "execution_count": 16,
   "id": "317a9961",
   "metadata": {},
   "outputs": [
    {
     "name": "stdout",
     "output_type": "stream",
     "text": [
      "Selected 153 features\n"
     ]
    }
   ],
   "source": [
    "NUM = 1000\n",
    "CUM = 15\n",
    "# ========== 讀取特徵重要性 ==========\n",
    "# gain = pd.read_csv(filepath_or_buffer=f'./pos_shap_abs_mean.csv', index_col=0)\n",
    "\n",
    "# method 1\n",
    "gain = pd.read_csv(filepath_or_buffer=f'../feat_v4/gain.csv', index_col=0)\n",
    "num_trails = gain.shape[1]\n",
    "\n",
    "res = {}\n",
    "for i in range(num_trails):\n",
    "    rank = gain.iloc[:, i].nlargest(n=NUM).index\n",
    "    for item in rank:\n",
    "        if item not in res:\n",
    "            res[item] = 0\n",
    "        res[item] += 1\n",
    "        \n",
    "rank_cnt = pd.DataFrame(res.items(), columns=['feature', 'rank'])\n",
    "selected_features = rank_cnt.query(f'rank >= {CUM}')['feature']\n",
    "print(f\"Selected {len(selected_features)} features\")\n",
    "del gain"
   ]
  },
  {
   "cell_type": "code",
   "execution_count": 17,
   "id": "b2668301",
   "metadata": {},
   "outputs": [],
   "source": [
    "X_train = train_df[selected_features]\n",
    "y_train = train_df['飆股']\n",
    "\n",
    "scaler = PowerTransformer(method='yeo-johnson', standardize=True)\n",
    "X_train = scaler.fit_transform(X_train) \n",
    "X_test = scaler.transform(test_df[selected_features])"
   ]
  },
  {
   "cell_type": "code",
   "execution_count": 27,
   "id": "0998e9ff",
   "metadata": {},
   "outputs": [],
   "source": [
    "np.random.seed(1111)\n",
    "seeds = np.random.randint(0, 10000, size=10)\n",
    "num_splits = 10\n",
    "\n",
    "wrong_cnt = np.zeros((X_train.shape[0], ))\n",
    "prob_metrics = np.zeros((X_train.shape[0], len(seeds)))\n",
    "pred_metrics = np.zeros((X_train.shape[0], len(seeds)))\n",
    "thres_rec = np.zeros((len(seeds), num_splits))\n",
    "f1_rec = np.zeros((len(seeds), num_splits))\n",
    "prec_rec = np.zeros((len(seeds), num_splits))\n",
    "recall_rec = np.zeros((len(seeds), num_splits))"
   ]
  },
  {
   "cell_type": "code",
   "execution_count": null,
   "id": "092c54cd",
   "metadata": {},
   "outputs": [],
   "source": [
    "for idx, seed in enumerate(seeds):\n",
    "    stf = StratifiedKFold(n_splits=num_splits, shuffle=True, random_state=seed)\n",
    "    for fold, (train_idx, val_idx) in enumerate(stf.split(X_train, y_train)):\n",
    "        print(f\"Iteration {idx+1}, fold {fold+1}\")\n",
    "\n",
    "        X_train_fold, X_val_fold = X_train[train_idx], X_train[val_idx]\n",
    "        y_train_fold, y_val_fold = y_train.iloc[train_idx], y_train.iloc[val_idx]\n",
    "\n",
    "        # LightGBM\n",
    "        lgb_train_set = lgb.Dataset(X_train_fold, label=y_train_fold)\n",
    "        lgb_valid_set = lgb.Dataset(X_val_fold, label=y_val_fold, reference=lgb_train_set)\n",
    "\n",
    "        params = {\n",
    "            'objective': 'binary',\n",
    "            'boosting_type': 'gbdt',\n",
    "            # 'data_sample_strategy': 'goss',\n",
    "            'metric': ['recall', 'f1', 'precision', ],\n",
    "            # 'metric': 'binary_logloss',\n",
    "            'is_unbalance': True,\n",
    "            'verbosity': -1,\n",
    "\n",
    "            'learning_rate': 0.03,\n",
    "            'num_leaves': 64,\n",
    "            'max_depth': -1,\n",
    "            # 'min_data_in_leaf': 5,\n",
    "\n",
    "            'feature_fraction': 0.7,\n",
    "            'bagging_fraction': 0.75,\n",
    "            # 'top_rate': 0.25,\n",
    "            # 'other_rate': 0.5,\n",
    "\n",
    "            'seed': seed,\n",
    "            'n_jobs': 50,\n",
    "        }\n",
    "\n",
    "        model = lgb.train(\n",
    "            params,\n",
    "            train_set=lgb_train_set,\n",
    "            valid_sets=[lgb_valid_set],\n",
    "            valid_names=['valid', 'test'],\n",
    "            num_boost_round=10000,\n",
    "            feval=[eval_all,],\n",
    "            callbacks=[\n",
    "                lgb.early_stopping(stopping_rounds=3000, first_metric_only=True, verbose=True),\n",
    "                lgb.log_evaluation(period=1000),\n",
    "                # lgb.reset_parameter(learning_rate=dynamic_lr),\n",
    "                ], )\n",
    "        \n",
    "        val_prob = model.predict(X_val_fold, num_iteration=model.best_iteration)\n",
    "        prec, recall, thresholds = precision_recall_curve(y_val_fold, val_prob)\n",
    "        f1s = 2 * (prec * recall) / (prec + recall + 1e-10)\n",
    "        f1s[np.isnan(f1s)] = 0\n",
    "        best_idx = np.argmax(f1s)\n",
    "        best_threshold = thresholds[best_idx]\n",
    "\n",
    "        val_pred = (val_prob >= best_threshold).astype(int)\n",
    "        wrong_idx = np.where(val_pred != y_val_fold.values.reshape(-1))[0]\n",
    "        wrong_cnt[val_idx][wrong_idx] += 1\n",
    "        cm = confusion_matrix(y_val_fold, val_pred)\n",
    "        print(f\"Number of False Positives: {cm[0][1]}, Number of False Negatives: {cm[1][0]}\")\n",
    "\n",
    "\n",
    "        prob_metrics[val_idx, idx] = val_prob\n",
    "        pred_metrics[val_idx, idx] = val_pred\n",
    "\n",
    "        thres_rec[idx, fold] = best_threshold\n",
    "        f1_rec[idx, fold] = f1s[best_idx]\n",
    "        prec_rec[idx, fold] = prec[best_idx]\n",
    "        recall_rec[idx, fold] = recall[best_idx]\n",
    "        print(f\"Threshold: {best_threshold:.4f}, f1: {f1s[best_idx]:.4f}, precision: {prec[best_idx]:.4f}, recall: {recall[best_idx]:.4f}\")\n",
    "        print()\n",
    "    # print(f\"==========================\")"
   ]
  },
  {
   "cell_type": "code",
   "execution_count": 51,
   "id": "92d36f64",
   "metadata": {},
   "outputs": [
    {
     "data": {
      "text/plain": [
       "0.8340563153642925"
      ]
     },
     "execution_count": 51,
     "metadata": {},
     "output_type": "execute_result"
    }
   ],
   "source": [
    "def Cal_F1(precison, recall):\n",
    "    return 2 * (precison * recall) / (precison + recall + 1e-10)\n",
    "\n",
    "Cal_F1(0.9161, 0.7655)"
   ]
  }
 ],
 "metadata": {
  "kernelspec": {
   "display_name": "aicup",
   "language": "python",
   "name": "python3"
  },
  "language_info": {
   "codemirror_mode": {
    "name": "ipython",
    "version": 3
   },
   "file_extension": ".py",
   "mimetype": "text/x-python",
   "name": "python",
   "nbconvert_exporter": "python",
   "pygments_lexer": "ipython3",
   "version": "3.10.16"
  }
 },
 "nbformat": 4,
 "nbformat_minor": 5
}
