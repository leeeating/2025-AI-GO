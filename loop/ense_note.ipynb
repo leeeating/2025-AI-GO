{
 "cells": [
  {
   "cell_type": "code",
   "execution_count": 1,
   "id": "9688cc2a",
   "metadata": {},
   "outputs": [],
   "source": [
    "import os\n",
    "import joblib\n",
    "\n",
    "import pandas as pd\n",
    "import numpy as np"
   ]
  },
  {
   "cell_type": "code",
   "execution_count": 2,
   "id": "4addbed0",
   "metadata": {},
   "outputs": [],
   "source": [
    "ense_test_pred = pd.read_csv('./ense_result/ensemble_test_pred.csv')\n",
    "ense_test_pred = ense_test_pred.dropna(axis=1)\n",
    "enes_test_prob = pd.read_csv('./ense_result/ensemble_test_prob.csv')\n",
    "enes_test_prob = enes_test_prob.dropna(axis=1)\n",
    "tmpl = pd.read_csv('../testing/submission_template_public_and_private.csv')\n",
    "guess = pd.read_csv('../testing/guess136.csv')"
   ]
  },
  {
   "cell_type": "code",
   "execution_count": 3,
   "id": "dd370715",
   "metadata": {},
   "outputs": [
    {
     "name": "stderr",
     "output_type": "stream",
     "text": [
      "/tmp/ipykernel_2124028/638406208.py:13: FutureWarning: Setting an item of incompatible dtype is deprecated and will raise an error in a future version of pandas. Value '0.5' has dtype incompatible with int64, please explicitly cast to a compatible dtype first.\n",
      "  f_guess.iloc[i, 1] = 0.5\n"
     ]
    }
   ],
   "source": [
    "f_guess = guess.copy()\n",
    "\n",
    "zero_list = [\n",
    "    6722, 8831, 11999, 7555, 22570, 6898, 20029, 14120,\n",
    "    14467, 4160, 12519, 8484, 9251, 18104, 18850, 15676, 16995,\n",
    "    23508, 15749, 24661, 19364, 13181, 5418, 7613, 23976, 780,\n",
    "    23557, 10288, 5375, 17790, 3479,2731,7752,6833,22045,23492,18305,14120,4328\n",
    "]\n",
    "\n",
    "zero_np = np.array(zero_list) - 1\n",
    "\n",
    "for i in zero_np:\n",
    "    f_guess.iloc[i, 1] = 0.5"
   ]
  },
  {
   "cell_type": "code",
   "execution_count": 6,
   "id": "bf245087",
   "metadata": {},
   "outputs": [
    {
     "data": {
      "application/vnd.microsoft.datawrangler.viewer.v0+json": {
       "columns": [
        {
         "name": "index",
         "rawType": "int64",
         "type": "integer"
        },
        {
         "name": "ID",
         "rawType": "object",
         "type": "string"
        },
        {
         "name": "mean_pred",
         "rawType": "float64",
         "type": "float"
        },
        {
         "name": "mean_prob",
         "rawType": "float64",
         "type": "float"
        },
        {
         "name": "飆股",
         "rawType": "float64",
         "type": "float"
        }
       ],
       "conversionMethod": "pd.DataFrame",
       "ref": "4d1a079a-f3c5-42b0-adf4-3c70bdd9c939",
       "rows": [
        [
         "0",
         "PU-10090",
         "1.0",
         "0.9999823176223802",
         "1.0"
        ],
        [
         "1",
         "PU-10091",
         "1.0",
         "0.9904113111580464",
         "1.0"
        ],
        [
         "2",
         "PU-1024",
         "1.0",
         "0.9999891959070045",
         "1.0"
        ],
        [
         "3",
         "PU-10251",
         "1.0",
         "0.9684399100730382",
         "1.0"
        ],
        [
         "4",
         "PU-1037",
         "1.0",
         "0.9167862603647454",
         "1.0"
        ],
        [
         "5",
         "PU-10413",
         "1.0",
         "0.9999999999932309",
         "1.0"
        ],
        [
         "6",
         "PU-10751",
         "1.0",
         "0.7623881886531843",
         "1.0"
        ],
        [
         "7",
         "PU-10812",
         "1.0",
         "0.999999429850775",
         "1.0"
        ],
        [
         "8",
         "PU-10860",
         "1.0",
         "0.9999999990930729",
         "1.0"
        ],
        [
         "9",
         "PU-1137",
         "1.0",
         "0.9993875753431511",
         "1.0"
        ],
        [
         "10",
         "PU-11459",
         "1.0",
         "0.9999790728569982",
         "1.0"
        ],
        [
         "11",
         "PU-11492",
         "1.0",
         "0.9999999974643448",
         "1.0"
        ],
        [
         "12",
         "PU-11496",
         "1.0",
         "0.9999999990930074",
         "1.0"
        ],
        [
         "13",
         "PU-11528",
         "1.0",
         "0.9999994124249807",
         "1.0"
        ],
        [
         "14",
         "PU-11637",
         "1.0",
         "0.9999974928026033",
         "1.0"
        ],
        [
         "15",
         "PU-11755",
         "1.0",
         "0.9980594460746405",
         "1.0"
        ],
        [
         "16",
         "PU-11761",
         "1.0",
         "0.9975791451478808",
         "1.0"
        ],
        [
         "17",
         "PU-12174",
         "1.0",
         "0.9976918091127269",
         "1.0"
        ],
        [
         "18",
         "PU-12209",
         "1.0",
         "0.9198602719887798",
         "1.0"
        ],
        [
         "19",
         "PU-123",
         "1.0",
         "0.9999849440335904",
         "1.0"
        ],
        [
         "20",
         "PU-12497",
         "1.0",
         "0.9999999992240591",
         "1.0"
        ],
        [
         "21",
         "PU-1268",
         "1.0",
         "0.9318912337994045",
         "1.0"
        ],
        [
         "22",
         "PU-12921",
         "1.0",
         "0.9987246047390924",
         "1.0"
        ],
        [
         "23",
         "PU-13070",
         "1.0",
         "0.984352858172241",
         "1.0"
        ],
        [
         "24",
         "PU-1358",
         "1.0",
         "0.6374430752520431",
         "1.0"
        ],
        [
         "25",
         "PU-14038",
         "1.0",
         "0.9999996037138824",
         "1.0"
        ],
        [
         "26",
         "PU-14221",
         "1.0",
         "0.9992951258102148",
         "1.0"
        ],
        [
         "27",
         "PU-14321",
         "1.0",
         "0.9538742250322174",
         "1.0"
        ],
        [
         "28",
         "PU-14329",
         "1.0",
         "0.7868106197765322",
         "1.0"
        ],
        [
         "29",
         "PU-14894",
         "1.0",
         "0.999999999979011",
         "1.0"
        ],
        [
         "30",
         "PU-14943",
         "1.0",
         "0.6278767281261705",
         "1.0"
        ],
        [
         "31",
         "PU-14975",
         "1.0",
         "0.5015635715907268",
         "1.0"
        ],
        [
         "32",
         "PU-1508",
         "1.0",
         "0.1629918444528634",
         "1.0"
        ],
        [
         "33",
         "PU-15144",
         "1.0",
         "0.9999371017217188",
         "1.0"
        ],
        [
         "34",
         "PU-15361",
         "1.0",
         "0.6243489052319546",
         "1.0"
        ],
        [
         "35",
         "PU-15388",
         "1.0",
         "0.9999989372930089",
         "1.0"
        ],
        [
         "36",
         "PU-15546",
         "1.0",
         "0.9999995383307569",
         "1.0"
        ],
        [
         "37",
         "PU-15550",
         "1.0",
         "0.9994934605674684",
         "1.0"
        ],
        [
         "38",
         "PU-15634",
         "1.0",
         "0.9429095622715109",
         "1.0"
        ],
        [
         "39",
         "PU-15755",
         "1.0",
         "0.999999976640363",
         "1.0"
        ],
        [
         "40",
         "PU-15835",
         "1.0",
         "0.9999595844778797",
         "1.0"
        ],
        [
         "41",
         "PU-16049",
         "1.0",
         "0.9999999987448356",
         "1.0"
        ],
        [
         "42",
         "PU-16195",
         "1.0",
         "0.9999999810258949",
         "1.0"
        ],
        [
         "43",
         "PU-16205",
         "1.0",
         "0.990565772261513",
         "1.0"
        ],
        [
         "44",
         "PU-16292",
         "1.0",
         "0.5005895103373271",
         "1.0"
        ],
        [
         "45",
         "PU-16325",
         "1.0",
         "0.9999484586616934",
         "1.0"
        ],
        [
         "46",
         "PU-16576",
         "1.0",
         "0.27945444623405075",
         "1.0"
        ],
        [
         "47",
         "PU-16578",
         "1.0",
         "0.9999996822595235",
         "1.0"
        ],
        [
         "48",
         "PU-167",
         "1.0",
         "0.9999996113695713",
         "1.0"
        ],
        [
         "49",
         "PU-16795",
         "1.0",
         "0.7724316551840156",
         "1.0"
        ]
       ],
       "shape": {
        "columns": 4,
        "rows": 25108
       }
      },
      "text/html": [
       "<div>\n",
       "<style scoped>\n",
       "    .dataframe tbody tr th:only-of-type {\n",
       "        vertical-align: middle;\n",
       "    }\n",
       "\n",
       "    .dataframe tbody tr th {\n",
       "        vertical-align: top;\n",
       "    }\n",
       "\n",
       "    .dataframe thead th {\n",
       "        text-align: right;\n",
       "    }\n",
       "</style>\n",
       "<table border=\"1\" class=\"dataframe\">\n",
       "  <thead>\n",
       "    <tr style=\"text-align: right;\">\n",
       "      <th></th>\n",
       "      <th>ID</th>\n",
       "      <th>mean_pred</th>\n",
       "      <th>mean_prob</th>\n",
       "      <th>飆股</th>\n",
       "    </tr>\n",
       "  </thead>\n",
       "  <tbody>\n",
       "    <tr>\n",
       "      <th>0</th>\n",
       "      <td>PU-10090</td>\n",
       "      <td>1.0</td>\n",
       "      <td>9.999823e-01</td>\n",
       "      <td>1.0</td>\n",
       "    </tr>\n",
       "    <tr>\n",
       "      <th>1</th>\n",
       "      <td>PU-10091</td>\n",
       "      <td>1.0</td>\n",
       "      <td>9.904113e-01</td>\n",
       "      <td>1.0</td>\n",
       "    </tr>\n",
       "    <tr>\n",
       "      <th>2</th>\n",
       "      <td>PU-1024</td>\n",
       "      <td>1.0</td>\n",
       "      <td>9.999892e-01</td>\n",
       "      <td>1.0</td>\n",
       "    </tr>\n",
       "    <tr>\n",
       "      <th>3</th>\n",
       "      <td>PU-10251</td>\n",
       "      <td>1.0</td>\n",
       "      <td>9.684399e-01</td>\n",
       "      <td>1.0</td>\n",
       "    </tr>\n",
       "    <tr>\n",
       "      <th>4</th>\n",
       "      <td>PU-1037</td>\n",
       "      <td>1.0</td>\n",
       "      <td>9.167863e-01</td>\n",
       "      <td>1.0</td>\n",
       "    </tr>\n",
       "    <tr>\n",
       "      <th>...</th>\n",
       "      <td>...</td>\n",
       "      <td>...</td>\n",
       "      <td>...</td>\n",
       "      <td>...</td>\n",
       "    </tr>\n",
       "    <tr>\n",
       "      <th>25103</th>\n",
       "      <td>PU-9995</td>\n",
       "      <td>0.0</td>\n",
       "      <td>6.715827e-13</td>\n",
       "      <td>0.0</td>\n",
       "    </tr>\n",
       "    <tr>\n",
       "      <th>25104</th>\n",
       "      <td>PU-9996</td>\n",
       "      <td>0.0</td>\n",
       "      <td>2.057553e-13</td>\n",
       "      <td>0.0</td>\n",
       "    </tr>\n",
       "    <tr>\n",
       "      <th>25105</th>\n",
       "      <td>PU-9997</td>\n",
       "      <td>0.0</td>\n",
       "      <td>5.155932e-04</td>\n",
       "      <td>0.0</td>\n",
       "    </tr>\n",
       "    <tr>\n",
       "      <th>25106</th>\n",
       "      <td>PU-9998</td>\n",
       "      <td>0.0</td>\n",
       "      <td>6.825020e-12</td>\n",
       "      <td>0.0</td>\n",
       "    </tr>\n",
       "    <tr>\n",
       "      <th>25107</th>\n",
       "      <td>PU-9999</td>\n",
       "      <td>0.0</td>\n",
       "      <td>5.032536e-12</td>\n",
       "      <td>0.0</td>\n",
       "    </tr>\n",
       "  </tbody>\n",
       "</table>\n",
       "<p>25108 rows × 4 columns</p>\n",
       "</div>"
      ],
      "text/plain": [
       "             ID  mean_pred     mean_prob   飆股\n",
       "0      PU-10090        1.0  9.999823e-01  1.0\n",
       "1      PU-10091        1.0  9.904113e-01  1.0\n",
       "2       PU-1024        1.0  9.999892e-01  1.0\n",
       "3      PU-10251        1.0  9.684399e-01  1.0\n",
       "4       PU-1037        1.0  9.167863e-01  1.0\n",
       "...         ...        ...           ...  ...\n",
       "25103   PU-9995        0.0  6.715827e-13  0.0\n",
       "25104   PU-9996        0.0  2.057553e-13  0.0\n",
       "25105   PU-9997        0.0  5.155932e-04  0.0\n",
       "25106   PU-9998        0.0  6.825020e-12  0.0\n",
       "25107   PU-9999        0.0  5.032536e-12  0.0\n",
       "\n",
       "[25108 rows x 4 columns]"
      ]
     },
     "execution_count": 6,
     "metadata": {},
     "output_type": "execute_result"
    }
   ],
   "source": [
    "new_pred = (enes_test_prob.rank(axis=0, ascending=False) <= 270).astype(int)\n",
    "new_mean_pred = pd.DataFrame({\n",
    "    'ID': tmpl['ID'],\n",
    "    'mean_pred': new_pred.mean(axis=1),\n",
    "    'mean_prob': enes_test_prob.mean(axis=1)\n",
    "})[:25108]\n",
    "new_mean_pred.merge(f_guess, on='ID', how='outer').sort_values(by=['mean_pred', '飆股'], ascending=False).reset_index(drop=True)"
   ]
  },
  {
   "cell_type": "code",
   "execution_count": 17,
   "id": "dc1a7dc3",
   "metadata": {},
   "outputs": [
    {
     "data": {
      "application/vnd.microsoft.datawrangler.viewer.v0+json": {
       "columns": [
        {
         "name": "index",
         "rawType": "int64",
         "type": "integer"
        },
        {
         "name": "5",
         "rawType": "int64",
         "type": "integer"
        },
        {
         "name": "6",
         "rawType": "int64",
         "type": "integer"
        },
        {
         "name": "11",
         "rawType": "int64",
         "type": "integer"
        },
        {
         "name": "12",
         "rawType": "int64",
         "type": "integer"
        },
        {
         "name": "13",
         "rawType": "int64",
         "type": "integer"
        },
        {
         "name": "15",
         "rawType": "int64",
         "type": "integer"
        },
        {
         "name": "16",
         "rawType": "int64",
         "type": "integer"
        },
        {
         "name": "17",
         "rawType": "int64",
         "type": "integer"
        },
        {
         "name": "18",
         "rawType": "int64",
         "type": "integer"
        },
        {
         "name": "19",
         "rawType": "int64",
         "type": "integer"
        },
        {
         "name": "20",
         "rawType": "int64",
         "type": "integer"
        },
        {
         "name": "21",
         "rawType": "int64",
         "type": "integer"
        },
        {
         "name": "22",
         "rawType": "int64",
         "type": "integer"
        },
        {
         "name": "23",
         "rawType": "int64",
         "type": "integer"
        },
        {
         "name": "24",
         "rawType": "int64",
         "type": "integer"
        },
        {
         "name": "25",
         "rawType": "int64",
         "type": "integer"
        },
        {
         "name": "26",
         "rawType": "int64",
         "type": "integer"
        },
        {
         "name": "27",
         "rawType": "int64",
         "type": "integer"
        }
       ],
       "conversionMethod": "pd.DataFrame",
       "ref": "1844be83-8ba0-47c5-9274-e1859ea339d3",
       "rows": [
        [
         "10977",
         "0",
         "1",
         "1",
         "1",
         "0",
         "1",
         "1",
         "0",
         "1",
         "0",
         "0",
         "0",
         "0",
         "0",
         "0",
         "0",
         "0",
         "0"
        ]
       ],
       "shape": {
        "columns": 18,
        "rows": 1
       }
      },
      "text/html": [
       "<div>\n",
       "<style scoped>\n",
       "    .dataframe tbody tr th:only-of-type {\n",
       "        vertical-align: middle;\n",
       "    }\n",
       "\n",
       "    .dataframe tbody tr th {\n",
       "        vertical-align: top;\n",
       "    }\n",
       "\n",
       "    .dataframe thead th {\n",
       "        text-align: right;\n",
       "    }\n",
       "</style>\n",
       "<table border=\"1\" class=\"dataframe\">\n",
       "  <thead>\n",
       "    <tr style=\"text-align: right;\">\n",
       "      <th></th>\n",
       "      <th>5</th>\n",
       "      <th>6</th>\n",
       "      <th>11</th>\n",
       "      <th>12</th>\n",
       "      <th>13</th>\n",
       "      <th>15</th>\n",
       "      <th>16</th>\n",
       "      <th>17</th>\n",
       "      <th>18</th>\n",
       "      <th>19</th>\n",
       "      <th>20</th>\n",
       "      <th>21</th>\n",
       "      <th>22</th>\n",
       "      <th>23</th>\n",
       "      <th>24</th>\n",
       "      <th>25</th>\n",
       "      <th>26</th>\n",
       "      <th>27</th>\n",
       "    </tr>\n",
       "  </thead>\n",
       "  <tbody>\n",
       "    <tr>\n",
       "      <th>10977</th>\n",
       "      <td>0</td>\n",
       "      <td>1</td>\n",
       "      <td>1</td>\n",
       "      <td>1</td>\n",
       "      <td>0</td>\n",
       "      <td>1</td>\n",
       "      <td>1</td>\n",
       "      <td>0</td>\n",
       "      <td>1</td>\n",
       "      <td>0</td>\n",
       "      <td>0</td>\n",
       "      <td>0</td>\n",
       "      <td>0</td>\n",
       "      <td>0</td>\n",
       "      <td>0</td>\n",
       "      <td>0</td>\n",
       "      <td>0</td>\n",
       "      <td>0</td>\n",
       "    </tr>\n",
       "  </tbody>\n",
       "</table>\n",
       "</div>"
      ],
      "text/plain": [
       "       5  6  11  12  13  15  16  17  18  19  20  21  22  23  24  25  26  27\n",
       "10977  0  1   1   1   0   1   1   0   1   0   0   0   0   0   0   0   0   0"
      ]
     },
     "execution_count": 17,
     "metadata": {},
     "output_type": "execute_result"
    }
   ],
   "source": [
    "new_pred.iloc[[10977]]"
   ]
  },
  {
   "cell_type": "code",
   "execution_count": 14,
   "id": "d1db83cc",
   "metadata": {},
   "outputs": [],
   "source": [
    "mean_pred = pd.DataFrame({\n",
    "    'ID': tmpl['ID'],\n",
    "    'mean_pred': ense_test_pred.mean(axis=1),\n",
    "    'mean_prob': enes_test_prob.mean(axis=1)\n",
    "})[:25108]"
   ]
  },
  {
   "cell_type": "code",
   "execution_count": 16,
   "id": "7fcad8ab",
   "metadata": {},
   "outputs": [
    {
     "data": {
      "application/vnd.microsoft.datawrangler.viewer.v0+json": {
       "columns": [
        {
         "name": "index",
         "rawType": "int64",
         "type": "integer"
        },
        {
         "name": "ID",
         "rawType": "object",
         "type": "string"
        },
        {
         "name": "mean_pred",
         "rawType": "float64",
         "type": "float"
        },
        {
         "name": "mean_prob",
         "rawType": "float64",
         "type": "float"
        },
        {
         "name": "飆股",
         "rawType": "float64",
         "type": "float"
        }
       ],
       "conversionMethod": "pd.DataFrame",
       "ref": "6f4c3e68-165f-4329-a4e5-1160f59961fc",
       "rows": [
        [
         "0",
         "PU-10413",
         "1.0",
         "0.9999999999932309",
         "1.0"
        ],
        [
         "1",
         "PU-6548",
         "1.0",
         "0.9999999999906568",
         "1.0"
        ],
        [
         "2",
         "PU-14894",
         "1.0",
         "0.999999999979011",
         "1.0"
        ],
        [
         "3",
         "PU-787",
         "1.0",
         "0.9999999998916174",
         "1.0"
        ],
        [
         "4",
         "PU-24717",
         "1.0",
         "0.9999999998534377",
         "1.0"
        ],
        [
         "5",
         "PU-9297",
         "1.0",
         "0.9999999997786192",
         "1.0"
        ],
        [
         "6",
         "PU-6741",
         "1.0",
         "0.9999999997531511",
         "1.0"
        ],
        [
         "7",
         "PU-12497",
         "1.0",
         "0.9999999992240591",
         "1.0"
        ],
        [
         "8",
         "PU-10860",
         "1.0",
         "0.9999999990930729",
         "1.0"
        ],
        [
         "9",
         "PU-11496",
         "1.0",
         "0.9999999990930074",
         "1.0"
        ],
        [
         "10",
         "PU-16049",
         "1.0",
         "0.9999999987448356",
         "1.0"
        ],
        [
         "11",
         "PU-11492",
         "1.0",
         "0.9999999974643448",
         "1.0"
        ],
        [
         "12",
         "PU-7661",
         "1.0",
         "0.9999999946045937",
         "1.0"
        ],
        [
         "13",
         "PU-18724",
         "1.0",
         "0.9999999932246302",
         "1.0"
        ],
        [
         "14",
         "PU-17238",
         "1.0",
         "0.9999999895849138",
         "1.0"
        ],
        [
         "15",
         "PU-16195",
         "1.0",
         "0.9999999810258949",
         "1.0"
        ],
        [
         "16",
         "PU-15755",
         "1.0",
         "0.999999976640363",
         "1.0"
        ],
        [
         "17",
         "PU-21510",
         "1.0",
         "0.9999999621518398",
         "1.0"
        ],
        [
         "18",
         "PU-6527",
         "1.0",
         "0.9999998978088362",
         "1.0"
        ],
        [
         "19",
         "PU-20716",
         "1.0",
         "0.9999998798644059",
         "1.0"
        ],
        [
         "20",
         "PU-18729",
         "1.0",
         "0.9999998578925138",
         "1.0"
        ],
        [
         "21",
         "PU-16578",
         "1.0",
         "0.9999996822595235",
         "1.0"
        ],
        [
         "22",
         "PU-22256",
         "1.0",
         "0.9999996121407615",
         "1.0"
        ],
        [
         "23",
         "PU-167",
         "1.0",
         "0.9999996113695713",
         "1.0"
        ],
        [
         "24",
         "PU-14038",
         "1.0",
         "0.9999996037138824",
         "1.0"
        ],
        [
         "25",
         "PU-8151",
         "1.0",
         "0.9999996017578793",
         "1.0"
        ],
        [
         "26",
         "PU-8926",
         "1.0",
         "0.9999995553143166",
         "1.0"
        ],
        [
         "27",
         "PU-15546",
         "1.0",
         "0.9999995383307569",
         "1.0"
        ],
        [
         "28",
         "PU-10812",
         "1.0",
         "0.999999429850775",
         "1.0"
        ],
        [
         "29",
         "PU-11528",
         "1.0",
         "0.9999994124249807",
         "1.0"
        ],
        [
         "30",
         "PU-2991",
         "1.0",
         "0.9999992073412405",
         "1.0"
        ],
        [
         "31",
         "PU-24305",
         "1.0",
         "0.9999991868221273",
         "1.0"
        ],
        [
         "32",
         "PU-18996",
         "1.0",
         "0.9999991286480022",
         "1.0"
        ],
        [
         "33",
         "PU-15388",
         "1.0",
         "0.9999989372930089",
         "1.0"
        ],
        [
         "34",
         "PU-23257",
         "1.0",
         "0.9999988553886587",
         "1.0"
        ],
        [
         "35",
         "PU-20231",
         "1.0",
         "0.9999987706009765",
         "1.0"
        ],
        [
         "36",
         "PU-2323",
         "1.0",
         "0.9999981903303077",
         "1.0"
        ],
        [
         "37",
         "PU-5769",
         "1.0",
         "0.9999979697902981",
         "1.0"
        ],
        [
         "38",
         "PU-19714",
         "1.0",
         "0.9999976409156692",
         "1.0"
        ],
        [
         "39",
         "PU-11637",
         "1.0",
         "0.9999974928026033",
         "1.0"
        ],
        [
         "40",
         "PU-17765",
         "1.0",
         "0.9999967511733652",
         "1.0"
        ],
        [
         "41",
         "PU-8535",
         "1.0",
         "0.9999963995465566",
         "1.0"
        ],
        [
         "42",
         "PU-25097",
         "1.0",
         "0.9999958821914805",
         "1.0"
        ],
        [
         "43",
         "PU-20094",
         "1.0",
         "0.9999958782190264",
         "1.0"
        ],
        [
         "44",
         "PU-23126",
         "1.0",
         "0.9999951737482312",
         "1.0"
        ],
        [
         "45",
         "PU-22608",
         "1.0",
         "0.9999941491742952",
         "1.0"
        ],
        [
         "46",
         "PU-32",
         "1.0",
         "0.9999932145702126",
         "1.0"
        ],
        [
         "47",
         "PU-19681",
         "1.0",
         "0.9999904336246893",
         "1.0"
        ],
        [
         "48",
         "PU-1024",
         "1.0",
         "0.9999891959070045",
         "1.0"
        ],
        [
         "49",
         "PU-123",
         "1.0",
         "0.9999849440335904",
         "1.0"
        ]
       ],
       "shape": {
        "columns": 4,
        "rows": 25108
       }
      },
      "text/html": [
       "<div>\n",
       "<style scoped>\n",
       "    .dataframe tbody tr th:only-of-type {\n",
       "        vertical-align: middle;\n",
       "    }\n",
       "\n",
       "    .dataframe tbody tr th {\n",
       "        vertical-align: top;\n",
       "    }\n",
       "\n",
       "    .dataframe thead th {\n",
       "        text-align: right;\n",
       "    }\n",
       "</style>\n",
       "<table border=\"1\" class=\"dataframe\">\n",
       "  <thead>\n",
       "    <tr style=\"text-align: right;\">\n",
       "      <th></th>\n",
       "      <th>ID</th>\n",
       "      <th>mean_pred</th>\n",
       "      <th>mean_prob</th>\n",
       "      <th>飆股</th>\n",
       "    </tr>\n",
       "  </thead>\n",
       "  <tbody>\n",
       "    <tr>\n",
       "      <th>0</th>\n",
       "      <td>PU-10413</td>\n",
       "      <td>1.0</td>\n",
       "      <td>1.000000e+00</td>\n",
       "      <td>1.0</td>\n",
       "    </tr>\n",
       "    <tr>\n",
       "      <th>1</th>\n",
       "      <td>PU-6548</td>\n",
       "      <td>1.0</td>\n",
       "      <td>1.000000e+00</td>\n",
       "      <td>1.0</td>\n",
       "    </tr>\n",
       "    <tr>\n",
       "      <th>2</th>\n",
       "      <td>PU-14894</td>\n",
       "      <td>1.0</td>\n",
       "      <td>1.000000e+00</td>\n",
       "      <td>1.0</td>\n",
       "    </tr>\n",
       "    <tr>\n",
       "      <th>3</th>\n",
       "      <td>PU-787</td>\n",
       "      <td>1.0</td>\n",
       "      <td>1.000000e+00</td>\n",
       "      <td>1.0</td>\n",
       "    </tr>\n",
       "    <tr>\n",
       "      <th>4</th>\n",
       "      <td>PU-24717</td>\n",
       "      <td>1.0</td>\n",
       "      <td>1.000000e+00</td>\n",
       "      <td>1.0</td>\n",
       "    </tr>\n",
       "    <tr>\n",
       "      <th>...</th>\n",
       "      <td>...</td>\n",
       "      <td>...</td>\n",
       "      <td>...</td>\n",
       "      <td>...</td>\n",
       "    </tr>\n",
       "    <tr>\n",
       "      <th>25103</th>\n",
       "      <td>PU-18984</td>\n",
       "      <td>0.0</td>\n",
       "      <td>7.755694e-18</td>\n",
       "      <td>0.0</td>\n",
       "    </tr>\n",
       "    <tr>\n",
       "      <th>25104</th>\n",
       "      <td>PU-21293</td>\n",
       "      <td>0.0</td>\n",
       "      <td>7.676845e-18</td>\n",
       "      <td>0.0</td>\n",
       "    </tr>\n",
       "    <tr>\n",
       "      <th>25105</th>\n",
       "      <td>PU-21987</td>\n",
       "      <td>0.0</td>\n",
       "      <td>5.362620e-18</td>\n",
       "      <td>0.0</td>\n",
       "    </tr>\n",
       "    <tr>\n",
       "      <th>25106</th>\n",
       "      <td>PU-15391</td>\n",
       "      <td>0.0</td>\n",
       "      <td>5.037009e-18</td>\n",
       "      <td>0.0</td>\n",
       "    </tr>\n",
       "    <tr>\n",
       "      <th>25107</th>\n",
       "      <td>PU-16686</td>\n",
       "      <td>0.0</td>\n",
       "      <td>3.674650e-18</td>\n",
       "      <td>0.0</td>\n",
       "    </tr>\n",
       "  </tbody>\n",
       "</table>\n",
       "<p>25108 rows × 4 columns</p>\n",
       "</div>"
      ],
      "text/plain": [
       "             ID  mean_pred     mean_prob   飆股\n",
       "0      PU-10413        1.0  1.000000e+00  1.0\n",
       "1       PU-6548        1.0  1.000000e+00  1.0\n",
       "2      PU-14894        1.0  1.000000e+00  1.0\n",
       "3        PU-787        1.0  1.000000e+00  1.0\n",
       "4      PU-24717        1.0  1.000000e+00  1.0\n",
       "...         ...        ...           ...  ...\n",
       "25103  PU-18984        0.0  7.755694e-18  0.0\n",
       "25104  PU-21293        0.0  7.676845e-18  0.0\n",
       "25105  PU-21987        0.0  5.362620e-18  0.0\n",
       "25106  PU-15391        0.0  5.037009e-18  0.0\n",
       "25107  PU-16686        0.0  3.674650e-18  0.0\n",
       "\n",
       "[25108 rows x 4 columns]"
      ]
     },
     "execution_count": 16,
     "metadata": {},
     "output_type": "execute_result"
    }
   ],
   "source": [
    "mean_pred.merge(f_guess, on='ID', how='outer').sort_values(by=['mean_prob'], ascending=False).reset_index(drop=True)"
   ]
  },
  {
   "cell_type": "code",
   "execution_count": 1,
   "id": "30e500d4",
   "metadata": {},
   "outputs": [
    {
     "data": {
      "text/plain": [
       "0.8544039008533116"
      ]
     },
     "execution_count": 1,
     "metadata": {},
     "output_type": "execute_result"
    }
   ],
   "source": [
    "def f1(prec, recall):\n",
    "    return 2 * (prec * recall) / (prec + recall)\n",
    "\n",
    "f1(0.7840, 0.9387)"
   ]
  }
 ],
 "metadata": {
  "kernelspec": {
   "display_name": "aicup",
   "language": "python",
   "name": "python3"
  },
  "language_info": {
   "codemirror_mode": {
    "name": "ipython",
    "version": 3
   },
   "file_extension": ".py",
   "mimetype": "text/x-python",
   "name": "python",
   "nbconvert_exporter": "python",
   "pygments_lexer": "ipython3",
   "version": "3.10.16"
  }
 },
 "nbformat": 4,
 "nbformat_minor": 5
}
