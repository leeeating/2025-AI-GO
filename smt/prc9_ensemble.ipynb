{
 "cells": [
  {
   "cell_type": "code",
   "execution_count": 19,
   "id": "bf8e4408",
   "metadata": {},
   "outputs": [],
   "source": [
    "import pandas as pd\n",
    "import numpy as np\n",
    "\n",
    "def creat_df(file_name_list):\n",
    "    mg_df = pd.DataFrame()\n",
    "\n",
    "    for file in file_name_list:\n",
    "        name = f\"../{file}\"\n",
    "        col = name.split('/')[-1].split('.csv')[0]\n",
    "        df_tmp = pd.read_csv(name)\n",
    "        mg_df['ID'] = df_tmp['ID'][:25108]\n",
    "        mg_df[col] = df_tmp['飆股'][:25108]\n",
    "    mg_df['sum'] = mg_df.iloc[: ,1:].mean(axis=1)\n",
    "    mg_df['ID2'] = mg_df['ID'][:25108]\n",
    "    return mg_df"
   ]
  },
  {
   "cell_type": "code",
   "execution_count": 31,
   "id": "7af487cb",
   "metadata": {},
   "outputs": [],
   "source": [
    "file_list = [\n",
    "    'smt/prc9/200F_130_131.csv',\n",
    "    'smt/prc9/200F_136_9485.csv',\n",
    "    'smt/prc9/200F_137_136.csv',\n",
    "    # 'smt/prc9/200F_138_142.csv',\n",
    "    'smt/prc9/200F_145_151.csv',\n",
    "    'smt/prc9/200F_146_151.csv',\n",
    "    # 'smt/prc9/200F_Full_139_144.csv',\n",
    "    'smt/prc9/251F_135_142.csv',\n",
    "    'smt/prc9/429F_147_152.csv',\n",
    "    # 'smt/prc9/enemble_v1_0.66.csv',\n",
    "    # 'smt/prc9/feat_v4_t500_c5.csv',\n",
    "    # 'smt/prc9/fv4_105_0.903_0.762_148.csv',\n",
    "    'smt/prc9/larlililalala.csv',\n",
    "    # 'smt/prc9/lgg_0.902_0.738_144_.csv',\n",
    "    'smt/prc9/ohho.csv',\n",
    "    # 'smt/prc9/smt_v3_114.csv',\n",
    "    'smt/prc9/test_all.csv',\n",
    "    'smt/prc9/try1.csv',\n",
    "    'smt/prc9/tungtungtungtungtungsahur.csv',\n",
    "    'smt/prc9/wuwuwuaaa.csv',\n",
    "    # 'smt/prc9/xgb1028_9554_112.csv',\n",
    "    # 'smt/prc9/prc9_smt.csv',\n",
    "    # 'smt/prc9/prc9_smt_127.csv',\n",
    "    'smt/prc9/retrain105N_9065_7900_148162_public.csv',\n",
    "]\n",
    "\n",
    "prc9 = creat_df(file_list)\n",
    "prc9_smt = prc9.sort_values(by=['retrain105N_9065_7900_148162_public','sum'], ascending=False).reset_index(drop=True)"
   ]
  },
  {
   "cell_type": "code",
   "execution_count": 14,
   "id": "9c395bee",
   "metadata": {},
   "outputs": [],
   "source": [
    "lggandmy_ensemble = [\n",
    "    'smt/prc9/200F_130_131.csv',\n",
    "    'smt/prc9/200F_136_9485.csv',\n",
    "    'smt/prc9/200F_137_136.csv',\n",
    "    'smt/prc9/200F_138_142.csv',\n",
    "    'smt/prc9/200F_145_151.csv',\n",
    "    'smt/prc9/200F_146_151.csv',\n",
    "    'smt/prc9/200F_Full_139_144.csv',\n",
    "    'smt/prc9/251F_135_142.csv',\n",
    "    'smt/prc9/429F_147_152.csv',\n",
    "    'smt/prc9/larlililalala.csv',\n",
    "    'smt/prc9/ohho.csv',\n",
    "    'smt/prc9/test_all.csv',\n",
    "    'smt/prc9/try1.csv',\n",
    "    'smt/prc9/tungtungtungtungtungsahur.csv',\n",
    "    'smt/prc9/wuwuwuaaa.csv',\n",
    "    # 'feat_v4/ptsmt_9481_7604_142150.csv',\n",
    "    # 'smt/test_smt_dolfer/ptsmt_9203_7962_148157.csv',\n",
    "    # 'smt/prc9/prc9_smt.csv',\n",
    "    'smt/prc9/prc9_smt_127.csv',\n",
    "]\n",
    "lggandmy_ensemble_df = creat_df(lggandmy_ensemble)"
   ]
  },
  {
   "cell_type": "code",
   "execution_count": null,
   "id": "797ccf23",
   "metadata": {},
   "outputs": [],
   "source": [
    "sudo0 = [\n",
    "   'smt/prc9/200F_130_131.csv', 'smt/prc9/200F_136_9485.csv', 'smt/prc9/200F_137_136.csv',\n",
    "'smt/prc9/200F_138_142.csv', 'smt/prc9/200F_145_151.csv', 'smt/prc9/200F_146_151.csv',\n",
    "'smt/prc9/200F_Full_139_144.csv', 'smt/prc9/251F_135_142.csv', 'smt/prc9/429F_147_152.csv',\n",
    "# 'smt/prc9/enemble_v1_0.66.csv', 'smt/prc9/feat_v4_t500_c5.csv', 'smt/prc9/fv4_105_0.903_0.762_148.csv',\n",
    "'smt/prc9/larlililalala.csv', 'smt/prc9/lgg_0.902_0.738_144_.csv', 'smt/prc9/lggandmy_ensemble.csv',\n",
    "'smt/prc9/ohho.csv', \n",
    "# 'smt/prc9/prc9_smt_127.csv', 'smt/prc9/prc9_smt_131.csv',\n",
    "# 'smt/prc9/retrain105_9399_7449_144.csv', 'smt/prc9/retrain105N_9065_7900_148162_public.csv',\n",
    "# 'smt/prc9/retrain105sudo_9224_7687_153.csv', 'smt/prc9/smt_v3_114.csv', \n",
    "'smt/prc9/test_all.csv',\n",
    "'smt/prc9/try1.csv', 'smt/prc9/tungtungtungtungtungsahur.csv', 'smt/prc9/wuwuwuaaa.csv',\n",
    "'smt/prc9/xgb1028_9554_112.csv',\n",
    "\n",
    "# 'smt/reatrain_pt/retrain105N_9065_7900_148162_public.csv', 'smt/reatrain_pt/retrain105N_9065_7900_148162.csv',\n",
    "# 'smt/reatrain_pt/retrain105N_9318_7712_145154.csv', 'smt/reatrain_pt/retrain105PT_9262_7868_146159.csv',\n",
    "# 'smt/reatrain_pt/retrain105PT_9294_7837_146154.csv', 'smt/reatrain_pt/retrain105PT_9294_7837_148159.csv',\n",
    "# 'smt/reatrain_pt/retrain105PT_9361_7806_144151.csv', 'smt/reatrain_pt/retrain105PT_9421_7649_142145.csv',\n",
    "# 'smt/reatrain_pt/retrain105PT_9522_7492_138138.csv',\n",
    "\n",
    "'smt/test_smt_dolfer/ans_lgg155.csv',\n",
    "# 'smt/test_smt_dolfer/fv4_105_0.884_0.779_159.csv',\n",
    "# 'smt/test_smt_dolfer/ptsmt_9203_7962_148157.csv',\n",
    "# 'smt/test_smt_dolfer/ptsmt_9481_7604_142150.csv',\n",
    "# 'smt/test_smt_dolfer/smt_dupt_9299_7604_159169.csv',\n",
    "\n",
    "# 'smt/csv_file/fv4_223/fv4_223_0.933_0.707_139.csv',\n",
    "# 'smt/csv_file/fv4_223/fv4_223_0.938_0.714_138.csv',\n",
    "# 'smt/csv_file/fv4_223/fv4_223_0.938_0.724_139.csv',\n",
    "# 'smt/csv_file/fv4_223/fv4_223_0.939_0.731_139.csv',\n",
    "# 'smt/csv_file/fv4_223/fv4_223_0.945_0.704_135.csv',\n",
    "# 'smt/csv_file/fv4_223/fv4_223_0.949_0.701_139.csv',\n",
    "# 'smt/csv_file/fv4_223/fv4_223_0.950_0.718_134.csv',\n",
    "# 'smt/csv_file/fv4_223/fv4_223_0.950_0.718_135.csv',\n",
    "# 'smt/csv_file/fv4_223/fv4_223_0.954_0.707_133.csv',\n",
    "# 'smt/csv_file/fv4_223/fv4_223_0.963_0.707_131.csv',\n",
    "# # 'smt/csv_file/fv4_419/fv4_419_0.807_0.782_188.csv',\n",
    "# # 'smt/csv_file/fv4_419/fv4_419_0.855_0.741_167.csv',\n",
    "# # 'smt/csv_file/fv4_419/fv4_419_0.922_0.724_155.csv',\n",
    "# 'smt/csv_file/fv4_419/fv4_419_0.941_0.704_144.csv',\n",
    "# 'smt/csv_file/fv4_419/fv4_419_0.976_0.687_132.csv',\n",
    "# # 'smt/csv_file/fv4_105_0.912_0.741_149.csv',\n",
    "]\n",
    "sudo249 = creat_df(sudo0)"
   ]
  },
  {
   "cell_type": "code",
   "execution_count": 44,
   "id": "9e2e8959",
   "metadata": {},
   "outputs": [
    {
     "data": {
      "text/plain": [
       "ID                                     PU-13338\n",
       "200F_130_131                                  0\n",
       "200F_136_9485                                 0\n",
       "200F_137_136                                  1\n",
       "200F_138_142                                  1\n",
       "200F_145_151                                  1\n",
       "200F_146_151                                  1\n",
       "200F_Full_139_144                             0\n",
       "251F_135_142                                  0\n",
       "429F_147_152                                  1\n",
       "larlililalala                                 0\n",
       "lgg_0.902_0.738_144_                          1\n",
       "lggandmy_ensemble                             0\n",
       "ohho                                          1\n",
       "test_all                                      0\n",
       "try1                                          0\n",
       "tungtungtungtungtungsahur                     0\n",
       "wuwuwuaaa                                     1\n",
       "xgb1028_9554_112                              0\n",
       "retrain105N_9065_7900_148162_public           0\n",
       "retrain105N_9065_7900_148162                  0\n",
       "retrain105N_9318_7712_145154                  0\n",
       "retrain105PT_9262_7868_146159                 1\n",
       "retrain105PT_9294_7837_146154                 1\n",
       "retrain105PT_9294_7837_148159                 1\n",
       "retrain105PT_9361_7806_144151                 0\n",
       "retrain105PT_9421_7649_142145                 1\n",
       "retrain105PT_9522_7492_138138                 0\n",
       "ans_lgg155                                    1\n",
       "sum                                    0.464286\n",
       "ID2                                    PU-13338\n",
       "Name: 13337, dtype: object"
      ]
     },
     "execution_count": 44,
     "metadata": {},
     "output_type": "execute_result"
    }
   ],
   "source": [
    "sudo249.iloc[13337]"
   ]
  },
  {
   "cell_type": "code",
   "execution_count": 36,
   "id": "ffdc5d4f",
   "metadata": {},
   "outputs": [],
   "source": [
    "ONE_list = [\n",
    "    'testing/guess.csv',\n",
    "    'smt/one/one127.csv',\n",
    "    # 'smt/one/one129.csv',\n",
    "    # 'smt/one/one130.csv',\n",
    "    # 'smt/one/one134.csv',\n",
    "    # 'smt/one/prc9_smt_127.csv',\n",
    "    'smt/one/prc9_smt_131.csv',\n",
    "    # 'smt/one/test_prec106.csv',\n",
    "]\n",
    "ONE_DF = creat_df(ONE_list)"
   ]
  },
  {
   "cell_type": "code",
   "execution_count": 39,
   "id": "bc322699",
   "metadata": {},
   "outputs": [
    {
     "data": {
      "application/vnd.microsoft.datawrangler.viewer.v0+json": {
       "columns": [
        {
         "name": "index",
         "rawType": "int64",
         "type": "integer"
        },
        {
         "name": "ID",
         "rawType": "object",
         "type": "string"
        },
        {
         "name": "guess",
         "rawType": "int64",
         "type": "integer"
        },
        {
         "name": "one127",
         "rawType": "int64",
         "type": "integer"
        },
        {
         "name": "prc9_smt_131",
         "rawType": "int64",
         "type": "integer"
        },
        {
         "name": "sum",
         "rawType": "float64",
         "type": "float"
        },
        {
         "name": "ID2",
         "rawType": "object",
         "type": "string"
        }
       ],
       "conversionMethod": "pd.DataFrame",
       "ref": "cbb3c1c7-2bf7-47f8-8835-f2f546659800",
       "rows": [
        [
         "0",
         "PU-32",
         "1",
         "1",
         "1",
         "1.0",
         "PU-32"
        ],
        [
         "1",
         "PU-123",
         "1",
         "1",
         "1",
         "1.0",
         "PU-123"
        ],
        [
         "2",
         "PU-167",
         "1",
         "1",
         "1",
         "1.0",
         "PU-167"
        ],
        [
         "3",
         "PU-485",
         "1",
         "1",
         "1",
         "1.0",
         "PU-485"
        ],
        [
         "4",
         "PU-512",
         "1",
         "1",
         "1",
         "1.0",
         "PU-512"
        ],
        [
         "5",
         "PU-609",
         "1",
         "1",
         "1",
         "1.0",
         "PU-609"
        ],
        [
         "6",
         "PU-787",
         "1",
         "1",
         "1",
         "1.0",
         "PU-787"
        ],
        [
         "7",
         "PU-1024",
         "1",
         "1",
         "1",
         "1.0",
         "PU-1024"
        ],
        [
         "8",
         "PU-1037",
         "1",
         "1",
         "1",
         "1.0",
         "PU-1037"
        ],
        [
         "9",
         "PU-1137",
         "1",
         "1",
         "1",
         "1.0",
         "PU-1137"
        ],
        [
         "10",
         "PU-1268",
         "1",
         "1",
         "1",
         "1.0",
         "PU-1268"
        ],
        [
         "11",
         "PU-1358",
         "1",
         "1",
         "1",
         "1.0",
         "PU-1358"
        ],
        [
         "12",
         "PU-1508",
         "1",
         "1",
         "1",
         "1.0",
         "PU-1508"
        ],
        [
         "13",
         "PU-2049",
         "1",
         "1",
         "1",
         "1.0",
         "PU-2049"
        ],
        [
         "14",
         "PU-2264",
         "1",
         "1",
         "1",
         "1.0",
         "PU-2264"
        ],
        [
         "15",
         "PU-2323",
         "1",
         "1",
         "1",
         "1.0",
         "PU-2323"
        ],
        [
         "16",
         "PU-2629",
         "1",
         "1",
         "1",
         "1.0",
         "PU-2629"
        ],
        [
         "17",
         "PU-2991",
         "1",
         "1",
         "1",
         "1.0",
         "PU-2991"
        ],
        [
         "18",
         "PU-3053",
         "1",
         "1",
         "1",
         "1.0",
         "PU-3053"
        ],
        [
         "19",
         "PU-3232",
         "1",
         "1",
         "1",
         "1.0",
         "PU-3232"
        ],
        [
         "20",
         "PU-3419",
         "1",
         "1",
         "1",
         "1.0",
         "PU-3419"
        ],
        [
         "21",
         "PU-3539",
         "1",
         "1",
         "1",
         "1.0",
         "PU-3539"
        ],
        [
         "22",
         "PU-4740",
         "1",
         "1",
         "1",
         "1.0",
         "PU-4740"
        ],
        [
         "23",
         "PU-4950",
         "1",
         "1",
         "1",
         "1.0",
         "PU-4950"
        ],
        [
         "24",
         "PU-4965",
         "1",
         "1",
         "1",
         "1.0",
         "PU-4965"
        ],
        [
         "25",
         "PU-5087",
         "1",
         "1",
         "1",
         "1.0",
         "PU-5087"
        ],
        [
         "26",
         "PU-5769",
         "1",
         "1",
         "1",
         "1.0",
         "PU-5769"
        ],
        [
         "27",
         "PU-5898",
         "1",
         "1",
         "1",
         "1.0",
         "PU-5898"
        ],
        [
         "28",
         "PU-5994",
         "1",
         "1",
         "1",
         "1.0",
         "PU-5994"
        ],
        [
         "29",
         "PU-6179",
         "1",
         "1",
         "1",
         "1.0",
         "PU-6179"
        ],
        [
         "30",
         "PU-6527",
         "1",
         "1",
         "1",
         "1.0",
         "PU-6527"
        ],
        [
         "31",
         "PU-6548",
         "1",
         "1",
         "1",
         "1.0",
         "PU-6548"
        ],
        [
         "32",
         "PU-6741",
         "1",
         "1",
         "1",
         "1.0",
         "PU-6741"
        ],
        [
         "33",
         "PU-6925",
         "1",
         "1",
         "1",
         "1.0",
         "PU-6925"
        ],
        [
         "34",
         "PU-6956",
         "1",
         "1",
         "1",
         "1.0",
         "PU-6956"
        ],
        [
         "35",
         "PU-7165",
         "1",
         "1",
         "1",
         "1.0",
         "PU-7165"
        ],
        [
         "36",
         "PU-7490",
         "1",
         "1",
         "1",
         "1.0",
         "PU-7490"
        ],
        [
         "37",
         "PU-7661",
         "1",
         "1",
         "1",
         "1.0",
         "PU-7661"
        ],
        [
         "38",
         "PU-7779",
         "1",
         "1",
         "1",
         "1.0",
         "PU-7779"
        ],
        [
         "39",
         "PU-7828",
         "1",
         "1",
         "1",
         "1.0",
         "PU-7828"
        ],
        [
         "40",
         "PU-7903",
         "1",
         "1",
         "1",
         "1.0",
         "PU-7903"
        ],
        [
         "41",
         "PU-8151",
         "1",
         "1",
         "1",
         "1.0",
         "PU-8151"
        ],
        [
         "42",
         "PU-8535",
         "1",
         "1",
         "1",
         "1.0",
         "PU-8535"
        ],
        [
         "43",
         "PU-8926",
         "1",
         "1",
         "1",
         "1.0",
         "PU-8926"
        ],
        [
         "44",
         "PU-9297",
         "1",
         "1",
         "1",
         "1.0",
         "PU-9297"
        ],
        [
         "45",
         "PU-9478",
         "1",
         "1",
         "1",
         "1.0",
         "PU-9478"
        ],
        [
         "46",
         "PU-9489",
         "1",
         "1",
         "1",
         "1.0",
         "PU-9489"
        ],
        [
         "47",
         "PU-10090",
         "1",
         "1",
         "1",
         "1.0",
         "PU-10090"
        ],
        [
         "48",
         "PU-10091",
         "1",
         "1",
         "1",
         "1.0",
         "PU-10091"
        ],
        [
         "49",
         "PU-10251",
         "1",
         "1",
         "1",
         "1.0",
         "PU-10251"
        ]
       ],
       "shape": {
        "columns": 6,
        "rows": 25108
       }
      },
      "text/html": [
       "<div>\n",
       "<style scoped>\n",
       "    .dataframe tbody tr th:only-of-type {\n",
       "        vertical-align: middle;\n",
       "    }\n",
       "\n",
       "    .dataframe tbody tr th {\n",
       "        vertical-align: top;\n",
       "    }\n",
       "\n",
       "    .dataframe thead th {\n",
       "        text-align: right;\n",
       "    }\n",
       "</style>\n",
       "<table border=\"1\" class=\"dataframe\">\n",
       "  <thead>\n",
       "    <tr style=\"text-align: right;\">\n",
       "      <th></th>\n",
       "      <th>ID</th>\n",
       "      <th>guess</th>\n",
       "      <th>one127</th>\n",
       "      <th>prc9_smt_131</th>\n",
       "      <th>sum</th>\n",
       "      <th>ID2</th>\n",
       "    </tr>\n",
       "  </thead>\n",
       "  <tbody>\n",
       "    <tr>\n",
       "      <th>0</th>\n",
       "      <td>PU-32</td>\n",
       "      <td>1</td>\n",
       "      <td>1</td>\n",
       "      <td>1</td>\n",
       "      <td>1.0</td>\n",
       "      <td>PU-32</td>\n",
       "    </tr>\n",
       "    <tr>\n",
       "      <th>1</th>\n",
       "      <td>PU-123</td>\n",
       "      <td>1</td>\n",
       "      <td>1</td>\n",
       "      <td>1</td>\n",
       "      <td>1.0</td>\n",
       "      <td>PU-123</td>\n",
       "    </tr>\n",
       "    <tr>\n",
       "      <th>2</th>\n",
       "      <td>PU-167</td>\n",
       "      <td>1</td>\n",
       "      <td>1</td>\n",
       "      <td>1</td>\n",
       "      <td>1.0</td>\n",
       "      <td>PU-167</td>\n",
       "    </tr>\n",
       "    <tr>\n",
       "      <th>3</th>\n",
       "      <td>PU-485</td>\n",
       "      <td>1</td>\n",
       "      <td>1</td>\n",
       "      <td>1</td>\n",
       "      <td>1.0</td>\n",
       "      <td>PU-485</td>\n",
       "    </tr>\n",
       "    <tr>\n",
       "      <th>4</th>\n",
       "      <td>PU-512</td>\n",
       "      <td>1</td>\n",
       "      <td>1</td>\n",
       "      <td>1</td>\n",
       "      <td>1.0</td>\n",
       "      <td>PU-512</td>\n",
       "    </tr>\n",
       "    <tr>\n",
       "      <th>...</th>\n",
       "      <td>...</td>\n",
       "      <td>...</td>\n",
       "      <td>...</td>\n",
       "      <td>...</td>\n",
       "      <td>...</td>\n",
       "      <td>...</td>\n",
       "    </tr>\n",
       "    <tr>\n",
       "      <th>25103</th>\n",
       "      <td>PU-25104</td>\n",
       "      <td>0</td>\n",
       "      <td>0</td>\n",
       "      <td>0</td>\n",
       "      <td>0.0</td>\n",
       "      <td>PU-25104</td>\n",
       "    </tr>\n",
       "    <tr>\n",
       "      <th>25104</th>\n",
       "      <td>PU-25105</td>\n",
       "      <td>0</td>\n",
       "      <td>0</td>\n",
       "      <td>0</td>\n",
       "      <td>0.0</td>\n",
       "      <td>PU-25105</td>\n",
       "    </tr>\n",
       "    <tr>\n",
       "      <th>25105</th>\n",
       "      <td>PU-25106</td>\n",
       "      <td>0</td>\n",
       "      <td>0</td>\n",
       "      <td>0</td>\n",
       "      <td>0.0</td>\n",
       "      <td>PU-25106</td>\n",
       "    </tr>\n",
       "    <tr>\n",
       "      <th>25106</th>\n",
       "      <td>PU-25107</td>\n",
       "      <td>0</td>\n",
       "      <td>0</td>\n",
       "      <td>0</td>\n",
       "      <td>0.0</td>\n",
       "      <td>PU-25107</td>\n",
       "    </tr>\n",
       "    <tr>\n",
       "      <th>25107</th>\n",
       "      <td>PU-25108</td>\n",
       "      <td>0</td>\n",
       "      <td>0</td>\n",
       "      <td>0</td>\n",
       "      <td>0.0</td>\n",
       "      <td>PU-25108</td>\n",
       "    </tr>\n",
       "  </tbody>\n",
       "</table>\n",
       "<p>25108 rows × 6 columns</p>\n",
       "</div>"
      ],
      "text/plain": [
       "             ID  guess  one127  prc9_smt_131  sum       ID2\n",
       "0         PU-32      1       1             1  1.0     PU-32\n",
       "1        PU-123      1       1             1  1.0    PU-123\n",
       "2        PU-167      1       1             1  1.0    PU-167\n",
       "3        PU-485      1       1             1  1.0    PU-485\n",
       "4        PU-512      1       1             1  1.0    PU-512\n",
       "...         ...    ...     ...           ...  ...       ...\n",
       "25103  PU-25104      0       0             0  0.0  PU-25104\n",
       "25104  PU-25105      0       0             0  0.0  PU-25105\n",
       "25105  PU-25106      0       0             0  0.0  PU-25106\n",
       "25106  PU-25107      0       0             0  0.0  PU-25107\n",
       "25107  PU-25108      0       0             0  0.0  PU-25108\n",
       "\n",
       "[25108 rows x 6 columns]"
      ]
     },
     "execution_count": 39,
     "metadata": {},
     "output_type": "execute_result"
    }
   ],
   "source": [
    "ONE_DF.sort_values(by=['one127', 'prc9_smt_131', 'guess'], ascending=False).reset_index(drop=True)"
   ]
  },
  {
   "cell_type": "code",
   "execution_count": 42,
   "id": "46de51c0",
   "metadata": {},
   "outputs": [
    {
     "data": {
      "application/vnd.microsoft.datawrangler.viewer.v0+json": {
       "columns": [
        {
         "name": "index",
         "rawType": "int64",
         "type": "integer"
        },
        {
         "name": "ID",
         "rawType": "object",
         "type": "string"
        },
        {
         "name": "guess",
         "rawType": "int64",
         "type": "integer"
        },
        {
         "name": "guess136",
         "rawType": "int64",
         "type": "integer"
        },
        {
         "name": "sum",
         "rawType": "float64",
         "type": "float"
        },
        {
         "name": "ID2",
         "rawType": "object",
         "type": "string"
        }
       ],
       "conversionMethod": "pd.DataFrame",
       "ref": "ac3a870c-3998-4785-b0fe-7e29e13f238c",
       "rows": [
        [
         "0",
         "PU-32",
         "1",
         "1",
         "1.0",
         "PU-32"
        ],
        [
         "1",
         "PU-123",
         "1",
         "1",
         "1.0",
         "PU-123"
        ],
        [
         "2",
         "PU-167",
         "1",
         "1",
         "1.0",
         "PU-167"
        ],
        [
         "3",
         "PU-485",
         "1",
         "1",
         "1.0",
         "PU-485"
        ],
        [
         "4",
         "PU-512",
         "1",
         "1",
         "1.0",
         "PU-512"
        ],
        [
         "5",
         "PU-609",
         "1",
         "1",
         "1.0",
         "PU-609"
        ],
        [
         "6",
         "PU-787",
         "1",
         "1",
         "1.0",
         "PU-787"
        ],
        [
         "7",
         "PU-1024",
         "1",
         "1",
         "1.0",
         "PU-1024"
        ],
        [
         "8",
         "PU-1037",
         "1",
         "1",
         "1.0",
         "PU-1037"
        ],
        [
         "9",
         "PU-1137",
         "1",
         "1",
         "1.0",
         "PU-1137"
        ],
        [
         "10",
         "PU-1268",
         "1",
         "1",
         "1.0",
         "PU-1268"
        ],
        [
         "11",
         "PU-1358",
         "1",
         "1",
         "1.0",
         "PU-1358"
        ],
        [
         "12",
         "PU-1508",
         "1",
         "1",
         "1.0",
         "PU-1508"
        ],
        [
         "13",
         "PU-2049",
         "1",
         "1",
         "1.0",
         "PU-2049"
        ],
        [
         "14",
         "PU-2195",
         "1",
         "1",
         "1.0",
         "PU-2195"
        ],
        [
         "15",
         "PU-2264",
         "1",
         "1",
         "1.0",
         "PU-2264"
        ],
        [
         "16",
         "PU-2323",
         "1",
         "1",
         "1.0",
         "PU-2323"
        ],
        [
         "17",
         "PU-2629",
         "1",
         "1",
         "1.0",
         "PU-2629"
        ],
        [
         "18",
         "PU-2991",
         "1",
         "1",
         "1.0",
         "PU-2991"
        ],
        [
         "19",
         "PU-3053",
         "1",
         "1",
         "1.0",
         "PU-3053"
        ],
        [
         "20",
         "PU-3232",
         "1",
         "1",
         "1.0",
         "PU-3232"
        ],
        [
         "21",
         "PU-3419",
         "1",
         "1",
         "1.0",
         "PU-3419"
        ],
        [
         "22",
         "PU-3539",
         "1",
         "1",
         "1.0",
         "PU-3539"
        ],
        [
         "23",
         "PU-4740",
         "1",
         "1",
         "1.0",
         "PU-4740"
        ],
        [
         "24",
         "PU-4950",
         "1",
         "1",
         "1.0",
         "PU-4950"
        ],
        [
         "25",
         "PU-4965",
         "1",
         "1",
         "1.0",
         "PU-4965"
        ],
        [
         "26",
         "PU-5087",
         "1",
         "1",
         "1.0",
         "PU-5087"
        ],
        [
         "27",
         "PU-5769",
         "1",
         "1",
         "1.0",
         "PU-5769"
        ],
        [
         "28",
         "PU-5898",
         "1",
         "1",
         "1.0",
         "PU-5898"
        ],
        [
         "29",
         "PU-5994",
         "1",
         "1",
         "1.0",
         "PU-5994"
        ],
        [
         "30",
         "PU-6179",
         "1",
         "1",
         "1.0",
         "PU-6179"
        ],
        [
         "31",
         "PU-6527",
         "1",
         "1",
         "1.0",
         "PU-6527"
        ],
        [
         "32",
         "PU-6548",
         "1",
         "1",
         "1.0",
         "PU-6548"
        ],
        [
         "33",
         "PU-6741",
         "1",
         "1",
         "1.0",
         "PU-6741"
        ],
        [
         "34",
         "PU-6925",
         "1",
         "1",
         "1.0",
         "PU-6925"
        ],
        [
         "35",
         "PU-6956",
         "1",
         "1",
         "1.0",
         "PU-6956"
        ],
        [
         "36",
         "PU-7165",
         "1",
         "1",
         "1.0",
         "PU-7165"
        ],
        [
         "37",
         "PU-7490",
         "1",
         "1",
         "1.0",
         "PU-7490"
        ],
        [
         "38",
         "PU-7661",
         "1",
         "1",
         "1.0",
         "PU-7661"
        ],
        [
         "39",
         "PU-7779",
         "1",
         "1",
         "1.0",
         "PU-7779"
        ],
        [
         "40",
         "PU-7828",
         "1",
         "1",
         "1.0",
         "PU-7828"
        ],
        [
         "41",
         "PU-7903",
         "1",
         "1",
         "1.0",
         "PU-7903"
        ],
        [
         "42",
         "PU-8151",
         "1",
         "1",
         "1.0",
         "PU-8151"
        ],
        [
         "43",
         "PU-8535",
         "1",
         "1",
         "1.0",
         "PU-8535"
        ],
        [
         "44",
         "PU-8926",
         "1",
         "1",
         "1.0",
         "PU-8926"
        ],
        [
         "45",
         "PU-9297",
         "1",
         "1",
         "1.0",
         "PU-9297"
        ],
        [
         "46",
         "PU-9478",
         "1",
         "1",
         "1.0",
         "PU-9478"
        ],
        [
         "47",
         "PU-9489",
         "1",
         "1",
         "1.0",
         "PU-9489"
        ],
        [
         "48",
         "PU-10090",
         "1",
         "1",
         "1.0",
         "PU-10090"
        ],
        [
         "49",
         "PU-10091",
         "1",
         "1",
         "1.0",
         "PU-10091"
        ]
       ],
       "shape": {
        "columns": 5,
        "rows": 25108
       }
      },
      "text/html": [
       "<div>\n",
       "<style scoped>\n",
       "    .dataframe tbody tr th:only-of-type {\n",
       "        vertical-align: middle;\n",
       "    }\n",
       "\n",
       "    .dataframe tbody tr th {\n",
       "        vertical-align: top;\n",
       "    }\n",
       "\n",
       "    .dataframe thead th {\n",
       "        text-align: right;\n",
       "    }\n",
       "</style>\n",
       "<table border=\"1\" class=\"dataframe\">\n",
       "  <thead>\n",
       "    <tr style=\"text-align: right;\">\n",
       "      <th></th>\n",
       "      <th>ID</th>\n",
       "      <th>guess</th>\n",
       "      <th>guess136</th>\n",
       "      <th>sum</th>\n",
       "      <th>ID2</th>\n",
       "    </tr>\n",
       "  </thead>\n",
       "  <tbody>\n",
       "    <tr>\n",
       "      <th>0</th>\n",
       "      <td>PU-32</td>\n",
       "      <td>1</td>\n",
       "      <td>1</td>\n",
       "      <td>1.0</td>\n",
       "      <td>PU-32</td>\n",
       "    </tr>\n",
       "    <tr>\n",
       "      <th>1</th>\n",
       "      <td>PU-123</td>\n",
       "      <td>1</td>\n",
       "      <td>1</td>\n",
       "      <td>1.0</td>\n",
       "      <td>PU-123</td>\n",
       "    </tr>\n",
       "    <tr>\n",
       "      <th>2</th>\n",
       "      <td>PU-167</td>\n",
       "      <td>1</td>\n",
       "      <td>1</td>\n",
       "      <td>1.0</td>\n",
       "      <td>PU-167</td>\n",
       "    </tr>\n",
       "    <tr>\n",
       "      <th>3</th>\n",
       "      <td>PU-485</td>\n",
       "      <td>1</td>\n",
       "      <td>1</td>\n",
       "      <td>1.0</td>\n",
       "      <td>PU-485</td>\n",
       "    </tr>\n",
       "    <tr>\n",
       "      <th>4</th>\n",
       "      <td>PU-512</td>\n",
       "      <td>1</td>\n",
       "      <td>1</td>\n",
       "      <td>1.0</td>\n",
       "      <td>PU-512</td>\n",
       "    </tr>\n",
       "    <tr>\n",
       "      <th>...</th>\n",
       "      <td>...</td>\n",
       "      <td>...</td>\n",
       "      <td>...</td>\n",
       "      <td>...</td>\n",
       "      <td>...</td>\n",
       "    </tr>\n",
       "    <tr>\n",
       "      <th>25103</th>\n",
       "      <td>PU-25104</td>\n",
       "      <td>0</td>\n",
       "      <td>0</td>\n",
       "      <td>0.0</td>\n",
       "      <td>PU-25104</td>\n",
       "    </tr>\n",
       "    <tr>\n",
       "      <th>25104</th>\n",
       "      <td>PU-25105</td>\n",
       "      <td>0</td>\n",
       "      <td>0</td>\n",
       "      <td>0.0</td>\n",
       "      <td>PU-25105</td>\n",
       "    </tr>\n",
       "    <tr>\n",
       "      <th>25105</th>\n",
       "      <td>PU-25106</td>\n",
       "      <td>0</td>\n",
       "      <td>0</td>\n",
       "      <td>0.0</td>\n",
       "      <td>PU-25106</td>\n",
       "    </tr>\n",
       "    <tr>\n",
       "      <th>25106</th>\n",
       "      <td>PU-25107</td>\n",
       "      <td>0</td>\n",
       "      <td>0</td>\n",
       "      <td>0.0</td>\n",
       "      <td>PU-25107</td>\n",
       "    </tr>\n",
       "    <tr>\n",
       "      <th>25107</th>\n",
       "      <td>PU-25108</td>\n",
       "      <td>0</td>\n",
       "      <td>0</td>\n",
       "      <td>0.0</td>\n",
       "      <td>PU-25108</td>\n",
       "    </tr>\n",
       "  </tbody>\n",
       "</table>\n",
       "<p>25108 rows × 5 columns</p>\n",
       "</div>"
      ],
      "text/plain": [
       "             ID  guess  guess136  sum       ID2\n",
       "0         PU-32      1         1  1.0     PU-32\n",
       "1        PU-123      1         1  1.0    PU-123\n",
       "2        PU-167      1         1  1.0    PU-167\n",
       "3        PU-485      1         1  1.0    PU-485\n",
       "4        PU-512      1         1  1.0    PU-512\n",
       "...         ...    ...       ...  ...       ...\n",
       "25103  PU-25104      0         0  0.0  PU-25104\n",
       "25104  PU-25105      0         0  0.0  PU-25105\n",
       "25105  PU-25106      0         0  0.0  PU-25106\n",
       "25106  PU-25107      0         0  0.0  PU-25107\n",
       "25107  PU-25108      0         0  0.0  PU-25108\n",
       "\n",
       "[25108 rows x 5 columns]"
      ]
     },
     "execution_count": 42,
     "metadata": {},
     "output_type": "execute_result"
    }
   ],
   "source": [
    "guess_list = [\n",
    "    'testing/guess.csv',\n",
    "    'testing/guess136.csv'\n",
    "]\n",
    "\n",
    "guess_df = creat_df(guess_list)\n",
    "guess_df.sort_values(by=['guess', 'guess136'], ascending=False).reset_index(drop=True)"
   ]
  },
  {
   "cell_type": "code",
   "execution_count": 49,
   "id": "a648ee19",
   "metadata": {},
   "outputs": [
    {
     "data": {
      "text/plain": [
       "0.8240963855421687"
      ]
     },
     "execution_count": 49,
     "metadata": {},
     "output_type": "execute_result"
    }
   ],
   "source": [
    "def f1(prec, recall):\n",
    "    if prec == 0 and recall == 0:\n",
    "        return 0\n",
    "    else:\n",
    "        return (2 * prec * recall) / (prec + recall)\n",
    "f1(0.76, 0.90)"
   ]
  }
 ],
 "metadata": {
  "kernelspec": {
   "display_name": "aicup",
   "language": "python",
   "name": "python3"
  },
  "language_info": {
   "codemirror_mode": {
    "name": "ipython",
    "version": 3
   },
   "file_extension": ".py",
   "mimetype": "text/x-python",
   "name": "python",
   "nbconvert_exporter": "python",
   "pygments_lexer": "ipython3",
   "version": "3.10.16"
  }
 },
 "nbformat": 4,
 "nbformat_minor": 5
}
