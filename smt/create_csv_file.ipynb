{
 "cells": [
  {
   "cell_type": "code",
   "execution_count": 1,
   "id": "27deb268",
   "metadata": {},
   "outputs": [],
   "source": [
    "import os\n",
    "\n",
    "import pandas as pd\n",
    "import numpy as np\n",
    "import lightgbm as lgb\n",
    "\n",
    "from sklearn.metrics import precision_recall_curve"
   ]
  },
  {
   "cell_type": "code",
   "execution_count": 2,
   "id": "3a46431e",
   "metadata": {},
   "outputs": [
    {
     "name": "stdout",
     "output_type": "stream",
     "text": [
      "(50216, 10213) (50216, 2)\n"
     ]
    }
   ],
   "source": [
    "val_df = pd.read_parquet('../Data/val_seed42.parquet')\n",
    "test_df = pd.read_parquet('../testing/X_all.parquet')\n",
    "tmplate = pd.read_csv('../testing/submission_template_public_and_private.csv')\n",
    "\n",
    "val_label = val_df.iloc[:,-1]\n",
    "print(test_df.shape, tmplate.shape)"
   ]
  },
  {
   "cell_type": "code",
   "execution_count": 9,
   "id": "cf63f299",
   "metadata": {},
   "outputs": [],
   "source": [
    "model_path = f\"../feat_v4/fv4_105/fv4_105_0.903_0.762_148.txt\"\n",
    "model = lgb.Booster(model_file=model_path)\n",
    "selected_features = model.feature_name()"
   ]
  },
  {
   "cell_type": "code",
   "execution_count": 11,
   "id": "0240a681",
   "metadata": {},
   "outputs": [
    {
     "name": "stdout",
     "output_type": "stream",
     "text": [
      "best_threshold: 0.00878, f1: 0.82657, precision: 0.90323, recall: 0.76190\n",
      "public test: 148, private test: 157\n",
      "test_pred: 305\n"
     ]
    }
   ],
   "source": [
    "val_prob = model.predict(val_df[selected_features])\n",
    "\n",
    "prcision, recall, thresholds = precision_recall_curve(val_label, val_prob)\n",
    "f1s = 2 * (prcision * recall) / (prcision + recall + 1e-10)\n",
    "best_index = np.argmax(f1s)\n",
    "best_threshold = thresholds[best_index]\n",
    "print(f\"best_threshold: {best_threshold:.5f}, f1: {f1s[best_index]:.5f}, precision: {prcision[best_index]:.5f}, recall: {recall[best_index]:.5f}\")\n",
    "test_prob = model.predict(test_df[selected_features])\n",
    "test_pred = (test_prob >= best_threshold).astype(int)\n",
    "num_test = test_pred.shape[0]\n",
    "print(f\"public test: {test_pred[:25108].sum()}, private test: {test_pred[25108:].sum()}\")\n",
    "print(f\"test_pred: {test_pred.sum()}\")\n"
   ]
  },
  {
   "cell_type": "code",
   "execution_count": 12,
   "id": "f53cf9e1",
   "metadata": {},
   "outputs": [],
   "source": [
    "tmplate['飆股'] = test_pred"
   ]
  },
  {
   "cell_type": "code",
   "execution_count": 13,
   "id": "76e256a1",
   "metadata": {},
   "outputs": [],
   "source": [
    "smt_name = './smt_folder/fv4_105_0.903_0.762_148.csv'\n",
    "tmplate[:25108].to_csv(smt_name, index=False)"
   ]
  },
  {
   "cell_type": "code",
   "execution_count": null,
   "id": "c524f4f8",
   "metadata": {},
   "outputs": [],
   "source": [
    "# smt_name = './test_smt_folder/fv4_105_0.884_0.779_159.csv'\n",
    "# tmplate.to_csv(smt_name, index=False)"
   ]
  },
  {
   "cell_type": "code",
   "execution_count": 14,
   "id": "c52c59a7",
   "metadata": {},
   "outputs": [
    {
     "data": {
      "text/plain": [
       "飆股\n",
       "0    24960\n",
       "1      148\n",
       "Name: count, dtype: int64"
      ]
     },
     "execution_count": 14,
     "metadata": {},
     "output_type": "execute_result"
    }
   ],
   "source": [
    "tmp = pd.read_csv(smt_name)\n",
    "tmp['飆股'].value_counts()"
   ]
  },
  {
   "cell_type": "markdown",
   "id": "2927668b",
   "metadata": {},
   "source": [
    "---"
   ]
  },
  {
   "cell_type": "code",
   "execution_count": null,
   "id": "fa235f83",
   "metadata": {},
   "outputs": [],
   "source": [
    "model_file_list = []\n",
    "\n",
    "file_dir = '../feat_v4/fv4_223'\n",
    "fv4_223_list = []\n",
    "\n",
    "for file in os.listdir(file_dir):\n",
    "    elment = file.split('_')\n",
    "    if (float(elment[2]) > 0.93) and (float(elment[3]) > 0.7):\n",
    "        model_file_list.append(file)\n",
    "print(f'model_file_list: {model_file_list}')"
   ]
  },
  {
   "cell_type": "code",
   "execution_count": null,
   "id": "516dbc90",
   "metadata": {},
   "outputs": [],
   "source": [
    "for m in model_file_list:\n",
    "    element = m.split('_')\n",
    "    folder = f\"{element[0]}_{element[1]}\"\n",
    "    path = f\"../feat_v4/{folder}/{m}\"\n",
    "    model = lgb.Booster(model_file=path)\n",
    "\n",
    "    selected_features = model.feature_name()\n",
    "\n",
    "    val_prob = model.predict(val_df[selected_features])\n",
    "    precision, recall, thresholds = precision_recall_curve(val_label, val_prob)\n",
    "    f1s = 2 * precision * recall / (precision + recall + 1e-10)\n",
    "    best_index = np.argmax(f1s)\n",
    "    best_thres = thresholds[best_index]\n",
    "    print(f\"Best threshold: {best_thres}\")\n",
    "\n",
    "    test_prob = model.predict(test_df[selected_features])\n",
    "    test_pred = (test_prob > best_thres).astype(int)\n",
    "\n",
    "    tmplate['飆股'] = test_pred\n",
    "    csv_name = f'./csv_file/{folder}/{m.split(\".txt\")[0]}.csv'\n",
    "    tmplate.to_csv(csv_name, index=False)\n",
    "    print(f\"csv_name: {csv_name}\")\n",
    "\n",
    "    tmp = pd.read_csv(csv_name)\n",
    "    print(tmp['飆股'].value_counts())\n",
    "    print()"
   ]
  }
 ],
 "metadata": {
  "kernelspec": {
   "display_name": "aicup",
   "language": "python",
   "name": "python3"
  },
  "language_info": {
   "codemirror_mode": {
    "name": "ipython",
    "version": 3
   },
   "file_extension": ".py",
   "mimetype": "text/x-python",
   "name": "python",
   "nbconvert_exporter": "python",
   "pygments_lexer": "ipython3",
   "version": "3.10.16"
  }
 },
 "nbformat": 4,
 "nbformat_minor": 5
}
